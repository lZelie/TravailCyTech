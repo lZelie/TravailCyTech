{
 "cells": [
  {
   "cell_type": "markdown",
   "source": [
    "## <center><h1>**Data preprocessing**</h1>\n",
    "<center> </br>Astrid Jourdan & Peio Loubière & Yannick Le Nir<br/>"
   ],
   "metadata": {
    "collapsed": false
   },
   "id": "1ea6f549f94a38ff"
  },
  {
   "cell_type": "markdown",
   "id": "f56ebe6e",
   "metadata": {
    "id": "f56ebe6e"
   },
   "source": [
    "This tutorial is about data preparation:\n",
    "- import a dataset\n",
    "- checking the type of the variables\n",
    "- checking the distribution of the target variable\n",
    "- creation of a training set and a test set\n",
    "- scaling the variables\n",
    "- encoding the categorical variables"
   ]
  },
  {
   "cell_type": "code",
   "execution_count": 4,
   "id": "77b42727",
   "metadata": {
    "id": "77b42727",
    "executionInfo": {
     "status": "ok",
     "timestamp": 1698068623793,
     "user_tz": -120,
     "elapsed": 1815,
     "user": {
      "displayName": "Astrid Jourdan",
      "userId": "07350899265996258726"
     }
    },
    "ExecuteTime": {
     "end_time": "2023-11-08T09:17:12.640071574Z",
     "start_time": "2023-11-08T09:17:12.636687430Z"
    }
   },
   "outputs": [],
   "source": [
    "# Library importations\n",
    "\n",
    "import math\n",
    "import pandas as pnd\n",
    "import matplotlib.pyplot as plt\n",
    "from sklearn.model_selection import train_test_split\n",
    "from sklearn.preprocessing import StandardScaler"
   ]
  },
  {
   "cell_type": "markdown",
   "id": "ba9c1388",
   "metadata": {
    "id": "ba9c1388"
   },
   "source": [
    "# **Data importation**\n",
    "<br/>\n",
    "The dataset is the multi-spectral values of pixels in 3x3 neighborhoods in a satellite image, and the classification associated with the central pixel in each neighborhood. The target variable is the soil type : <br/><center><i> red soil - cotton crop - grey soil - damp grey soil - soil with vegetation stubble - very damp grey soil </i></center>\n",
    "\n",
    "We display the dimensions and the first three rows to make sure that the file has been read correctly <br/>\n",
    "<br/>"
   ]
  },
  {
   "cell_type": "code",
   "execution_count": 5,
   "id": "5d84c886",
   "metadata": {
    "id": "5d84c886",
    "ExecuteTime": {
     "end_time": "2023-11-08T09:17:16.704564994Z",
     "start_time": "2023-11-08T09:17:16.679787061Z"
    }
   },
   "outputs": [
    {
     "name": "stdout",
     "output_type": "stream",
     "text": [
      "The column names are: Index(['x1', 'x2', 'x3', 'x4', 'x5', 'x6', 'x7', 'x8', 'x9', 'x10', 'x11',\n",
      "       'x12', 'x13', 'x14', 'x15', 'x16', 'x17', 'x18', 'x19', 'x20', 'x21',\n",
      "       'x22', 'x23', 'x24', 'x25', 'x26', 'x27', 'x28', 'x29', 'x30', 'x31',\n",
      "       'x32', 'x33', 'x34', 'x35', 'x36', 'SoilType'],\n",
      "      dtype='object')\n",
      "The row names are: Index([   1,    2,    3,    4,    5,    6,    7,    8,    9,   10,\n",
      "       ...\n",
      "       6426, 6427, 6428, 6429, 6430, 6431, 6432, 6433, 6434, 6435],\n",
      "      dtype='int64', length=6435)\n",
      "The dimension of the dataset :  (6435, 37)\n"
     ]
    },
    {
     "data": {
      "text/plain": "   x1   x2   x3  x4  x5   x6   x7  x8  x9  x10  ...  x28  x29  x30  x31  x32  \\\n1  92  115  120  94  84  102  106  79  84  102  ...  104   88  121  128  100   \n2  84  102  106  79  84  102  102  83  80  102  ...  100   84  107  113   87   \n3  84  102  102  83  80  102  102  79  84   94  ...   87   84   99  104   79   \n\n   x33  x34  x35  x36   SoilType  \n1   84  107  113   87  grey soil  \n2   84   99  104   79  grey soil  \n3   84   99  104   79  grey soil  \n\n[3 rows x 37 columns]",
      "text/html": "<div>\n<style scoped>\n    .dataframe tbody tr th:only-of-type {\n        vertical-align: middle;\n    }\n\n    .dataframe tbody tr th {\n        vertical-align: top;\n    }\n\n    .dataframe thead th {\n        text-align: right;\n    }\n</style>\n<table border=\"1\" class=\"dataframe\">\n  <thead>\n    <tr style=\"text-align: right;\">\n      <th></th>\n      <th>x1</th>\n      <th>x2</th>\n      <th>x3</th>\n      <th>x4</th>\n      <th>x5</th>\n      <th>x6</th>\n      <th>x7</th>\n      <th>x8</th>\n      <th>x9</th>\n      <th>x10</th>\n      <th>...</th>\n      <th>x28</th>\n      <th>x29</th>\n      <th>x30</th>\n      <th>x31</th>\n      <th>x32</th>\n      <th>x33</th>\n      <th>x34</th>\n      <th>x35</th>\n      <th>x36</th>\n      <th>SoilType</th>\n    </tr>\n  </thead>\n  <tbody>\n    <tr>\n      <th>1</th>\n      <td>92</td>\n      <td>115</td>\n      <td>120</td>\n      <td>94</td>\n      <td>84</td>\n      <td>102</td>\n      <td>106</td>\n      <td>79</td>\n      <td>84</td>\n      <td>102</td>\n      <td>...</td>\n      <td>104</td>\n      <td>88</td>\n      <td>121</td>\n      <td>128</td>\n      <td>100</td>\n      <td>84</td>\n      <td>107</td>\n      <td>113</td>\n      <td>87</td>\n      <td>grey soil</td>\n    </tr>\n    <tr>\n      <th>2</th>\n      <td>84</td>\n      <td>102</td>\n      <td>106</td>\n      <td>79</td>\n      <td>84</td>\n      <td>102</td>\n      <td>102</td>\n      <td>83</td>\n      <td>80</td>\n      <td>102</td>\n      <td>...</td>\n      <td>100</td>\n      <td>84</td>\n      <td>107</td>\n      <td>113</td>\n      <td>87</td>\n      <td>84</td>\n      <td>99</td>\n      <td>104</td>\n      <td>79</td>\n      <td>grey soil</td>\n    </tr>\n    <tr>\n      <th>3</th>\n      <td>84</td>\n      <td>102</td>\n      <td>102</td>\n      <td>83</td>\n      <td>80</td>\n      <td>102</td>\n      <td>102</td>\n      <td>79</td>\n      <td>84</td>\n      <td>94</td>\n      <td>...</td>\n      <td>87</td>\n      <td>84</td>\n      <td>99</td>\n      <td>104</td>\n      <td>79</td>\n      <td>84</td>\n      <td>99</td>\n      <td>104</td>\n      <td>79</td>\n      <td>grey soil</td>\n    </tr>\n  </tbody>\n</table>\n<p>3 rows × 37 columns</p>\n</div>"
     },
     "execution_count": 5,
     "metadata": {},
     "output_type": "execute_result"
    }
   ],
   "source": [
    "# File import\n",
    "dataset = pnd.read_csv(\"Landsat.txt\", delimiter=\" \")\n",
    "\n",
    "# Displays the column and row names\n",
    "print(\"The column names are:\",dataset.columns)\n",
    "print(\"The row names are:\",dataset.index)\n",
    "\n",
    "# Display the dimensions\n",
    "print(\"The dimension of the dataset : \",dataset.shape)\n",
    "\n",
    "# Display the first three rows\n",
    "dataset.head(3)\n",
    "# Display all the dataset\n",
    "#print(dataset.info)\n"
   ]
  },
  {
   "cell_type": "markdown",
   "id": "a6a609bf",
   "metadata": {
    "id": "a6a609bf"
   },
   "source": [
    "<br/> **Variables type**<br/>\n",
    "All the input variables are numerical in this dataset (int64). The target variable is categorical (object).\n",
    "For the preprocessing, we need to get the list of numerical variables (for the normalization) and the list of categorical variables (for the encoding)."
   ]
  },
  {
   "cell_type": "code",
   "execution_count": 3,
   "id": "fe0584ec",
   "metadata": {
    "id": "fe0584ec",
    "ExecuteTime": {
     "end_time": "2023-11-08T09:13:53.529076050Z",
     "start_time": "2023-11-08T09:13:53.523365884Z"
    }
   },
   "outputs": [
    {
     "name": "stdout",
     "output_type": "stream",
     "text": [
      "The variable type: \n",
      " x1           int64\n",
      "x2           int64\n",
      "x3           int64\n",
      "x4           int64\n",
      "x5           int64\n",
      "x6           int64\n",
      "x7           int64\n",
      "x8           int64\n",
      "x9           int64\n",
      "x10          int64\n",
      "x11          int64\n",
      "x12          int64\n",
      "x13          int64\n",
      "x14          int64\n",
      "x15          int64\n",
      "x16          int64\n",
      "x17          int64\n",
      "x18          int64\n",
      "x19          int64\n",
      "x20          int64\n",
      "x21          int64\n",
      "x22          int64\n",
      "x23          int64\n",
      "x24          int64\n",
      "x25          int64\n",
      "x26          int64\n",
      "x27          int64\n",
      "x28          int64\n",
      "x29          int64\n",
      "x30          int64\n",
      "x31          int64\n",
      "x32          int64\n",
      "x33          int64\n",
      "x34          int64\n",
      "x35          int64\n",
      "x36          int64\n",
      "SoilType    object\n",
      "dtype: object\n",
      "\n",
      "\n",
      "List of categorical variables: \n",
      " ['SoilType']\n",
      "\n",
      "\n",
      "List of numerical variables: \n",
      " ['x1', 'x2', 'x3', 'x4', 'x5', 'x6', 'x7', 'x8', 'x9', 'x10', 'x11', 'x12', 'x13', 'x14', 'x15', 'x16', 'x17', 'x18', 'x19', 'x20', 'x21', 'x22', 'x23', 'x24', 'x25', 'x26', 'x27', 'x28', 'x29', 'x30', 'x31', 'x32', 'x33', 'x34', 'x35', 'x36']\n"
     ]
    }
   ],
   "source": [
    "# Displays the variable type\n",
    "print(\"The variable type: \\n\",dataset.dtypes)\n",
    "print(\"\\n\")\n",
    "\n",
    "# Displays the categorical variables\n",
    "ListVarCat = dataset.select_dtypes(include=['object']).columns.tolist()\n",
    "print(\"List of categorical variables: \\n\", ListVarCat)\n",
    "print(\"\\n\")\n",
    "\n",
    "# Display the numeric variables\n",
    "ListVarNum = dataset.select_dtypes(exclude=['object']).columns.tolist()\n",
    "print(\"List of numerical variables: \\n\",ListVarNum)\n"
   ]
  },
  {
   "cell_type": "markdown",
   "id": "3042dd32",
   "metadata": {
    "id": "3042dd32"
   },
   "source": [
    "**Target distribution**\n",
    "<br/>\n",
    "It is necessary to check the distribution of the target variable to ensure that the classes are not unbalanced. We display the table of the numbers of examples in each class as well as a frequency diagram. <br/>\n",
    "<br/>\n",
    "When the target variable is unbalanced two common stategies are used :\n",
    "\n",
    "*   \n",
    "Data reduction : when the number of examples in each class is large enough,\n",
    "\n",
    "*   Data augmentation : when the number of examples in a class is too small, we increase the size of the class by artificially creating new examples in this class (with images we apply transformations: filter, rotation,...)\n"
   ]
  },
  {
   "cell_type": "code",
   "execution_count": 7,
   "id": "5d6518c8",
   "metadata": {
    "id": "5d6518c8",
    "ExecuteTime": {
     "end_time": "2023-11-08T09:18:11.116596124Z",
     "start_time": "2023-11-08T09:18:10.984927760Z"
    }
   },
   "outputs": [
    {
     "name": "stdout",
     "output_type": "stream",
     "text": [
      "Distribution : \n",
      " SoilType\n",
      "red soil               1533\n",
      "very damp grey soil    1508\n",
      "grey soil              1358\n",
      "vegetation stubble      707\n",
      "cotton crop             703\n",
      "damp grey soil          626\n",
      "Name: count, dtype: int64\n"
     ]
    },
    {
     "data": {
      "text/plain": "<matplotlib.axes._subplots.AxesSubplot at 0x7f0feb485160>"
     },
     "execution_count": 7,
     "metadata": {},
     "output_type": "execute_result"
    },
    {
     "data": {
      "text/plain": "<Figure size 640x480 with 1 Axes>",
      "image/png": "[encoded data removed]"
     },
     "metadata": {},
     "output_type": "display_data"
    }
   ],
   "source": [
    "# Distribution\n",
    "print(\"Distribution : \\n\", dataset['SoilType'].value_counts())\n",
    "print(\"\\n\")\n",
    "\n",
    "# Barplot\n",
    "dataset.groupby('SoilType').size().plot.bar(title=\"Soil type distribution\", ylabel='Nb of examples')\n",
    "\n",
    "\n",
    "# or with a pie\n",
    "# dataset.groupby('SoilType').size().plot.pie(title=\"Soil type distribution\", ylabel='', autopct='%.2f')\n"
   ]
  },
  {
   "cell_type": "markdown",
   "id": "iNFyggfIHFNn",
   "metadata": {
    "id": "iNFyggfIHFNn"
   },
   "source": [
    "# **Data preprocessing**\n",
    "**Separation of the input variables and the target variable**\n",
    "\n",
    "We use the function *drop* to remove the target variable and create a dataset with the input variables (x) only.\n",
    "We create a vector with the target variable only (y)."
   ]
  },
  {
   "cell_type": "code",
   "execution_count": 8,
   "id": "HFPs1W6PHCAE",
   "metadata": {
    "id": "HFPs1W6PHCAE",
    "ExecuteTime": {
     "end_time": "2023-11-08T09:21:20.105607070Z",
     "start_time": "2023-11-08T09:21:20.103152997Z"
    }
   },
   "outputs": [
    {
     "name": "stdout",
     "output_type": "stream",
     "text": [
      "Inputs: \n",
      "    x1   x2   x3  x4  x5   x6   x7  x8  x9  x10  ...  x27  x28  x29  x30  x31  \\\n",
      "1  92  115  120  94  84  102  106  79  84  102  ...  134  104   88  121  128   \n",
      "2  84  102  106  79  84  102  102  83  80  102  ...  128  100   84  107  113   \n",
      "3  84  102  102  83  80  102  102  79  84   94  ...  113   87   84   99  104   \n",
      "\n",
      "   x32  x33  x34  x35  x36  \n",
      "1  100   84  107  113   87  \n",
      "2   87   84   99  104   79  \n",
      "3   79   84   99  104   79  \n",
      "\n",
      "[3 rows x 36 columns]\n",
      "\n",
      "\n",
      "Target : \n",
      " 1    grey soil\n",
      "2    grey soil\n",
      "3    grey soil\n",
      "Name: SoilType, dtype: object\n",
      "\n",
      "\n",
      "The number of examples is 6435\n",
      "The number of input variables is 36\n"
     ]
    }
   ],
   "source": [
    "x = dataset.drop(columns=['SoilType']) # Attribute columns\n",
    "y = dataset['SoilType'] # Target column\n",
    "\n",
    "print(\"Inputs: \\n\",x[0:3])\n",
    "print(\"\\n\")\n",
    "print(\"Target : \\n\",y[0:3])\n",
    "print(\"\\n\")\n",
    "\n",
    "n = x.shape[0] # number of examples\n",
    "d = x.shape[1] #number of input variables\n",
    "print(\"The number of examples is\",n)\n",
    "print(\"The number of input variables is\",d)"
   ]
  },
  {
   "cell_type": "markdown",
   "id": "50db606e",
   "metadata": {
    "id": "50db606e"
   },
   "source": [
    "**Training, validation and test subsets**\n",
    "- The training data set is used to find the optimal parameters of the model (the weights for a neural network). Here, we use 70% of the original dataset.\n",
    "- The validation data set is used to fing the best hyperparameters of the model (number of layers, activation functions, optimization algorithm parameters,...). Here we used 15% of the original data set\n",
    "- The test data set is use to measure the performance of the model with examples that were never used to build it. Here, we use 15% of the original dataset.\n",
    " </br>\n",
    "  </br>\n",
    "The function\n",
    " </br>\n",
    "&nbsp;&nbsp;&nbsp;&nbsp;&nbsp;&nbsp;&nbsp;&nbsp;&nbsp;<i>train_test_split(x, y, train_size = fraction of the training set)</i></br>\n",
    "from library sklearn, splits a dataset (x,y) into two parts. We use it a fisrt time with the original data to create the training dataset and a second time with the rest of the dataset to obtain the validation and test datasets.\n"
   ]
  },
  {
   "cell_type": "code",
   "execution_count": 10,
   "id": "c33a450d",
   "metadata": {
    "id": "c33a450d",
    "ExecuteTime": {
     "end_time": "2023-11-08T09:26:43.942099474Z",
     "start_time": "2023-11-08T09:26:43.926161512Z"
    }
   },
   "outputs": [
    {
     "name": "stdout",
     "output_type": "stream",
     "text": [
      "Dimensions of the train dataset: (4504, 36)\n",
      "Dimensions of the remaining dataset: (1931, 36)\n",
      "\n",
      "\n",
      "Dimensions of the validation dataset: (965, 36)\n",
      "Dimensions of the test dataset: (966, 36)\n"
     ]
    },
    {
     "data": {
      "text/plain": "      x1   x2   x3   x4  x5   x6   x7   x8  x9  x10  ...  x27  x28  x29  x30  \\\n1289  82  100  100   85  78   87   92   78  63   56  ...  114   90   93  115   \n1116  80   89   94   76  72   81   94   76  57   49  ...   96   79   84   99   \n583   56   53  108  107  49   37  122  125  43   32  ...  129  140   44   34   \n3648  88  112  122   92  88  107  113   92  88  107  ...  104   81   86  104   \n1565  71   75   83   70  68   75   83   67  71   79  ...   73   66   66   71   \n\n      x31  x32  x33  x34  x35  x36  \n1289  110   90   89  102  105   80  \n1116   96   79   75   87   93   75  \n583   124  133   44   34  124  136  \n3648  108   85   90  104  108   89  \n1565   80   66   66   75   80   70  \n\n[5 rows x 36 columns]",
      "text/html": "<div>\n<style scoped>\n    .dataframe tbody tr th:only-of-type {\n        vertical-align: middle;\n    }\n\n    .dataframe tbody tr th {\n        vertical-align: top;\n    }\n\n    .dataframe thead th {\n        text-align: right;\n    }\n</style>\n<table border=\"1\" class=\"dataframe\">\n  <thead>\n    <tr style=\"text-align: right;\">\n      <th></th>\n      <th>x1</th>\n      <th>x2</th>\n      <th>x3</th>\n      <th>x4</th>\n      <th>x5</th>\n      <th>x6</th>\n      <th>x7</th>\n      <th>x8</th>\n      <th>x9</th>\n      <th>x10</th>\n      <th>...</th>\n      <th>x27</th>\n      <th>x28</th>\n      <th>x29</th>\n      <th>x30</th>\n      <th>x31</th>\n      <th>x32</th>\n      <th>x33</th>\n      <th>x34</th>\n      <th>x35</th>\n      <th>x36</th>\n    </tr>\n  </thead>\n  <tbody>\n    <tr>\n      <th>1289</th>\n      <td>82</td>\n      <td>100</td>\n      <td>100</td>\n      <td>85</td>\n      <td>78</td>\n      <td>87</td>\n      <td>92</td>\n      <td>78</td>\n      <td>63</td>\n      <td>56</td>\n      <td>...</td>\n      <td>114</td>\n      <td>90</td>\n      <td>93</td>\n      <td>115</td>\n      <td>110</td>\n      <td>90</td>\n      <td>89</td>\n      <td>102</td>\n      <td>105</td>\n      <td>80</td>\n    </tr>\n    <tr>\n      <th>1116</th>\n      <td>80</td>\n      <td>89</td>\n      <td>94</td>\n      <td>76</td>\n      <td>72</td>\n      <td>81</td>\n      <td>94</td>\n      <td>76</td>\n      <td>57</td>\n      <td>49</td>\n      <td>...</td>\n      <td>96</td>\n      <td>79</td>\n      <td>84</td>\n      <td>99</td>\n      <td>96</td>\n      <td>79</td>\n      <td>75</td>\n      <td>87</td>\n      <td>93</td>\n      <td>75</td>\n    </tr>\n    <tr>\n      <th>583</th>\n      <td>56</td>\n      <td>53</td>\n      <td>108</td>\n      <td>107</td>\n      <td>49</td>\n      <td>37</td>\n      <td>122</td>\n      <td>125</td>\n      <td>43</td>\n      <td>32</td>\n      <td>...</td>\n      <td>129</td>\n      <td>140</td>\n      <td>44</td>\n      <td>34</td>\n      <td>124</td>\n      <td>133</td>\n      <td>44</td>\n      <td>34</td>\n      <td>124</td>\n      <td>136</td>\n    </tr>\n    <tr>\n      <th>3648</th>\n      <td>88</td>\n      <td>112</td>\n      <td>122</td>\n      <td>92</td>\n      <td>88</td>\n      <td>107</td>\n      <td>113</td>\n      <td>92</td>\n      <td>88</td>\n      <td>107</td>\n      <td>...</td>\n      <td>104</td>\n      <td>81</td>\n      <td>86</td>\n      <td>104</td>\n      <td>108</td>\n      <td>85</td>\n      <td>90</td>\n      <td>104</td>\n      <td>108</td>\n      <td>89</td>\n    </tr>\n    <tr>\n      <th>1565</th>\n      <td>71</td>\n      <td>75</td>\n      <td>83</td>\n      <td>70</td>\n      <td>68</td>\n      <td>75</td>\n      <td>83</td>\n      <td>67</td>\n      <td>71</td>\n      <td>79</td>\n      <td>...</td>\n      <td>73</td>\n      <td>66</td>\n      <td>66</td>\n      <td>71</td>\n      <td>80</td>\n      <td>66</td>\n      <td>66</td>\n      <td>75</td>\n      <td>80</td>\n      <td>70</td>\n    </tr>\n  </tbody>\n</table>\n<p>5 rows × 36 columns</p>\n</div>"
     },
     "execution_count": 10,
     "metadata": {},
     "output_type": "execute_result"
    }
   ],
   "source": [
    "# First Split : 70% training set and 30% for the test and validation sets\n",
    "xTrain, xRest, yTrain, yRest = train_test_split(x, y, train_size = 0.7, random_state = 42)\n",
    "\n",
    "print(\"Dimensions of the train dataset:\",xTrain.shape)\n",
    "print(\"Dimensions of the remaining dataset:\",xRest.shape)\n",
    "print(\"\\n\")\n",
    "\n",
    "# Second split : 15% for the validation set and 15% for the test set\n",
    "xVal, xTest, yVal, yTest = train_test_split(xRest, yRest, train_size = 0.5, random_state = 42)\n",
    "\n",
    "print(\"Dimensions of the validation dataset:\",xVal.shape)\n",
    "print(\"Dimensions of the test dataset:\",xTest.shape)\n",
    "print(\"\\n\")\n",
    "\n",
    "xTrain.head()\n"
   ]
  },
  {
   "cell_type": "markdown",
   "id": "b9f325b0",
   "metadata": {
    "id": "b9f325b0"
   },
   "source": [
    "We can check the target distribution in the training set. The function <i>groupby</i> works with a dataframe. The resulting y (yTrain, yVal and yTest) after splitting is no more a dataframe. In particular, we loose the name of the column. We have to transform it into a dataframe."
   ]
  },
  {
   "cell_type": "code",
   "execution_count": 11,
   "id": "89721e71",
   "metadata": {
    "id": "89721e71",
    "ExecuteTime": {
     "end_time": "2023-11-08T09:33:06.227503134Z",
     "start_time": "2023-11-08T09:33:06.142835867Z"
    }
   },
   "outputs": [
    {
     "name": "stdout",
     "output_type": "stream",
     "text": [
      "y is a vector:\n",
      " 1289              grey soil\n",
      "1116         damp grey soil\n",
      "583             cotton crop\n",
      "3648              grey soil\n",
      "1565    very damp grey soil\n",
      "Name: SoilType, dtype: object\n",
      "\n",
      "\n",
      "y is a dataframe:\n",
      "                  SoilType\n",
      "1289            grey soil\n",
      "1116       damp grey soil\n",
      "583           cotton crop\n",
      "3648            grey soil\n",
      "1565  very damp grey soil\n"
     ]
    },
    {
     "data": {
      "text/plain": "<Figure size 640x480 with 1 Axes>",
      "image/png": "[encoded data removed]"
     },
     "metadata": {},
     "output_type": "display_data"
    }
   ],
   "source": [
    "print(\"y is a vector:\\n\",yTrain[0:5]) # yTrain is a vector and not a dataframe\n",
    "print(\"\\n\")\n",
    "\n",
    "yTrain= pnd.DataFrame(yTrain, columns=[\"SoilType\"]) # Transformation into a dataframe\n",
    "\n",
    "print(\"y is a dataframe:\\n\",yTrain[0:5]) # yTrain is now a dataframe\n",
    "\n",
    "# Verification of the target distribution\n",
    "yTrain.groupby('SoilType').size().plot.bar(title=\"Soil type Train distribution\", ylabel='Nb of examples')\n",
    "\n",
    "\n",
    "yVal= pnd.DataFrame(yVal, columns=[\"SoilType\"])\n",
    "yTest= pnd.DataFrame(yTest, columns=[\"SoilType\"])"
   ]
  },
  {
   "cell_type": "markdown",
   "id": "f0b6a813",
   "metadata": {
    "id": "f0b6a813"
   },
   "source": [
    "**Encoding the target variable**\n",
    " </br>\n",
    "To encode the categorical variables into binary variables, we use the function </br>\n",
    "</br>\n",
    "&nbsp;&nbsp;&nbsp;&nbsp;&nbsp;&nbsp;&nbsp;&nbsp;&nbsp;<i>pnd.get_dummies(X)</i></br>\n",
    "</br>\n",
    "where X is a dataset with only categorical variables.</br>\n",
    "</br>"
   ]
  },
  {
   "cell_type": "code",
   "execution_count": 12,
   "id": "65266230",
   "metadata": {
    "id": "65266230",
    "outputId": "54c0fcb7-62b9-4e9c-f5fc-d186437a7623",
    "ExecuteTime": {
     "end_time": "2023-11-08T09:37:40.538659596Z",
     "start_time": "2023-11-08T09:37:40.493962820Z"
    }
   },
   "outputs": [
    {
     "name": "stdout",
     "output_type": "stream",
     "text": [
      "Target variable before binarization \n",
      "             SoilType\n",
      "1289       grey soil\n",
      "1116  damp grey soil\n",
      "583      cotton crop\n",
      "\n",
      "\n",
      "Target variable after binarization \n",
      "       SoilType_cotton crop  SoilType_damp grey soil  SoilType_grey soil  \\\n",
      "1289                 False                    False                True   \n",
      "1116                 False                     True               False   \n",
      "583                   True                    False               False   \n",
      "\n",
      "      SoilType_red soil  SoilType_vegetation stubble  \\\n",
      "1289              False                        False   \n",
      "1116              False                        False   \n",
      "583               False                        False   \n",
      "\n",
      "      SoilType_very damp grey soil  \n",
      "1289                         False  \n",
      "1116                         False  \n",
      "583                          False  \n",
      "\n",
      "\n",
      "The number of categories is 6\n"
     ]
    }
   ],
   "source": [
    "# Encode the target variable in the training set\n",
    "print(\"Target variable before binarization \\n\",yTrain.head(3)) # Before binarization\n",
    "print(\"\\n\")\n",
    "yTrain=pnd.get_dummies(yTrain)\n",
    "print(\"Target variable after binarization \\n\",yTrain.head(3)) # After binarization\n",
    "print(\"\\n\")\n",
    "\n",
    "# Number of categories\n",
    "p = yTrain.shape[1] #number of classes\n",
    "print(\"The number of categories is\",p)\n",
    "\n",
    "\n",
    "yVal=pnd.get_dummies(yVal)\n",
    "yTest=pnd.get_dummies(yTest)"
   ]
  },
  {
   "cell_type": "markdown",
   "id": "ec7a664a",
   "metadata": {
    "id": "ec7a664a"
   },
   "source": [
    "<br/>\n",
    "Now that the datasets are ready, we will normalize the training set. To each variable X, we apply the transformation (X-mu)/sigma where mu is the mean of X and sigma its standard deviation. The result is a variable such that mu=0 and sigma=1.\n",
    "Then, we apply the same transformation to the test and validation datasets (with mu and sigma from the training set).\n",
    "<br/>\n",
    "<br/>"
   ]
  },
  {
   "cell_type": "code",
   "execution_count": 13,
   "id": "c4cb0f62",
   "metadata": {
    "id": "c4cb0f62",
    "ExecuteTime": {
     "end_time": "2023-11-08T09:41:24.234843655Z",
     "start_time": "2023-11-08T09:41:24.208636623Z"
    }
   },
   "outputs": [
    {
     "name": "stdout",
     "output_type": "stream",
     "text": [
      "Training set\n",
      "Means before normalization:  [69.24666963 83.36567496 99.39431616 82.82748668 68.95692718 82.96025755\n",
      " 99.21936057 82.76154529 68.73823268 82.63832149 99.01865009 82.69293961\n",
      " 69.12211368 83.23645648 99.36101243 82.78863233 68.8785524  82.94649201\n",
      " 99.26021314 82.81216696 68.69782416 82.68183837 99.13188277 82.75199822\n",
      " 69.01087922 83.19760213 99.2955151  82.80195382 68.79351687 82.95248668\n",
      " 99.22313499 82.76687389 68.62433393 82.68716696 99.06927176 82.72091474]\n",
      "Variance before normalization:  [186.01708482 534.68666371 278.33252542 364.64852512 185.94841116\n",
      " 534.58567631 277.97674773 366.49287292 182.40461286 533.23619576\n",
      " 276.90640173 364.82955939 185.42336534 530.00914162 279.17650839\n",
      " 364.85674467 184.4042114  532.19140865 282.09436727 368.32750738\n",
      " 182.86583896 533.42252984 281.15667443 368.91562656 186.1968177\n",
      " 528.68120207 278.88980227 366.12552016 184.18116578 529.50440323\n",
      " 280.73196033 367.86305897 181.63152154 527.99161151 279.4476881\n",
      " 368.22872776]\n",
      "\n",
      "\n",
      "Means after normalization:  [-2.01930440e-16  4.57498653e-17  4.19636696e-16 -1.23051362e-16\n",
      "  4.48033164e-16 -2.42158770e-16 -2.91852589e-16 -2.09818348e-16\n",
      "  4.30679767e-16 -1.53025412e-16 -1.20684990e-16  3.31292128e-17\n",
      " -4.48033164e-16  2.16128674e-16 -3.30503337e-16 -4.73274469e-18\n",
      "  8.20342413e-17  7.41463334e-17  3.74675621e-16  1.38827178e-16\n",
      "  3.97550554e-16  4.73274469e-17  2.22439000e-16 -6.62584256e-17\n",
      "  8.36118228e-17 -3.17882685e-16  2.05874394e-16 -1.84577043e-16\n",
      "  3.34447291e-16 -9.14997306e-17 -3.30503337e-16 -1.41982341e-16\n",
      "  3.91240228e-16  1.16741036e-16  2.69766447e-16 -1.32516851e-16]\n",
      "Variance after normalization:  [1. 1. 1. 1. 1. 1. 1. 1. 1. 1. 1. 1. 1. 1. 1. 1. 1. 1. 1. 1. 1. 1. 1. 1.\n",
      " 1. 1. 1. 1. 1. 1. 1. 1. 1. 1. 1. 1.]\n"
     ]
    },
    {
     "data": {
      "text/plain": "         x1        x2        x3        x4        x5        x6        x7  \\\n0  0.935077  0.719375  0.036305  0.113769  0.663162  0.174721 -0.433007   \n1  0.788436  0.243664 -0.323336 -0.357539  0.223160 -0.084782 -0.313050   \n2 -0.971248 -1.313207  0.515826  1.265857 -1.463516 -1.987805  1.366349   \n3  1.374998  1.238333  1.354989  0.480343  1.396500  1.039731  0.826542   \n4  0.128555 -0.361786 -0.982678 -0.671745 -0.070175 -0.344285 -0.972813   \n\n         x8        x9       x10  ...       x27       x28       x29       x30  \\\n0 -0.248723 -0.424874 -1.153578  ...  0.880508  0.376183  1.783648  1.392706   \n1 -0.353194 -0.869130 -1.456715  ... -0.197336 -0.198697  1.120485  0.697386   \n2  2.206354 -1.905728 -2.192903  ...  1.778712  2.989277 -1.826903 -2.127355   \n3  0.482577  1.426193  1.054988  ...  0.281706 -0.094173  1.267855  0.914673   \n4 -0.823315  0.167467 -0.157558  ... -1.574582 -0.878102 -0.205839 -0.519426   \n\n        x31       x32       x33       x34       x35       x36  \n0  0.643201  0.377123  1.511876  0.840490  0.354779 -0.141793  \n1 -0.192368 -0.196398  0.473075  0.187693 -0.363067 -0.402355  \n2  1.478769  2.619070 -1.827128 -2.118854  1.491368  2.776502  \n3  0.523834  0.116431  1.586076  0.927529  0.534240  0.327218  \n4 -1.147303 -0.874196 -0.194726 -0.334544 -1.140733 -0.662918  \n\n[5 rows x 36 columns]",
      "text/html": "<div>\n<style scoped>\n    .dataframe tbody tr th:only-of-type {\n        vertical-align: middle;\n    }\n\n    .dataframe tbody tr th {\n        vertical-align: top;\n    }\n\n    .dataframe thead tr th {\n        text-align: left;\n    }\n</style>\n<table border=\"1\" class=\"dataframe\">\n  <thead>\n    <tr>\n      <th></th>\n      <th>x1</th>\n      <th>x2</th>\n      <th>x3</th>\n      <th>x4</th>\n      <th>x5</th>\n      <th>x6</th>\n      <th>x7</th>\n      <th>x8</th>\n      <th>x9</th>\n      <th>x10</th>\n      <th>...</th>\n      <th>x27</th>\n      <th>x28</th>\n      <th>x29</th>\n      <th>x30</th>\n      <th>x31</th>\n      <th>x32</th>\n      <th>x33</th>\n      <th>x34</th>\n      <th>x35</th>\n      <th>x36</th>\n    </tr>\n  </thead>\n  <tbody>\n    <tr>\n      <th>0</th>\n      <td>0.935077</td>\n      <td>0.719375</td>\n      <td>0.036305</td>\n      <td>0.113769</td>\n      <td>0.663162</td>\n      <td>0.174721</td>\n      <td>-0.433007</td>\n      <td>-0.248723</td>\n      <td>-0.424874</td>\n      <td>-1.153578</td>\n      <td>...</td>\n      <td>0.880508</td>\n      <td>0.376183</td>\n      <td>1.783648</td>\n      <td>1.392706</td>\n      <td>0.643201</td>\n      <td>0.377123</td>\n      <td>1.511876</td>\n      <td>0.840490</td>\n      <td>0.354779</td>\n      <td>-0.141793</td>\n    </tr>\n    <tr>\n      <th>1</th>\n      <td>0.788436</td>\n      <td>0.243664</td>\n      <td>-0.323336</td>\n      <td>-0.357539</td>\n      <td>0.223160</td>\n      <td>-0.084782</td>\n      <td>-0.313050</td>\n      <td>-0.353194</td>\n      <td>-0.869130</td>\n      <td>-1.456715</td>\n      <td>...</td>\n      <td>-0.197336</td>\n      <td>-0.198697</td>\n      <td>1.120485</td>\n      <td>0.697386</td>\n      <td>-0.192368</td>\n      <td>-0.196398</td>\n      <td>0.473075</td>\n      <td>0.187693</td>\n      <td>-0.363067</td>\n      <td>-0.402355</td>\n    </tr>\n    <tr>\n      <th>2</th>\n      <td>-0.971248</td>\n      <td>-1.313207</td>\n      <td>0.515826</td>\n      <td>1.265857</td>\n      <td>-1.463516</td>\n      <td>-1.987805</td>\n      <td>1.366349</td>\n      <td>2.206354</td>\n      <td>-1.905728</td>\n      <td>-2.192903</td>\n      <td>...</td>\n      <td>1.778712</td>\n      <td>2.989277</td>\n      <td>-1.826903</td>\n      <td>-2.127355</td>\n      <td>1.478769</td>\n      <td>2.619070</td>\n      <td>-1.827128</td>\n      <td>-2.118854</td>\n      <td>1.491368</td>\n      <td>2.776502</td>\n    </tr>\n    <tr>\n      <th>3</th>\n      <td>1.374998</td>\n      <td>1.238333</td>\n      <td>1.354989</td>\n      <td>0.480343</td>\n      <td>1.396500</td>\n      <td>1.039731</td>\n      <td>0.826542</td>\n      <td>0.482577</td>\n      <td>1.426193</td>\n      <td>1.054988</td>\n      <td>...</td>\n      <td>0.281706</td>\n      <td>-0.094173</td>\n      <td>1.267855</td>\n      <td>0.914673</td>\n      <td>0.523834</td>\n      <td>0.116431</td>\n      <td>1.586076</td>\n      <td>0.927529</td>\n      <td>0.534240</td>\n      <td>0.327218</td>\n    </tr>\n    <tr>\n      <th>4</th>\n      <td>0.128555</td>\n      <td>-0.361786</td>\n      <td>-0.982678</td>\n      <td>-0.671745</td>\n      <td>-0.070175</td>\n      <td>-0.344285</td>\n      <td>-0.972813</td>\n      <td>-0.823315</td>\n      <td>0.167467</td>\n      <td>-0.157558</td>\n      <td>...</td>\n      <td>-1.574582</td>\n      <td>-0.878102</td>\n      <td>-0.205839</td>\n      <td>-0.519426</td>\n      <td>-1.147303</td>\n      <td>-0.874196</td>\n      <td>-0.194726</td>\n      <td>-0.334544</td>\n      <td>-1.140733</td>\n      <td>-0.662918</td>\n    </tr>\n  </tbody>\n</table>\n<p>5 rows × 36 columns</p>\n</div>"
     },
     "execution_count": 13,
     "metadata": {},
     "output_type": "execute_result"
    }
   ],
   "source": [
    "# Normalization\n",
    "scaler = StandardScaler()\n",
    "\n",
    "\n",
    "# Training set\n",
    "xTrain_scaled = scaler.fit(xTrain)\n",
    "print(\"Training set\")\n",
    "print(\"Means before normalization: \", xTrain_scaled.mean_)\n",
    "print(\"Variance before normalization: \", xTrain_scaled.var_)\n",
    "print(\"\\n\")\n",
    "\n",
    "\n",
    "# Normalization of the training set\n",
    "xTrain_scaled = scaler.transform(xTrain)\n",
    "print(\"Means after normalization: \",xTrain_scaled.mean(axis=0))\n",
    "print(\"Variance after normalization: \",xTrain_scaled.var(axis=0))\n",
    "print(\"\\n\")\n",
    "xTrain_scaled= pnd.DataFrame(xTrain_scaled, columns=[xTrain.columns.tolist()]) # transform into a dataframe with the column names of xTrain\n",
    "xTrain_scaled.head()\n"
   ]
  },
  {
   "cell_type": "code",
   "source": [
    "# Transformation of the validation set\n",
    "xVal_scaled = scaler.transform(xVal)\n",
    "print(\"Validation set\")\n",
    "print(\"Means after normalization: \",xVal_scaled.mean(axis = 0))\n",
    "print(\"Variance after normalization: \",xVal_scaled.var(axis = 0))\n",
    "print(\"\\n\")\n",
    "xVal_scaled= pnd.DataFrame(xVal_scaled, columns=[xTrain.columns.tolist()]) # transform into a dataframe with the column names of xTrain\n",
    "\n"
   ],
   "metadata": {
    "id": "7ehKhhM6EL0j",
    "ExecuteTime": {
     "end_time": "2023-11-08T09:44:07.577368783Z",
     "start_time": "2023-11-08T09:44:07.572447238Z"
    }
   },
   "id": "7ehKhhM6EL0j",
   "execution_count": 14,
   "outputs": [
    {
     "name": "stdout",
     "output_type": "stream",
     "text": [
      "Validation set\n",
      "Means after normalization:  [ 0.03806297  0.04822644  0.00847765 -0.01989018  0.04533508  0.06034239\n",
      "  0.01052372 -0.02240403  0.03633888  0.04927459 -0.00305126 -0.03302338\n",
      "  0.03364885  0.04032288  0.01324894 -0.01009241  0.04374124  0.04665539\n",
      "  0.00770581 -0.02309599  0.03851489  0.03661348 -0.01361281 -0.02900893\n",
      "  0.03102275  0.03061585  0.00284372 -0.00194346  0.03117331  0.03327319\n",
      "  0.00053652 -0.00929484  0.02464502  0.03368312 -0.00618954 -0.02601207]\n",
      "Variance after normalization:  [1.02708863 0.96082014 0.96926601 0.9169355  0.99621928 0.95006138\n",
      " 0.96563254 0.90478181 1.03280264 0.94786497 0.97045569 0.93074414\n",
      " 1.02975115 0.96434118 0.9822623  0.92118313 1.02053643 0.96691515\n",
      " 0.9540316  0.9053912  1.00217226 0.95489054 0.941868   0.89784876\n",
      " 1.01304065 0.97805133 0.96364864 0.93864466 1.00502383 0.97525418\n",
      " 0.95704664 0.92357435 0.99150905 0.96434212 0.95201064 0.88927197]\n"
     ]
    }
   ]
  },
  {
   "cell_type": "code",
   "source": [
    "\n",
    "\n",
    "# Transformation of the test set\n",
    "xTest_scaled = scaler.transform(xTest)\n",
    "print(\"Test set\")\n",
    "print(\"Means after normalization: \",xTest_scaled.mean(axis = 0))\n",
    "print(\"Variance after normalization: \",xTest_scaled.var(axis = 0))\n",
    "print(\"\\n\")\n",
    "xTest_scaled= pnd.DataFrame(xTest_scaled, columns=[xTrain.columns.tolist()]) # transform into a dataframe with the column names of xTrain\n",
    "\n"
   ],
   "metadata": {
    "id": "gBM4tYOtEODm",
    "ExecuteTime": {
     "end_time": "2023-11-08T09:44:12.739666799Z",
     "start_time": "2023-11-08T09:44:12.735355814Z"
    }
   },
   "id": "gBM4tYOtEODm",
   "execution_count": 15,
   "outputs": [
    {
     "name": "stdout",
     "output_type": "stream",
     "text": [
      "Test set\n",
      "Means after normalization:  [ 0.03686633  0.01785182 -0.04988248 -0.06203622  0.04916308  0.02132937\n",
      " -0.05394977 -0.06962879  0.04958155  0.02426981 -0.06314359 -0.07329536\n",
      "  0.04835305  0.02925391 -0.03306828 -0.04004051  0.03829275  0.0182495\n",
      " -0.05148757 -0.0494383   0.03122571  0.01507548 -0.05879867 -0.0693339\n",
      "  0.04297635  0.02035524 -0.03505212 -0.04726764  0.04275107  0.02266891\n",
      " -0.04476559 -0.04241231  0.02641503  0.0161373  -0.05089795 -0.04884344]\n",
      "Variance after normalization:  [0.93780971 0.897971   0.99756965 0.94123304 0.92645656 0.91127519\n",
      " 1.0237319  0.94944655 0.92892535 0.9170223  1.02202096 0.9803724\n",
      " 0.95277163 0.93366327 0.98305822 0.95887333 0.93501027 0.93565734\n",
      " 0.98074804 0.98323121 0.93259871 0.92139895 1.0239438  1.00253349\n",
      " 0.92076455 0.91011847 0.96460118 0.95911414 0.91498989 0.92806977\n",
      " 0.99987362 0.97964065 0.93214584 0.94049261 1.02788125 1.01396319]\n"
     ]
    }
   ]
  },
  {
   "cell_type": "markdown",
   "id": "fb3805ee",
   "metadata": {
    "id": "fb3805ee"
   },
   "source": [
    " <center>\n",
    "<h1>EXERCICE</h1>\n",
    "</center>\n",
    "\n",
    "The dataset <i>Drug_Consumption.csv</i> contains records for respondents. For each respondent, we known: <br/>\n",
    "<br/>\n",
    "<ul>\n",
    "<li>Personality measurements which include NEO-FFI-R (neuroticism, extraversion, openness to experience, agreeableness, and conscientiousness), BIS-11 (impulsivity), and ImpSS (sensation seeking). </li>\n",
    "<li>Personal information which include level of education, age, gender, country of residence and ethnicity.</li>\n",
    "<li>Cocaine consumption.</li>\n",
    "<br/>\n",
    "\n",
    "<ol>\n",
    "<li>How many respondents have been recorded? Display the 3th rows of the dataset.</li>\n",
    "<li>How many variables are in the dataset? What is their type?</li>\n",
    "<li>What is the target variable? What is its type? Display its distribution.</li>\n",
    "<li>Split the dataset into a training, validation and test datasets (80%-10%-10%).</li>\n",
    "<li>Encode the target variable.</li>\n",
    "<li>Extract the numeric variables and normalize them.</li>\n",
    "<li>Extract the categorical variables and encode them.</li>\n",
    "<li>Build a new x dataset with the encoded input variables and the standardized variables.</li>\n",
    "<ol/>"
   ]
  },
  {
   "cell_type": "code",
   "execution_count": 51,
   "id": "cccb2302",
   "metadata": {
    "id": "cccb2302",
    "ExecuteTime": {
     "end_time": "2023-11-08T10:02:59.485660028Z",
     "start_time": "2023-11-08T10:02:59.476108649Z"
    }
   },
   "outputs": [
    {
     "name": "stdout",
     "output_type": "stream",
     "text": [
      "Number of records 1885\n",
      "Third record:\n",
      " Age                                                 18-24\n",
      "Education            college or university but no diploma\n",
      "Country                                                UK\n",
      "Ethnicity                                           White\n",
      "Gender                                                  0\n",
      "Neuroticism                                            56\n",
      "Extraversion                                           24\n",
      "Openness                                               44\n",
      "Agreeableness                                          43\n",
      "Conscientiousness                                      26\n",
      "Impulsiveness                                    -1.37983\n",
      "SensationSeeing                                  -1.54858\n",
      "Cocaine                                        Never used\n",
      "Name: 2, dtype: object\n"
     ]
    }
   ],
   "source": [
    "## QUESTION 1\n",
    "##\n",
    "data = pnd.read_csv(\"Drug_Consumption.csv\", delimiter=\";\")\n",
    "print(\"Number of records\", data.count()[0])\n",
    "print(\"Third record:\\n\", data.iloc[2])\n",
    "\n",
    "##\n",
    "## Warning The delimiter in the data file is \";\""
   ]
  },
  {
   "cell_type": "code",
   "execution_count": 60,
   "id": "312ec78c",
   "metadata": {
    "id": "312ec78c",
    "ExecuteTime": {
     "end_time": "2023-11-08T10:05:51.257613379Z",
     "start_time": "2023-11-08T10:05:51.249207282Z"
    }
   },
   "outputs": [
    {
     "name": "stdout",
     "output_type": "stream",
     "text": [
      "Number of variables: 13\n"
     ]
    },
    {
     "data": {
      "text/plain": "Age                   object\nEducation             object\nCountry               object\nEthnicity             object\nGender                 int64\nNeuroticism            int64\nExtraversion           int64\nOpenness               int64\nAgreeableness          int64\nConscientiousness      int64\nImpulsiveness        float64\nSensationSeeing      float64\nCocaine               object\ndtype: object"
     },
     "execution_count": 60,
     "metadata": {},
     "output_type": "execute_result"
    }
   ],
   "source": [
    "## QUESTION 2\n",
    "##\n",
    "print(\"Number of variables:\", data.columns.size)\n",
    "data.dtypes\n"
   ]
  },
  {
   "cell_type": "markdown",
   "source": [
    "The target value is cocaine\n"
   ],
   "metadata": {
    "collapsed": false
   },
   "id": "f740ede62278ee29"
  },
  {
   "cell_type": "code",
   "execution_count": 66,
   "id": "a7b9122d",
   "metadata": {
    "id": "a7b9122d",
    "ExecuteTime": {
     "end_time": "2023-11-08T10:15:38.295417865Z",
     "start_time": "2023-11-08T10:15:38.169414398Z"
    }
   },
   "outputs": [
    {
     "name": "stdout",
     "output_type": "stream",
     "text": [
      "Type: Index(['Age', 'Education', 'Country', 'Ethnicity', 'Gender', 'Neuroticism',\n",
      "       'Extraversion', 'Openness', 'Agreeableness', 'Conscientiousness',\n",
      "       'Impulsiveness', 'SensationSeeing', 'Cocaine'],\n",
      "      dtype='object')\n"
     ]
    },
    {
     "data": {
      "text/plain": "<matplotlib.axes._subplots.AxesSubplot at 0x7f0fe94f6fa0>"
     },
     "execution_count": 66,
     "metadata": {},
     "output_type": "execute_result"
    },
    {
     "data": {
      "text/plain": "<Figure size 640x480 with 1 Axes>",
      "image/png": "[encoded data removed]"
     },
     "metadata": {},
     "output_type": "display_data"
    }
   ],
   "source": [
    "## QUESTION 3\n",
    "##\n",
    "print(\"Type:\", data.columns)\n",
    "\n",
    "data.groupby('Cocaine').size().plot.bar(title=\"Cocaine distribution\", ylabel='Nb of examples')\n",
    "##"
   ]
  },
  {
   "cell_type": "code",
   "execution_count": null,
   "id": "400c3f66",
   "metadata": {
    "id": "400c3f66"
   },
   "outputs": [],
   "source": [
    "## QUESTION 4\n",
    "##\n",
    "## Your code here\n",
    "##"
   ]
  },
  {
   "cell_type": "code",
   "execution_count": null,
   "id": "1f008648",
   "metadata": {
    "id": "1f008648"
   },
   "outputs": [],
   "source": [
    "## QUESTION 5\n",
    "##\n",
    "## Your code here\n",
    "##"
   ]
  },
  {
   "cell_type": "code",
   "execution_count": null,
   "id": "363b9c79",
   "metadata": {
    "id": "363b9c79"
   },
   "outputs": [],
   "source": [
    "## QUESTION 6\n",
    "##\n",
    "## Complet the code\n",
    "##\n",
    "\n",
    "# List of numerical variables\n",
    "numeric_list = ??\n",
    "# Standardization\n",
    "numeric_xTrain=?? # training set with the numerical variables\n",
    "numeric_xTrain_scaled = scaler.fit(numeric_xTrain)\n",
    "numeric_xTrain_scaled = scaler.transform(numeric_xTrain)\n",
    "print(\"Training set\")\n",
    "print(\"Means after normalization: \",numeric_xTrain_scaled.mean(axis = 0))\n",
    "print(\"Variance after normalization: \",numeric_xTrain_scaled.var(axis = 0))\n",
    "print(\"\\n\")\n",
    "\n",
    "# Transformation into a dataframe\n",
    "numeric_xTrain_scaled=pnd.DataFrame(numeric_xTrain_scaled, index=xTrain.index,columns=numeric_list)"
   ]
  },
  {
   "cell_type": "code",
   "execution_count": null,
   "id": "3e6a3816",
   "metadata": {
    "id": "3e6a3816"
   },
   "outputs": [],
   "source": [
    "## QUESTION 6 (continued)\n",
    "##\n",
    "## Your code here\n",
    "##"
   ]
  },
  {
   "cell_type": "markdown",
   "id": "80951fc0",
   "metadata": {
    "id": "80951fc0"
   },
   "source": [
    "To encode the categorical variables into binary variables, we use the function </br>\n",
    "</br>\n",
    "&nbsp;&nbsp;&nbsp;&nbsp;&nbsp;&nbsp;&nbsp;&nbsp;&nbsp;<i>pnd.get_dummies(X)</i></br>\n",
    "</br>\n",
    "where X is a dataset with only categorical variables.</br>\n",
    "</br>\n",
    "We process in 3 steps : </br>\n",
    "<ol>\n",
    "<li>We extract the categorical variables from the dataset.</li>\n",
    "<li>We encode the categorical variables.</li>\n",
    "<li>We rebuilt the dataset by concatening the encoded variables, the numerical variables and the target variable. </li>\n",
    "<ol/>"
   ]
  },
  {
   "cell_type": "code",
   "execution_count": null,
   "id": "9e4e3053",
   "metadata": {
    "id": "9e4e3053"
   },
   "outputs": [],
   "source": [
    "## QUESTION 7\n",
    "##\n",
    "## Complet the code\n",
    "##\n",
    "# List of the categorical variables\n",
    "cat_list=?? # List of categorical variables\n",
    "print(cat_list)\n",
    "print(\"\\n\")\n",
    "\n",
    "# Encode the categorical variables in the training set\n",
    "xTrain_cat=xTrain[cat_list[:-1]] # xTrain set with the categorical variables except the target Cocaine\n",
    "print(xTrain_cat.head(3)) # Display the categorical variables before binarization\n",
    "print(\"\\n\")\n",
    "xTrain_cat_encoded=pnd.get_dummies(xTrain_cat)\n",
    "print(xTrain_cat_encoded.head(3)) # Display the categorical variables after binarization\n",
    "\n",
    "# Encode the categorical variables in the test set\n",
    "??\n",
    "??"
   ]
  },
  {
   "cell_type": "markdown",
   "id": "ee2cd915",
   "metadata": {
    "id": "ee2cd915"
   },
   "source": [
    "To concatenate dataframes, data1, data2, ..., we use the function\n",
    "</br>\n",
    "</br>\n",
    "&nbsp;&nbsp;&nbsp;&nbsp;&nbsp;&nbsp;&nbsp;&nbsp;&nbsp;<i>pnd.concat([data1,data2,...],axis=1)</i></br>\n",
    "</br>\n",
    "where <i>axis</i> is the axis to concatenate along (axis=1 for columns and axis=0 for rows)\n"
   ]
  },
  {
   "cell_type": "code",
   "execution_count": null,
   "id": "cda412ab",
   "metadata": {
    "id": "cda412ab"
   },
   "outputs": [],
   "source": [
    "## QUESTION 8\n",
    "##\n",
    "## Complet the code\n",
    "##\n",
    "\n",
    "# Concatenate the numerical variables and the encoded variables for the training set\n",
    "xTrain_ready=pnd.concat([numeric_xTrain_scaled,xTrain_cat_encoded],axis=1) # Concatenates tables by columns (axis=1)\n",
    "print(\"The number of variables is the new dataset is\",xTrain_ready.shape[1])\n",
    "\n",
    "# Concatenate the numerical variables and the encoded variables for the test set\n",
    "??\n",
    "\n",
    "\n",
    "xTrain_ready.head(3)"
   ]
  }
 ],
 "metadata": {
  "colab": {
   "provenance": []
  },
  "kernelspec": {
   "display_name": "Python 3 (ipykernel)",
   "language": "python",
   "name": "python3"
  },
  "language_info": {
   "codemirror_mode": {
    "name": "ipython",
    "version": 3
   },
   "file_extension": ".py",
   "mimetype": "text/x-python",
   "name": "python",
   "nbconvert_exporter": "python",
   "pygments_lexer": "ipython3",
   "version": "3.9.7"
  }
 },
 "nbformat": 4,
 "nbformat_minor": 5
}
