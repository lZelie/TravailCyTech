{
 "cells": [
  {
   "cell_type": "markdown",
   "id": "7495a116",
   "metadata": {
    "id": "7495a116"
   },
   "source": [
    "## <center><h1>**Neural Network**</h1>\n",
    "<center> </br>Astrid Jourdanr<br/>"
   ]
  },
  {
   "cell_type": "code",
   "execution_count": 10,
   "id": "0a828aeb",
   "metadata": {
    "id": "0a828aeb",
    "ExecuteTime": {
     "end_time": "2023-11-09T07:44:04.728067566Z",
     "start_time": "2023-11-09T07:44:04.648501947Z"
    }
   },
   "outputs": [],
   "source": [
    "# Library importations\n",
    "\n",
    "import math\n",
    "import pandas as pnd\n",
    "import numpy as np\n",
    "import matplotlib.pyplot as plt\n",
    "from sklearn.model_selection import train_test_split\n",
    "from sklearn.preprocessing import StandardScaler\n",
    "from sklearn.metrics import accuracy_score, classification_report, confusion_matrix\n",
    "\n",
    "import tensorflow as tf\n",
    "from tensorflow import keras\n",
    "from keras import layers"
   ]
  },
  {
   "cell_type": "markdown",
   "id": "G7ROVT4kjTvu",
   "metadata": {
    "id": "G7ROVT4kjTvu"
   },
   "source": [
    "<h2>Data pre-processing</h2>\n"
   ]
  },
  {
   "cell_type": "code",
   "execution_count": 11,
   "id": "d4d85bc5",
   "metadata": {
    "id": "d4d85bc5",
    "ExecuteTime": {
     "end_time": "2023-11-09T07:44:04.730865544Z",
     "start_time": "2023-11-09T07:44:04.718393384Z"
    }
   },
   "outputs": [],
   "source": [
    "# File import\n",
    "dataset = pnd.read_csv(\"Landsat.txt\", delimiter=\" \")\n",
    "\n",
    "x = dataset.drop(columns=['SoilType'])  # input variables\n",
    "y = dataset['SoilType']  # Target variable\n",
    "\n",
    "n = x.shape[0]  # number of observations\n",
    "d = x.shape[1]  #number of input variables"
   ]
  },
  {
   "cell_type": "code",
   "execution_count": 12,
   "id": "kgzfkI_diyNa",
   "metadata": {
    "id": "kgzfkI_diyNa",
    "colab": {
     "base_uri": "https://localhost:8080/",
     "height": 206
    },
    "outputId": "a759ace9-0f11-4995-acde-1d310de87ded",
    "ExecuteTime": {
     "end_time": "2023-11-09T07:44:04.742943867Z",
     "start_time": "2023-11-09T07:44:04.731931597Z"
    }
   },
   "outputs": [
    {
     "data": {
      "text/plain": "   cotton crop  damp grey soil  grey soil  red soil  vegetation stubble  \\\n1        False           False       True     False               False   \n2        False           False       True     False               False   \n3        False           False       True     False               False   \n4        False           False       True     False               False   \n5        False           False       True     False               False   \n\n   very damp grey soil  \n1                False  \n2                False  \n3                False  \n4                False  \n5                False  ",
      "text/html": "<div>\n<style scoped>\n    .dataframe tbody tr th:only-of-type {\n        vertical-align: middle;\n    }\n\n    .dataframe tbody tr th {\n        vertical-align: top;\n    }\n\n    .dataframe thead th {\n        text-align: right;\n    }\n</style>\n<table border=\"1\" class=\"dataframe\">\n  <thead>\n    <tr style=\"text-align: right;\">\n      <th></th>\n      <th>cotton crop</th>\n      <th>damp grey soil</th>\n      <th>grey soil</th>\n      <th>red soil</th>\n      <th>vegetation stubble</th>\n      <th>very damp grey soil</th>\n    </tr>\n  </thead>\n  <tbody>\n    <tr>\n      <th>1</th>\n      <td>False</td>\n      <td>False</td>\n      <td>True</td>\n      <td>False</td>\n      <td>False</td>\n      <td>False</td>\n    </tr>\n    <tr>\n      <th>2</th>\n      <td>False</td>\n      <td>False</td>\n      <td>True</td>\n      <td>False</td>\n      <td>False</td>\n      <td>False</td>\n    </tr>\n    <tr>\n      <th>3</th>\n      <td>False</td>\n      <td>False</td>\n      <td>True</td>\n      <td>False</td>\n      <td>False</td>\n      <td>False</td>\n    </tr>\n    <tr>\n      <th>4</th>\n      <td>False</td>\n      <td>False</td>\n      <td>True</td>\n      <td>False</td>\n      <td>False</td>\n      <td>False</td>\n    </tr>\n    <tr>\n      <th>5</th>\n      <td>False</td>\n      <td>False</td>\n      <td>True</td>\n      <td>False</td>\n      <td>False</td>\n      <td>False</td>\n    </tr>\n  </tbody>\n</table>\n</div>"
     },
     "execution_count": 12,
     "metadata": {},
     "output_type": "execute_result"
    }
   ],
   "source": [
    "# Encoded Target variable\n",
    "y_cat = pnd.get_dummies(y)\n",
    "p = y_cat.shape[1]  #number of classes\n",
    "\n",
    "y_cat.head()"
   ]
  },
  {
   "cell_type": "code",
   "execution_count": 13,
   "id": "-p08WxobjySy",
   "metadata": {
    "id": "-p08WxobjySy",
    "ExecuteTime": {
     "end_time": "2023-11-09T07:44:04.800509552Z",
     "start_time": "2023-11-09T07:44:04.742138910Z"
    }
   },
   "outputs": [],
   "source": [
    "# Training, validation and test sets\n",
    "# First split 70% - 30%\n",
    "xTrain, xRest, yTrain, yRest = train_test_split(x, y_cat, train_size=0.7)\n",
    "# Second split 15% - 15%\n",
    "xVal, xTest, yVal, yTest = train_test_split(xRest, yRest, test_size=0.5)\n",
    "# Scaling\n",
    "scaler = StandardScaler()\n",
    "_ = scaler.fit(xTrain)\n",
    "xTrain_scaled = scaler.transform(xTrain)\n",
    "xVal_scaled = scaler.transform(xVal)\n",
    "xTest_scaled = scaler.transform(xTest)\n"
   ]
  },
  {
   "cell_type": "markdown",
   "id": "FQutY3q1zQUY",
   "metadata": {
    "id": "FQutY3q1zQUY"
   },
   "source": [
    "<h2>Model architecture</h2>\n",
    "\n",
    "\n",
    "There are different ways to create a model with Keras. The Sequential model is appropriate to build simple neural network models.\n",
    "The first step is to define the architecture of the model.\n",
    "\n",
    "\n",
    "> model = keras.Sequential(<br/>\n",
    "    [<br/>\n",
    "        layers.Input(shape=(d,)), *# where d is the number of input variables*<br/>\n",
    "        layers.Dense(2, activation=\"tanh\", name=\"layer1\"),<br/>\n",
    "        layers.Dense(3, activation=\"sigmoid\", name=\"layer2\"),<br/>\n",
    "        ... ,<br/>\n",
    "        layers.Dense(p,activation=\"softmax\") *# where p is the number of classes*<br/>\n",
    "    ]<br/>\n",
    ")<br/>\n",
    "\n",
    "Each layer is defined by the number of neurons and the activation function ([List of activation functions](https://keras.io/api/layers/activations/)).\n",
    "\n",
    "We build a neural network with a single hidden layer."
   ]
  },
  {
   "cell_type": "code",
   "execution_count": 14,
   "id": "3501b6d6",
   "metadata": {
    "id": "3501b6d6",
    "colab": {
     "base_uri": "https://localhost:8080/"
    },
    "outputId": "4014fd59-c649-4caf-a437-3e65d8d9d938",
    "ExecuteTime": {
     "end_time": "2023-11-09T07:44:04.870132569Z",
     "start_time": "2023-11-09T07:44:04.763945007Z"
    }
   },
   "outputs": [
    {
     "name": "stdout",
     "output_type": "stream",
     "text": [
      "Model: \"sequential_1\"\n",
      "_________________________________________________________________\n",
      " Layer (type)                Output Shape              Param #   \n",
      "=================================================================\n",
      " dense_2 (Dense)             (None, 20)                740       \n",
      "                                                                 \n",
      " dense_3 (Dense)             (None, 6)                 126       \n",
      "                                                                 \n",
      "=================================================================\n",
      "Total params: 866 (3.38 KB)\n",
      "Trainable params: 866 (3.38 KB)\n",
      "Non-trainable params: 0 (0.00 Byte)\n",
      "_________________________________________________________________\n"
     ]
    }
   ],
   "source": [
    "model = keras.Sequential([\n",
    "    layers.Input(shape=(d,)),\n",
    "    layers.Dense(20, activation='sigmoid'),\n",
    "    layers.Dense(p, activation='softmax')\n",
    "])\n",
    "\n",
    "model.summary()"
   ]
  },
  {
   "cell_type": "markdown",
   "id": "9CrO9E9BXFNX",
   "metadata": {
    "id": "9CrO9E9BXFNX"
   },
   "source": [
    "<h2>Optimization process</h2>\n",
    "The optimization process is defined by:\n",
    "\n",
    "*   the optimization method ([List of methods](https://www.tensorflow.org/api_docs/python/tf/keras/optimizers))\n",
    "*   the loss function ([List of loss functions](https://www.tensorflow.org/api_docs/python/tf/keras/losses))\n",
    "*   the metric to compute the error ([List of metrics](https://www.tensorflow.org/api_docs/python/tf/keras/metrics))\n",
    "\n",
    "Herafater, we use a Stochastic Gradient Descend with the cross entropy loss function."
   ]
  },
  {
   "cell_type": "code",
   "execution_count": 15,
   "id": "319c87c0",
   "metadata": {
    "id": "319c87c0",
    "ExecuteTime": {
     "end_time": "2023-11-09T07:44:04.870989460Z",
     "start_time": "2023-11-09T07:44:04.801875461Z"
    }
   },
   "outputs": [],
   "source": [
    "# Optimization process (loss function, optimization method, error metric)\n",
    "model.compile(\n",
    "    optimizer='sgd',\n",
    "    loss='categorical_crossentropy',\n",
    "    metrics=['categorical_accuracy'])"
   ]
  },
  {
   "cell_type": "markdown",
   "id": "VUHvmn7sawjf",
   "metadata": {
    "id": "VUHvmn7sawjf"
   },
   "source": [
    "<h2>Training the model</h2>\n",
    "For the training process, we need to define:\n",
    "\n",
    "\n",
    "*   the number of epochs\n",
    "*   the number of observations used at each iteration of the backpropagation algorithm\n"
   ]
  },
  {
   "cell_type": "code",
   "execution_count": 16,
   "id": "ff24fed2",
   "metadata": {
    "id": "ff24fed2",
    "colab": {
     "base_uri": "https://localhost:8080/"
    },
    "outputId": "0ac3ac30-9ee9-4859-c9a3-f36b115d5acd",
    "ExecuteTime": {
     "end_time": "2023-11-09T07:44:13.170772530Z",
     "start_time": "2023-11-09T07:44:04.845087009Z"
    }
   },
   "outputs": [
    {
     "name": "stdout",
     "output_type": "stream",
     "text": [
      "Epoch 1/10\n",
      "901/901 [==============================] - 1s 937us/step - loss: 1.1512 - categorical_accuracy: 0.6923 - val_loss: 0.8206 - val_categorical_accuracy: 0.7917\n",
      "Epoch 2/10\n",
      "901/901 [==============================] - 1s 792us/step - loss: 0.7211 - categorical_accuracy: 0.7917 - val_loss: 0.6267 - val_categorical_accuracy: 0.8166\n",
      "Epoch 3/10\n",
      "901/901 [==============================] - 1s 880us/step - loss: 0.5925 - categorical_accuracy: 0.8104 - val_loss: 0.5453 - val_categorical_accuracy: 0.8259\n",
      "Epoch 4/10\n",
      "901/901 [==============================] - 1s 780us/step - loss: 0.5311 - categorical_accuracy: 0.8182 - val_loss: 0.5017 - val_categorical_accuracy: 0.8383\n",
      "Epoch 5/10\n",
      "901/901 [==============================] - 1s 836us/step - loss: 0.4949 - categorical_accuracy: 0.8237 - val_loss: 0.4733 - val_categorical_accuracy: 0.8446\n",
      "Epoch 6/10\n",
      "901/901 [==============================] - 1s 1ms/step - loss: 0.4710 - categorical_accuracy: 0.8295 - val_loss: 0.4544 - val_categorical_accuracy: 0.8508\n",
      "Epoch 7/10\n",
      "901/901 [==============================] - 1s 865us/step - loss: 0.4536 - categorical_accuracy: 0.8353 - val_loss: 0.4406 - val_categorical_accuracy: 0.8508\n",
      "Epoch 8/10\n",
      "901/901 [==============================] - 1s 919us/step - loss: 0.4407 - categorical_accuracy: 0.8361 - val_loss: 0.4339 - val_categorical_accuracy: 0.8415\n",
      "Epoch 9/10\n",
      "901/901 [==============================] - 1s 934us/step - loss: 0.4310 - categorical_accuracy: 0.8399 - val_loss: 0.4230 - val_categorical_accuracy: 0.8508\n",
      "Epoch 10/10\n",
      "901/901 [==============================] - 1s 919us/step - loss: 0.4229 - categorical_accuracy: 0.8413 - val_loss: 0.4161 - val_categorical_accuracy: 0.8466\n"
     ]
    }
   ],
   "source": [
    "training = model.fit(xTrain_scaled, yTrain, epochs=10, batch_size=5, validation_data=(xVal_scaled, yVal))"
   ]
  },
  {
   "cell_type": "markdown",
   "id": "Z7SW8DXjgtjM",
   "metadata": {
    "id": "Z7SW8DXjgtjM"
   },
   "source": [
    "The algorithm is stochastic. If we run the learning procedure several times (with the same data set), we do not obtain the same results. The result depends on the initialization of the network weights.\n",
    "</br></br>\n",
    "\n",
    "*history* returns the values of the loss function and the metrics for the training and test sets at each epoch. It is then possible to plot the progress of the fitting error function and the test error function."
   ]
  },
  {
   "cell_type": "code",
   "execution_count": 17,
   "id": "mtw_y44Zgigt",
   "metadata": {
    "id": "mtw_y44Zgigt",
    "colab": {
     "base_uri": "https://localhost:8080/",
     "height": 206
    },
    "outputId": "926adf28-3fce-4509-b388-e550f4f4bd98",
    "ExecuteTime": {
     "end_time": "2023-11-09T07:44:13.172009407Z",
     "start_time": "2023-11-09T07:44:13.169209769Z"
    }
   },
   "outputs": [
    {
     "data": {
      "text/plain": "       loss  categorical_accuracy  val_loss  val_categorical_accuracy\n0  1.151201              0.692274  0.820573                  0.791710\n1  0.721110              0.791741  0.626691                  0.816580\n2  0.592530              0.810391  0.545268                  0.825907\n3  0.531103              0.818162  0.501691                  0.838342\n4  0.494857              0.823712  0.473344                  0.844560",
      "text/html": "<div>\n<style scoped>\n    .dataframe tbody tr th:only-of-type {\n        vertical-align: middle;\n    }\n\n    .dataframe tbody tr th {\n        vertical-align: top;\n    }\n\n    .dataframe thead th {\n        text-align: right;\n    }\n</style>\n<table border=\"1\" class=\"dataframe\">\n  <thead>\n    <tr style=\"text-align: right;\">\n      <th></th>\n      <th>loss</th>\n      <th>categorical_accuracy</th>\n      <th>val_loss</th>\n      <th>val_categorical_accuracy</th>\n    </tr>\n  </thead>\n  <tbody>\n    <tr>\n      <th>0</th>\n      <td>1.151201</td>\n      <td>0.692274</td>\n      <td>0.820573</td>\n      <td>0.791710</td>\n    </tr>\n    <tr>\n      <th>1</th>\n      <td>0.721110</td>\n      <td>0.791741</td>\n      <td>0.626691</td>\n      <td>0.816580</td>\n    </tr>\n    <tr>\n      <th>2</th>\n      <td>0.592530</td>\n      <td>0.810391</td>\n      <td>0.545268</td>\n      <td>0.825907</td>\n    </tr>\n    <tr>\n      <th>3</th>\n      <td>0.531103</td>\n      <td>0.818162</td>\n      <td>0.501691</td>\n      <td>0.838342</td>\n    </tr>\n    <tr>\n      <th>4</th>\n      <td>0.494857</td>\n      <td>0.823712</td>\n      <td>0.473344</td>\n      <td>0.844560</td>\n    </tr>\n  </tbody>\n</table>\n</div>"
     },
     "execution_count": 17,
     "metadata": {},
     "output_type": "execute_result"
    }
   ],
   "source": [
    "histo = pnd.DataFrame(training.history)  # transform the array into a dataframe\n",
    "histo.head()"
   ]
  },
  {
   "cell_type": "code",
   "execution_count": 26,
   "id": "1d9ff684",
   "metadata": {
    "id": "1d9ff684",
    "colab": {
     "base_uri": "https://localhost:8080/",
     "height": 483
    },
    "outputId": "fa37a577-f2da-4218-ffed-f337a51bac97",
    "ExecuteTime": {
     "end_time": "2023-11-09T07:48:05.438909682Z",
     "start_time": "2023-11-09T07:48:05.181951674Z"
    }
   },
   "outputs": [
    {
     "ename": "ValueError",
     "evalue": "Multi-dimensional indexing (e.g. `obj[:, None]`) is no longer supported. Convert to a numpy array before indexing instead.",
     "output_type": "error",
     "traceback": [
      "\u001B[0;31m---------------------------------------------------------------------------\u001B[0m",
      "\u001B[0;31mValueError\u001B[0m                                Traceback (most recent call last)",
      "Cell \u001B[0;32mIn[26], line 4\u001B[0m\n\u001B[1;32m      2\u001B[0m figure, axe \u001B[38;5;241m=\u001B[39m plt\u001B[38;5;241m.\u001B[39msubplots(figsize\u001B[38;5;241m=\u001B[39m(\u001B[38;5;241m14\u001B[39m, \u001B[38;5;241m8\u001B[39m))\n\u001B[1;32m      3\u001B[0m num_epoch \u001B[38;5;241m=\u001B[39m histo\u001B[38;5;241m.\u001B[39mshape[\u001B[38;5;241m0\u001B[39m]\n\u001B[0;32m----> 4\u001B[0m \u001B[43maxe\u001B[49m\u001B[38;5;241;43m.\u001B[39;49m\u001B[43mplot\u001B[49m\u001B[43m(\u001B[49m\u001B[43mnp\u001B[49m\u001B[38;5;241;43m.\u001B[39;49m\u001B[43marange\u001B[49m\u001B[43m(\u001B[49m\u001B[38;5;241;43m0\u001B[39;49m\u001B[43m,\u001B[49m\u001B[43m \u001B[49m\u001B[43mnum_epoch\u001B[49m\u001B[43m)\u001B[49m\u001B[43m,\u001B[49m\u001B[43m \u001B[49m\u001B[43mhisto\u001B[49m\u001B[43m[\u001B[49m\u001B[38;5;124;43m\"\u001B[39;49m\u001B[38;5;124;43mcategorical_accuracy\u001B[39;49m\u001B[38;5;124;43m\"\u001B[39;49m\u001B[43m]\u001B[49m\u001B[43m,\u001B[49m\u001B[43m \u001B[49m\u001B[43mlabel\u001B[49m\u001B[38;5;241;43m=\u001B[39;49m\u001B[38;5;124;43m\"\u001B[39;49m\u001B[38;5;124;43mTraining Accuracy\u001B[39;49m\u001B[38;5;124;43m\"\u001B[39;49m\u001B[43m,\u001B[49m\u001B[43m \u001B[49m\u001B[43mlw\u001B[49m\u001B[38;5;241;43m=\u001B[39;49m\u001B[38;5;241;43m3\u001B[39;49m\u001B[43m,\u001B[49m\u001B[43m \u001B[49m\u001B[43mcolor\u001B[49m\u001B[38;5;241;43m=\u001B[39;49m\u001B[38;5;124;43m'\u001B[39;49m\u001B[38;5;124;43mred\u001B[39;49m\u001B[38;5;124;43m'\u001B[39;49m\u001B[43m)\u001B[49m\n\u001B[1;32m      5\u001B[0m \u001B[38;5;66;03m# axe.plot(np.arange(0, num_epoch), histo[\"val_categorical_accuracy\"], label=\"Validation Accuracy\", lw=3, color='blue')\u001B[39;00m\n\u001B[1;32m      6\u001B[0m \u001B[38;5;66;03m# axe.legend()\u001B[39;00m\n\u001B[1;32m      7\u001B[0m plt\u001B[38;5;241m.\u001B[39mshow()\n",
      "File \u001B[0;32m/usr/lib/python3/dist-packages/matplotlib/axes/_axes.py:1665\u001B[0m, in \u001B[0;36mAxes.plot\u001B[0;34m(self, scalex, scaley, data, *args, **kwargs)\u001B[0m\n\u001B[1;32m   1434\u001B[0m \u001B[38;5;250m\u001B[39m\u001B[38;5;124;03m\"\"\"\u001B[39;00m\n\u001B[1;32m   1435\u001B[0m \u001B[38;5;124;03mPlot y versus x as lines and/or markers.\u001B[39;00m\n\u001B[1;32m   1436\u001B[0m \n\u001B[0;32m   (...)\u001B[0m\n\u001B[1;32m   1662\u001B[0m \u001B[38;5;124;03m(``'green'``) or hex strings (``'#008000'``).\u001B[39;00m\n\u001B[1;32m   1663\u001B[0m \u001B[38;5;124;03m\"\"\"\u001B[39;00m\n\u001B[1;32m   1664\u001B[0m kwargs \u001B[38;5;241m=\u001B[39m cbook\u001B[38;5;241m.\u001B[39mnormalize_kwargs(kwargs, mlines\u001B[38;5;241m.\u001B[39mLine2D\u001B[38;5;241m.\u001B[39m_alias_map)\n\u001B[0;32m-> 1665\u001B[0m lines \u001B[38;5;241m=\u001B[39m [\u001B[38;5;241m*\u001B[39m\u001B[38;5;28mself\u001B[39m\u001B[38;5;241m.\u001B[39m_get_lines(\u001B[38;5;241m*\u001B[39margs, data\u001B[38;5;241m=\u001B[39mdata, \u001B[38;5;241m*\u001B[39m\u001B[38;5;241m*\u001B[39mkwargs)]\n\u001B[1;32m   1666\u001B[0m \u001B[38;5;28;01mfor\u001B[39;00m line \u001B[38;5;129;01min\u001B[39;00m lines:\n\u001B[1;32m   1667\u001B[0m     \u001B[38;5;28mself\u001B[39m\u001B[38;5;241m.\u001B[39madd_line(line)\n",
      "File \u001B[0;32m/usr/lib/python3/dist-packages/matplotlib/axes/_base.py:225\u001B[0m, in \u001B[0;36m_process_plot_var_args.__call__\u001B[0;34m(self, *args, **kwargs)\u001B[0m\n\u001B[1;32m    223\u001B[0m     this \u001B[38;5;241m+\u001B[39m\u001B[38;5;241m=\u001B[39m args[\u001B[38;5;241m0\u001B[39m],\n\u001B[1;32m    224\u001B[0m     args \u001B[38;5;241m=\u001B[39m args[\u001B[38;5;241m1\u001B[39m:]\n\u001B[0;32m--> 225\u001B[0m \u001B[38;5;28;01myield from\u001B[39;00m \u001B[38;5;28;43mself\u001B[39;49m\u001B[38;5;241;43m.\u001B[39;49m\u001B[43m_plot_args\u001B[49m\u001B[43m(\u001B[49m\u001B[43mthis\u001B[49m\u001B[43m,\u001B[49m\u001B[43m \u001B[49m\u001B[43mkwargs\u001B[49m\u001B[43m)\u001B[49m\n",
      "File \u001B[0;32m/usr/lib/python3/dist-packages/matplotlib/axes/_base.py:387\u001B[0m, in \u001B[0;36m_process_plot_var_args._plot_args\u001B[0;34m(self, tup, kwargs)\u001B[0m\n\u001B[1;32m    385\u001B[0m \u001B[38;5;28;01mif\u001B[39;00m \u001B[38;5;28mlen\u001B[39m(tup) \u001B[38;5;241m==\u001B[39m \u001B[38;5;241m2\u001B[39m:\n\u001B[1;32m    386\u001B[0m     x \u001B[38;5;241m=\u001B[39m _check_1d(tup[\u001B[38;5;241m0\u001B[39m])\n\u001B[0;32m--> 387\u001B[0m     y \u001B[38;5;241m=\u001B[39m \u001B[43m_check_1d\u001B[49m\u001B[43m(\u001B[49m\u001B[43mtup\u001B[49m\u001B[43m[\u001B[49m\u001B[38;5;241;43m-\u001B[39;49m\u001B[38;5;241;43m1\u001B[39;49m\u001B[43m]\u001B[49m\u001B[43m)\u001B[49m\n\u001B[1;32m    388\u001B[0m \u001B[38;5;28;01melse\u001B[39;00m:\n\u001B[1;32m    389\u001B[0m     x, y \u001B[38;5;241m=\u001B[39m index_of(tup[\u001B[38;5;241m-\u001B[39m\u001B[38;5;241m1\u001B[39m])\n",
      "File \u001B[0;32m/usr/lib/python3/dist-packages/matplotlib/cbook/__init__.py:1402\u001B[0m, in \u001B[0;36m_check_1d\u001B[0;34m(x)\u001B[0m\n\u001B[1;32m   1400\u001B[0m \u001B[38;5;28;01melse\u001B[39;00m:\n\u001B[1;32m   1401\u001B[0m     \u001B[38;5;28;01mtry\u001B[39;00m:\n\u001B[0;32m-> 1402\u001B[0m         ndim \u001B[38;5;241m=\u001B[39m \u001B[43mx\u001B[49m\u001B[43m[\u001B[49m\u001B[43m:\u001B[49m\u001B[43m,\u001B[49m\u001B[43m \u001B[49m\u001B[38;5;28;43;01mNone\u001B[39;49;00m\u001B[43m]\u001B[49m\u001B[38;5;241m.\u001B[39mndim\n\u001B[1;32m   1403\u001B[0m         \u001B[38;5;66;03m# work around https://github.com/pandas-dev/pandas/issues/27775\u001B[39;00m\n\u001B[1;32m   1404\u001B[0m         \u001B[38;5;66;03m# which mean the shape is not as expected. That this ever worked\u001B[39;00m\n\u001B[1;32m   1405\u001B[0m         \u001B[38;5;66;03m# was an unintentional quirk of pandas the above line will raise\u001B[39;00m\n\u001B[1;32m   1406\u001B[0m         \u001B[38;5;66;03m# an exception in the future.\u001B[39;00m\n\u001B[1;32m   1407\u001B[0m         \u001B[38;5;28;01mif\u001B[39;00m ndim \u001B[38;5;241m<\u001B[39m \u001B[38;5;241m2\u001B[39m:\n",
      "File \u001B[0;32m/usr/local/lib/python3.8/dist-packages/pandas/core/series.py:1033\u001B[0m, in \u001B[0;36mSeries.__getitem__\u001B[0;34m(self, key)\u001B[0m\n\u001B[1;32m   1030\u001B[0m     key \u001B[38;5;241m=\u001B[39m np\u001B[38;5;241m.\u001B[39masarray(key, dtype\u001B[38;5;241m=\u001B[39m\u001B[38;5;28mbool\u001B[39m)\n\u001B[1;32m   1031\u001B[0m     \u001B[38;5;28;01mreturn\u001B[39;00m \u001B[38;5;28mself\u001B[39m\u001B[38;5;241m.\u001B[39m_get_values(key)\n\u001B[0;32m-> 1033\u001B[0m \u001B[38;5;28;01mreturn\u001B[39;00m \u001B[38;5;28;43mself\u001B[39;49m\u001B[38;5;241;43m.\u001B[39;49m\u001B[43m_get_with\u001B[49m\u001B[43m(\u001B[49m\u001B[43mkey\u001B[49m\u001B[43m)\u001B[49m\n",
      "File \u001B[0;32m/usr/local/lib/python3.8/dist-packages/pandas/core/series.py:1048\u001B[0m, in \u001B[0;36mSeries._get_with\u001B[0;34m(self, key)\u001B[0m\n\u001B[1;32m   1043\u001B[0m     \u001B[38;5;28;01mraise\u001B[39;00m \u001B[38;5;167;01mTypeError\u001B[39;00m(\n\u001B[1;32m   1044\u001B[0m         \u001B[38;5;124m\"\u001B[39m\u001B[38;5;124mIndexing a Series with DataFrame is not \u001B[39m\u001B[38;5;124m\"\u001B[39m\n\u001B[1;32m   1045\u001B[0m         \u001B[38;5;124m\"\u001B[39m\u001B[38;5;124msupported, use the appropriate DataFrame column\u001B[39m\u001B[38;5;124m\"\u001B[39m\n\u001B[1;32m   1046\u001B[0m     )\n\u001B[1;32m   1047\u001B[0m \u001B[38;5;28;01melif\u001B[39;00m \u001B[38;5;28misinstance\u001B[39m(key, \u001B[38;5;28mtuple\u001B[39m):\n\u001B[0;32m-> 1048\u001B[0m     \u001B[38;5;28;01mreturn\u001B[39;00m \u001B[38;5;28;43mself\u001B[39;49m\u001B[38;5;241;43m.\u001B[39;49m\u001B[43m_get_values_tuple\u001B[49m\u001B[43m(\u001B[49m\u001B[43mkey\u001B[49m\u001B[43m)\u001B[49m\n\u001B[1;32m   1050\u001B[0m \u001B[38;5;28;01melif\u001B[39;00m \u001B[38;5;129;01mnot\u001B[39;00m is_list_like(key):\n\u001B[1;32m   1051\u001B[0m     \u001B[38;5;66;03m# e.g. scalars that aren't recognized by lib.is_scalar, GH#32684\u001B[39;00m\n\u001B[1;32m   1052\u001B[0m     \u001B[38;5;28;01mreturn\u001B[39;00m \u001B[38;5;28mself\u001B[39m\u001B[38;5;241m.\u001B[39mloc[key]\n",
      "File \u001B[0;32m/usr/local/lib/python3.8/dist-packages/pandas/core/series.py:1082\u001B[0m, in \u001B[0;36mSeries._get_values_tuple\u001B[0;34m(self, key)\u001B[0m\n\u001B[1;32m   1077\u001B[0m \u001B[38;5;28;01mif\u001B[39;00m com\u001B[38;5;241m.\u001B[39many_none(\u001B[38;5;241m*\u001B[39mkey):\n\u001B[1;32m   1078\u001B[0m     \u001B[38;5;66;03m# mpl compat if we look up e.g. ser[:, np.newaxis];\u001B[39;00m\n\u001B[1;32m   1079\u001B[0m     \u001B[38;5;66;03m#  see tests.series.timeseries.test_mpl_compat_hack\u001B[39;00m\n\u001B[1;32m   1080\u001B[0m     \u001B[38;5;66;03m# the asarray is needed to avoid returning a 2D DatetimeArray\u001B[39;00m\n\u001B[1;32m   1081\u001B[0m     result \u001B[38;5;241m=\u001B[39m np\u001B[38;5;241m.\u001B[39masarray(\u001B[38;5;28mself\u001B[39m\u001B[38;5;241m.\u001B[39m_values[key])\n\u001B[0;32m-> 1082\u001B[0m     \u001B[43mdisallow_ndim_indexing\u001B[49m\u001B[43m(\u001B[49m\u001B[43mresult\u001B[49m\u001B[43m)\u001B[49m\n\u001B[1;32m   1083\u001B[0m     \u001B[38;5;28;01mreturn\u001B[39;00m result\n\u001B[1;32m   1085\u001B[0m \u001B[38;5;28;01mif\u001B[39;00m \u001B[38;5;129;01mnot\u001B[39;00m \u001B[38;5;28misinstance\u001B[39m(\u001B[38;5;28mself\u001B[39m\u001B[38;5;241m.\u001B[39mindex, MultiIndex):\n",
      "File \u001B[0;32m/usr/local/lib/python3.8/dist-packages/pandas/core/indexers/utils.py:343\u001B[0m, in \u001B[0;36mdisallow_ndim_indexing\u001B[0;34m(result)\u001B[0m\n\u001B[1;32m    335\u001B[0m \u001B[38;5;250m\u001B[39m\u001B[38;5;124;03m\"\"\"\u001B[39;00m\n\u001B[1;32m    336\u001B[0m \u001B[38;5;124;03mHelper function to disallow multi-dimensional indexing on 1D Series/Index.\u001B[39;00m\n\u001B[1;32m    337\u001B[0m \n\u001B[0;32m   (...)\u001B[0m\n\u001B[1;32m    340\u001B[0m \u001B[38;5;124;03min GH#30588.\u001B[39;00m\n\u001B[1;32m    341\u001B[0m \u001B[38;5;124;03m\"\"\"\u001B[39;00m\n\u001B[1;32m    342\u001B[0m \u001B[38;5;28;01mif\u001B[39;00m np\u001B[38;5;241m.\u001B[39mndim(result) \u001B[38;5;241m>\u001B[39m \u001B[38;5;241m1\u001B[39m:\n\u001B[0;32m--> 343\u001B[0m     \u001B[38;5;28;01mraise\u001B[39;00m \u001B[38;5;167;01mValueError\u001B[39;00m(\n\u001B[1;32m    344\u001B[0m         \u001B[38;5;124m\"\u001B[39m\u001B[38;5;124mMulti-dimensional indexing (e.g. `obj[:, None]`) is no longer \u001B[39m\u001B[38;5;124m\"\u001B[39m\n\u001B[1;32m    345\u001B[0m         \u001B[38;5;124m\"\u001B[39m\u001B[38;5;124msupported. Convert to a numpy array before indexing instead.\u001B[39m\u001B[38;5;124m\"\u001B[39m\n\u001B[1;32m    346\u001B[0m     )\n",
      "\u001B[0;31mValueError\u001B[0m: Multi-dimensional indexing (e.g. `obj[:, None]`) is no longer supported. Convert to a numpy array before indexing instead."
     ]
    },
    {
     "data": {
      "text/plain": "<Figure size 1400x800 with 1 Axes>",
      "image/png": "[encoded data removed]"
     },
     "metadata": {},
     "output_type": "display_data"
    }
   ],
   "source": [
    "histo['Epoch'] = training.epoch  # add a column with the epoch number\n",
    "figure, axe = plt.subplots(figsize=(14, 8))\n",
    "num_epoch = histo.shape[0]\n",
    "axe.plot(np.arange(0, num_epoch), histo[\"categorical_accuracy\"], label=\"Training Accuracy\", lw=3, color='red')\n",
    "axe.plot(np.arange(0, num_epoch), histo[\"val_categorical_accuracy\"], label=\"Validation Accuracy\", lw=3, color='blue')\n",
    "axe.legend()\n",
    "plt.show()"
   ]
  },
  {
   "cell_type": "markdown",
   "id": "C8BXcW4ajmhl",
   "metadata": {
    "id": "C8BXcW4ajmhl"
   },
   "source": [
    "\n",
    "<h2>Prediction</h2>\n",
    "The <i>predict</i> function returns a vector with the probability of each class. </br></br>\n",
    "The predicted class is the one with the highest probability. We use the <i>argmax</i> function (numpy) to find the column index of the maximum value. The argmax function is defined for arrays and not dataframes. We convert a dataframe into an array with the function <i>to_numpy</i>.\n",
    "\n"
   ]
  },
  {
   "cell_type": "code",
   "execution_count": 27,
   "id": "e5USdywykBKt",
   "metadata": {
    "id": "e5USdywykBKt",
    "colab": {
     "base_uri": "https://localhost:8080/"
    },
    "outputId": "1b165871-c04b-4c00-d571-efd3e745fd42",
    "ExecuteTime": {
     "end_time": "2023-11-09T07:48:54.040835963Z",
     "start_time": "2023-11-09T07:48:53.920327156Z"
    }
   },
   "outputs": [
    {
     "name": "stdout",
     "output_type": "stream",
     "text": [
      "31/31 [==============================] - 0s 629us/step\n",
      "Probabilities for each class \n",
      " [[0.0663304  0.02413559 0.00219657 0.61325896 0.27251527 0.02156322]\n",
      " [0.00261932 0.16718401 0.78344756 0.01197    0.00442587 0.03035326]\n",
      " [0.00149487 0.11982845 0.8442864  0.0070762  0.00204913 0.02526504]]\n",
      "\n",
      "\n",
      "Predicted class \n",
      " [3 2 2 2 5 3 5 5 0]\n",
      "\n",
      "\n",
      "True class \n",
      " [4 2 2 2 5 3 5 5 0]\n"
     ]
    }
   ],
   "source": [
    "pred_proba = model.predict(xVal_scaled)\n",
    "print(\"Probabilities for each class \\n\", pred_proba[0:3])  # display the first 3 rows of the xVal prediction\n",
    "print(\"\\n\")\n",
    "\n",
    "# The predicted class is the\n",
    "yVal_pred = np.argmax(pred_proba, axis=1)\n",
    "print(\"Predicted class \\n\", yVal_pred[0:9])\n",
    "print(\"\\n\")\n",
    "\n",
    "# The true class is the column number in yVal_cat with the maximum probability\n",
    "yVal_true = np.argmax(yVal.to_numpy(), axis=1)  # .to_numpy()  convert the dataframe into an array\n",
    "print(\"True class \\n\", yVal_true[0:9])\n"
   ]
  },
  {
   "cell_type": "code",
   "execution_count": 29,
   "id": "rzvuA4oppc54",
   "metadata": {
    "id": "rzvuA4oppc54",
    "colab": {
     "base_uri": "https://localhost:8080/"
    },
    "outputId": "2fbd636a-2bb0-4132-d968-0c3e8230469e",
    "ExecuteTime": {
     "end_time": "2023-11-09T07:58:29.410025268Z",
     "start_time": "2023-11-09T07:58:29.363610022Z"
    }
   },
   "outputs": [
    {
     "name": "stdout",
     "output_type": "stream",
     "text": [
      "Test Accuracy :  84.66321243523316\n",
      "\n",
      " Confusion matrix:\n",
      "[[ 92   0   0   0   8   0]\n",
      " [  1  29  14   1   5  38]\n",
      " [  0   3 203   0   0   1]\n",
      " [  1   0   4 230   4   0]\n",
      " [  5   1   1  11  62  25]\n",
      " [  0  13   6   0   6 201]]\n",
      "\n",
      " Accuracy per class:\n",
      "[92.92929293 63.04347826 89.03508772 95.04132231 72.94117647 75.8490566 ]\n"
     ]
    }
   ],
   "source": [
    "# Global accuracy\n",
    "print(\"Test Accuracy : \", accuracy_score(yVal_true, yVal_pred) * 100)\n",
    "\n",
    "# Confusion matrix\n",
    "conf_mat = confusion_matrix(yVal_true, yVal_pred)\n",
    "print(\"\\n Confusion matrix:\")\n",
    "print(conf_mat)\n",
    "\n",
    "# Accuracy per class\n",
    "acc_class = 100 * conf_mat.diagonal() / np.sum(conf_mat, axis=0)\n",
    "#Acc_Class=pnd.DataFrame(Acc_Class, index=[\"setosa\", \"versicolor\",\"virginica\"],columns=[\"Accuracy\"])\n",
    "print(\"\\n Accuracy per class:\")\n",
    "print(acc_class)"
   ]
  },
  {
   "cell_type": "markdown",
   "id": "cpjkONNogMdr",
   "metadata": {
    "id": "cpjkONNogMdr"
   },
   "source": [
    "<center>\n",
    "<h1>EXERCICE</h1>\n",
    "</center>\n",
    "\n",
    "The dataset <i>letter-recognition.data</i> contains character image features and the objective is to identify the letter (from A to Z).<br/>\n",
    "\n",
    "<center>\n",
    "<div>\n",
    "<img src=\"https://drive.google.com/uc?id=1Qg7JS0fRYMQD87vKS0QR4u8PWHO9Fofz\" width=\"500\"/>\n",
    "</div>\n",
    "</center><br/>\n",
    "\n",
    "A description of the dataset and the input variables is given on the web site [UCI Machine Learning Repository](https://archive.ics.uci.edu/ml/datasets/Letter+Recognition)\n",
    "<br/>\n",
    "\n",
    "\n",
    "<ol>\n",
    "<li>Dataset importation. <br/>\n",
    "How many images are in the dataset?<br/>\n",
    "What is the target variable name? Verify its distribution.<br/>\n",
    "How many variables are in the dataset? What is their type? <br/>\n",
    "</li>\n",
    "<li>Data preprocessing.<br/>\n",
    "Binarize the target variable.<br/>\n",
    "Split the dataset into training, validation and test sets.<br/>\n",
    "Scale the numerical variables.<br/>\n",
    "<li>Neural network model<br/>\n",
    "Build the architecture of the neural network.<br/>\n",
    "Define the optimization process.<br/>\n",
    "Train the model with the training dataset.<br/>\n",
    "Analyse the results (Accuracy, confusion matrix,...).<br/>\n",
    "<ol/>"
   ]
  },
  {
   "cell_type": "code",
   "execution_count": 45,
   "id": "Ut449V7GiS33",
   "metadata": {
    "id": "Ut449V7GiS33",
    "ExecuteTime": {
     "end_time": "2023-11-09T08:08:03.548336247Z",
     "start_time": "2023-11-09T08:08:03.334982615Z"
    }
   },
   "outputs": [
    {
     "name": "stdout",
     "output_type": "stream",
     "text": [
      "Number of images: 340000\n",
      "The target variable is: 0\n"
     ]
    },
    {
     "data": {
      "text/plain": "0     object\n1      int64\n2      int64\n3      int64\n4      int64\n5      int64\n6      int64\n7      int64\n8      int64\n9      int64\n10     int64\n11     int64\n12     int64\n13     int64\n14     int64\n15     int64\n16     int64\ndtype: object"
     },
     "execution_count": 45,
     "metadata": {},
     "output_type": "execute_result"
    },
    {
     "data": {
      "text/plain": "<Figure size 640x480 with 1 Axes>",
      "image/png": "[encoded data removed]"
     },
     "metadata": {},
     "output_type": "display_data"
    }
   ],
   "source": [
    "## QUESTION 1\n",
    "##\n",
    "## Your code here\n",
    "##\n",
    "\n",
    "data = pnd.read_csv(\"letter-recognition.data\", header=None, delimiter=\",\")\n",
    "print(\"Number of images:\", data.size)\n",
    "print(\"The target variable is:\", data.columns[0])\n",
    "data.groupby(0).size().plot.bar(title=\"Letters distribution\", ylabel='Nb of examples')\n",
    "data.dtypes"
   ]
  },
  {
   "cell_type": "code",
   "execution_count": 53,
   "id": "_XH3Hetqp3i8",
   "metadata": {
    "id": "_XH3Hetqp3i8",
    "ExecuteTime": {
     "end_time": "2023-11-09T08:17:44.494303763Z",
     "start_time": "2023-11-09T08:17:44.471777359Z"
    }
   },
   "outputs": [],
   "source": [
    "## QUESTION 2\n",
    "##\n",
    "## Your code here\n",
    "##\n",
    "x = data.drop(columns=[0])  # input variables\n",
    "y = data[0]  # Target variable\n",
    "y_cat = pnd.get_dummies(y)\n",
    "p = y_cat.shape[1]  #number of classes\n",
    "d = x.shape[1]\n",
    "y_cat.head()\n",
    "\n",
    "# First split 70% - 30%\n",
    "xTrain, xRest, yTrain, yRest = train_test_split(x, y_cat, train_size=0.7)\n",
    "# Second split 15% - 15%\n",
    "xVal, xTest, yVal, _ = train_test_split(xRest, yRest, test_size=0.5)\n",
    "# Scaling\n",
    "scaler = StandardScaler()\n",
    "_ = scaler.fit(xTrain)\n",
    "xTrain_scaled = scaler.transform(xTrain)\n",
    "xVal_scaled = scaler.transform(xVal)\n",
    "_ = scaler.transform(xTest)"
   ]
  },
  {
   "cell_type": "code",
   "execution_count": 55,
   "id": "d1rdMXgIikfn",
   "metadata": {
    "id": "d1rdMXgIikfn",
    "ExecuteTime": {
     "end_time": "2023-11-09T08:21:47.138302495Z",
     "start_time": "2023-11-09T08:21:47.074436606Z"
    }
   },
   "outputs": [
    {
     "name": "stdout",
     "output_type": "stream",
     "text": [
      "Model: \"sequential_3\"\n",
      "_________________________________________________________________\n",
      " Layer (type)                Output Shape              Param #   \n",
      "=================================================================\n",
      " dense_6 (Dense)             (None, 20)                340       \n",
      "                                                                 \n",
      " dense_7 (Dense)             (None, 26)                546       \n",
      "                                                                 \n",
      "=================================================================\n",
      "Total params: 886 (3.46 KB)\n",
      "Trainable params: 886 (3.46 KB)\n",
      "Non-trainable params: 0 (0.00 Byte)\n",
      "_________________________________________________________________\n"
     ]
    }
   ],
   "source": [
    "## QUESTION 3\n",
    "##\n",
    "## Your code here\n",
    "##\n",
    "model = keras.Sequential([\n",
    "    layers.Input(shape=(d,)),\n",
    "    layers.Dense(20, activation='sigmoid'),\n",
    "    layers.Dense(p, activation='softmax')\n",
    "])\n",
    "\n",
    "model.summary()\n",
    "\n",
    "model.compile(\n",
    "    optimizer='sgd',\n",
    "    loss='categorical_crossentropy',\n",
    "    metrics=['categorical_accuracy'])\n"
   ]
  },
  {
   "cell_type": "code",
   "execution_count": 56,
   "outputs": [
    {
     "name": "stdout",
     "output_type": "stream",
     "text": [
      "Epoch 1/10\n",
      "2800/2800 [==============================] - 2s 784us/step - loss: 3.0652 - categorical_accuracy: 0.1834 - val_loss: 2.8279 - val_categorical_accuracy: 0.3243\n",
      "Epoch 2/10\n",
      "2800/2800 [==============================] - 2s 697us/step - loss: 2.5807 - categorical_accuracy: 0.4197 - val_loss: 2.3609 - val_categorical_accuracy: 0.4680\n",
      "Epoch 3/10\n",
      "2800/2800 [==============================] - 3s 902us/step - loss: 2.1646 - categorical_accuracy: 0.5234 - val_loss: 2.0186 - val_categorical_accuracy: 0.5357\n",
      "Epoch 4/10\n",
      "2800/2800 [==============================] - 2s 754us/step - loss: 1.8709 - categorical_accuracy: 0.5800 - val_loss: 1.7792 - val_categorical_accuracy: 0.5897\n",
      "Epoch 5/10\n",
      "2800/2800 [==============================] - 2s 698us/step - loss: 1.6637 - categorical_accuracy: 0.6194 - val_loss: 1.6102 - val_categorical_accuracy: 0.6063\n",
      "Epoch 6/10\n",
      "2800/2800 [==============================] - 2s 688us/step - loss: 1.5134 - categorical_accuracy: 0.6440 - val_loss: 1.4831 - val_categorical_accuracy: 0.6407\n",
      "Epoch 7/10\n",
      "2800/2800 [==============================] - 2s 699us/step - loss: 1.4005 - categorical_accuracy: 0.6621 - val_loss: 1.3860 - val_categorical_accuracy: 0.6663\n",
      "Epoch 8/10\n",
      "2800/2800 [==============================] - 2s 697us/step - loss: 1.3137 - categorical_accuracy: 0.6806 - val_loss: 1.3116 - val_categorical_accuracy: 0.6780\n",
      "Epoch 9/10\n",
      "2800/2800 [==============================] - 3s 982us/step - loss: 1.2440 - categorical_accuracy: 0.6928 - val_loss: 1.2511 - val_categorical_accuracy: 0.6850\n",
      "Epoch 10/10\n",
      "2800/2800 [==============================] - 2s 734us/step - loss: 1.1883 - categorical_accuracy: 0.7011 - val_loss: 1.2005 - val_categorical_accuracy: 0.6900\n"
     ]
    }
   ],
   "source": [
    "training = model.fit(xTrain_scaled, yTrain, epochs=10, batch_size=5, validation_data=(xVal_scaled, yVal))"
   ],
   "metadata": {
    "collapsed": false,
    "ExecuteTime": {
     "end_time": "2023-11-09T08:23:26.691343560Z",
     "start_time": "2023-11-09T08:23:05.064896682Z"
    }
   },
   "id": "a7e3a6d578b970d2"
  },
  {
   "cell_type": "code",
   "execution_count": 58,
   "outputs": [
    {
     "data": {
      "text/plain": "       loss  categorical_accuracy  val_loss  val_categorical_accuracy\n0  3.065171              0.183357  2.827885                  0.324333\n1  2.580681              0.419714  2.360884                  0.468000\n2  2.164596              0.523357  2.018631                  0.535667\n3  1.870854              0.580000  1.779205                  0.589667\n4  1.663664              0.619429  1.610229                  0.606333\n5  1.513370              0.644000  1.483059                  0.640667\n6  1.400489              0.662143  1.386014                  0.666333\n7  1.313656              0.680571  1.311624                  0.678000\n8  1.243957              0.692786  1.251147                  0.685000\n9  1.188338              0.701071  1.200542                  0.690000",
      "text/html": "<div>\n<style scoped>\n    .dataframe tbody tr th:only-of-type {\n        vertical-align: middle;\n    }\n\n    .dataframe tbody tr th {\n        vertical-align: top;\n    }\n\n    .dataframe thead th {\n        text-align: right;\n    }\n</style>\n<table border=\"1\" class=\"dataframe\">\n  <thead>\n    <tr style=\"text-align: right;\">\n      <th></th>\n      <th>loss</th>\n      <th>categorical_accuracy</th>\n      <th>val_loss</th>\n      <th>val_categorical_accuracy</th>\n    </tr>\n  </thead>\n  <tbody>\n    <tr>\n      <th>0</th>\n      <td>3.065171</td>\n      <td>0.183357</td>\n      <td>2.827885</td>\n      <td>0.324333</td>\n    </tr>\n    <tr>\n      <th>1</th>\n      <td>2.580681</td>\n      <td>0.419714</td>\n      <td>2.360884</td>\n      <td>0.468000</td>\n    </tr>\n    <tr>\n      <th>2</th>\n      <td>2.164596</td>\n      <td>0.523357</td>\n      <td>2.018631</td>\n      <td>0.535667</td>\n    </tr>\n    <tr>\n      <th>3</th>\n      <td>1.870854</td>\n      <td>0.580000</td>\n      <td>1.779205</td>\n      <td>0.589667</td>\n    </tr>\n    <tr>\n      <th>4</th>\n      <td>1.663664</td>\n      <td>0.619429</td>\n      <td>1.610229</td>\n      <td>0.606333</td>\n    </tr>\n    <tr>\n      <th>5</th>\n      <td>1.513370</td>\n      <td>0.644000</td>\n      <td>1.483059</td>\n      <td>0.640667</td>\n    </tr>\n    <tr>\n      <th>6</th>\n      <td>1.400489</td>\n      <td>0.662143</td>\n      <td>1.386014</td>\n      <td>0.666333</td>\n    </tr>\n    <tr>\n      <th>7</th>\n      <td>1.313656</td>\n      <td>0.680571</td>\n      <td>1.311624</td>\n      <td>0.678000</td>\n    </tr>\n    <tr>\n      <th>8</th>\n      <td>1.243957</td>\n      <td>0.692786</td>\n      <td>1.251147</td>\n      <td>0.685000</td>\n    </tr>\n    <tr>\n      <th>9</th>\n      <td>1.188338</td>\n      <td>0.701071</td>\n      <td>1.200542</td>\n      <td>0.690000</td>\n    </tr>\n  </tbody>\n</table>\n</div>"
     },
     "execution_count": 58,
     "metadata": {},
     "output_type": "execute_result"
    }
   ],
   "source": [
    "histo = pnd.DataFrame(training.history)  # transform the array into a dataframe\n",
    "histo"
   ],
   "metadata": {
    "collapsed": false,
    "ExecuteTime": {
     "end_time": "2023-11-09T08:23:47.270153118Z",
     "start_time": "2023-11-09T08:23:47.226090276Z"
    }
   },
   "id": "2d5b1aaff978f83c"
  },
  {
   "cell_type": "code",
   "execution_count": 59,
   "outputs": [
    {
     "name": "stdout",
     "output_type": "stream",
     "text": [
      "94/94 [==============================] - 0s 635us/step\n",
      "Probabilities for each class \n",
      " [[4.5512188e-03 1.5444960e-01 1.8772607e-03 9.8768966e-03 1.0834594e-02\n",
      "  1.8543552e-03 6.4993627e-02 3.4606524e-02 1.6968456e-04 3.1376246e-04\n",
      "  8.1772186e-02 2.6030410e-03 1.2251708e-02 3.0536971e-03 2.8532272e-02\n",
      "  1.6606584e-02 4.6367683e-02 5.0556278e-01 3.8255728e-03 1.3017257e-04\n",
      "  6.2974222e-04 3.5693792e-03 4.4010971e-03 6.9021252e-03 9.9405246e-05\n",
      "  1.6504597e-04]\n",
      " [9.1193404e-05 7.2830790e-03 8.2455315e-03 2.6822041e-03 1.5050359e-01\n",
      "  1.5140948e-03 3.9807814e-03 3.4092006e-04 2.4511021e-02 6.4949323e-03\n",
      "  1.9594019e-03 7.6027932e-03 7.0189226e-06 1.0122604e-05 5.4716959e-04\n",
      "  4.2577576e-05 2.6508924e-03 4.4307200e-04 8.5915163e-02 9.2122024e-03\n",
      "  2.5144740e-04 4.9618182e-05 9.8124315e-07 6.7647360e-02 2.1912744e-03\n",
      "  6.1582160e-01]\n",
      " [1.0996987e-03 8.2208292e-04 2.0731606e-01 6.1740691e-04 4.7037417e-01\n",
      "  1.5661996e-04 4.3579705e-02 8.0990326e-04 1.2031263e-02 6.4885598e-03\n",
      "  1.5963431e-02 6.7659542e-02 7.1533519e-05 6.7102432e-05 4.0509165e-03\n",
      "  2.9169044e-06 7.7388049e-03 5.4896600e-04 2.0750850e-02 3.5324504e-03\n",
      "  2.7834550e-03 3.0005915e-05 4.4661956e-06 5.9408449e-02 4.6075942e-04\n",
      "  7.3630773e-02]]\n",
      "\n",
      "\n",
      "Predicted class \n",
      " [17 25  4  6 23 24  6 17  9]\n",
      "\n",
      "\n",
      "True class \n",
      " [10 25  4  6 23 21  6 17  9]\n"
     ]
    }
   ],
   "source": [
    "pred_proba = model.predict(xVal_scaled)\n",
    "print(\"Probabilities for each class \\n\", pred_proba[0:3])  # display the first 3 rows of the xVal prediction\n",
    "print(\"\\n\")\n",
    "\n",
    "# The predicted class is the\n",
    "yVal_pred = np.argmax(pred_proba, axis=1)\n",
    "print(\"Predicted class \\n\", yVal_pred[0:9])\n",
    "print(\"\\n\")\n",
    "\n",
    "# The true class is the column number in yVal_cat with the maximum probability\n",
    "yVal_true = np.argmax(yVal.to_numpy(), axis=1)  # .to_numpy()  convert the dataframe into an array\n",
    "print(\"True class \\n\", yVal_true[0:9])"
   ],
   "metadata": {
    "collapsed": false,
    "ExecuteTime": {
     "end_time": "2023-11-09T08:24:19.620399520Z",
     "start_time": "2023-11-09T08:24:19.466381892Z"
    }
   },
   "id": "39fdea0fb1d948e4"
  },
  {
   "cell_type": "code",
   "execution_count": 65,
   "outputs": [
    {
     "name": "stdout",
     "output_type": "stream",
     "text": [
      "Test Accuracy :  69.0\n",
      "\n",
      " Confusion matrix:\n",
      "[[ 90   0   0   2   0   0   0   0   0   2   1   0   2   1   2   0   1   1\n",
      "    0   0   0   0   4   1   2   0]\n",
      " [  0  81   0   2   0   1   5   1   0   0   1   0   0   0   1   1   1   9\n",
      "    1   0   0   0   0   0   1   0]\n",
      " [  0   0  69   0   2   0   7   0   0   0   7   0   0   0   1   0   0   0\n",
      "    0   1   3   0   1   0   0   0]\n",
      " [  1   6   0  97   0   0   0   0   0   1   0   0   1   3   1   4   0   0\n",
      "    2   0   1   0   0   5   0   0]\n",
      " [  0   1   3   0  82   0   9   0   0   0   4   0   0   0   0   0   0   0\n",
      "    2   1   0   0   0   3   2   8]\n",
      " [  0   9   0   2   0  79   5   0   1   0   0   0   0   3   0  12   0   3\n",
      "    1  17   0   0   0   0   2   0]\n",
      " [  5   1  26   1   0   0  50   0   0   0   6   3   0   0   2   0   9   3\n",
      "    4   0   2   1   3   0   0   0]\n",
      " [  0   1   0   8   0   2   0  11   0   0  12   0  12  25  22   1   2   9\n",
      "    0   0   7   0   5   1   0   0]\n",
      " [  0   4   1   5   0   3   0   0  92   3   0   1   0   0   0   2   0   0\n",
      "    8   0   0   0   0   0   1   0]\n",
      " [  1   3   0   5   0   5   0   0  11  81   0   0   1   1   2   0   0   0\n",
      "    5   0   0   0   0   1   0   0]\n",
      " [  0   2   6   3   5   0   0   1   0   0  77   1   0   1   0   0   0  10\n",
      "    0   0   5   0   0   5   0   0]\n",
      " [  1   0   1   3   2   0   1   0   0   0   2  91   0   0   0   0   3   1\n",
      "    4   0   0   0   0   2   0   0]\n",
      " [  1   1   0   0   0   0   0   0   0   0   3   0  95   3   0   0   0   0\n",
      "    0   0   0   0   3   0   0   0]\n",
      " [  0   0   0   4   0   0   0   1   0   0   1   0   6  88   2   0   0   1\n",
      "    0   0   4   0   6   1   1   0]\n",
      " [ 10   0   0   9   0   0   7   5   0   0   0   0   3   0  69   3   0   1\n",
      "    0   0   1   0   4   0   0   0]\n",
      " [  0   1   0   0   0   5   2   1   0   0   0   0   0   3   1 106   2   1\n",
      "    0   0   0   1   0   0   5   0]\n",
      " [  3   2   0   1   5   0  10   0   0   0   0   2   0   0   8   0  82   0\n",
      "    7   0   0   7   1   0   4   0]\n",
      " [  0   2   0  11   0   0   0   0   0   0   6   0   0   0   0   0   0  88\n",
      "    0   0   0   0   0   6   0   0]\n",
      " [  3  22   0   4   3   2   1   0   0   1   0   4   0   0   0   0   2   0\n",
      "   29   2   0   1   0   2   5  29]\n",
      " [  0   2   0   0   2   4   4   0   1   0   6   0   1   0   0   0   2   0\n",
      "    0  91   2   3   0   4   5   5]\n",
      " [  0   0   0   0   0   0   0   0   0   0   0   0   4   5   3   0   0   0\n",
      "    0   0 101   0   0   0   0   0]\n",
      " [  0   1   0   0   0   0   1   0   0   0   0   0   0   0   0   1   0   0\n",
      "    0   0   2  95   4   0   8   0]\n",
      " [  0   0   0   0   0   0   0   1   0   0   0   0  10   0   0   0   0   0\n",
      "    0   0   0   3  90   0   0   0]\n",
      " [  0   1   1   2   6   0   0   1   3   0   3   1   0   0   0   0  18   0\n",
      "    6   0   2   0   0  65   1   6]\n",
      " [  0   0   0   0   0   2   0   1   0   0   0   0   0   0   0   1   6   0\n",
      "    3  12   0  14   0   0  84   0]\n",
      " [  0   0   0   2   5   0   0   0   2   0   0   0   0   0   0   0   0   0\n",
      "   14   1   0   0   0   0   0  87]]\n",
      "\n",
      " Accuracy per class:\n",
      "[78.26086957 57.85714286 64.48598131 60.2484472  73.21428571 76.69902913\n",
      " 49.01960784 47.82608696 83.63636364 92.04545455 59.68992248 88.34951456\n",
      " 70.37037037 66.16541353 60.52631579 80.91603053 64.0625     69.29133858\n",
      " 33.72093023 72.8        77.69230769 76.         74.38016529 67.70833333\n",
      " 69.4214876  64.44444444]\n"
     ]
    }
   ],
   "source": [
    "# Global accuracy\n",
    "print(\"Test Accuracy : \", accuracy_score(yVal_true, yVal_pred) * 100)\n",
    "\n",
    "# Confusion matrix\n",
    "conf_mat = confusion_matrix(yVal_true, yVal_pred)\n",
    "print(\"\\n Confusion matrix:\")\n",
    "print(conf_mat)\n",
    "\n",
    "# Accuracy per class\n",
    "acc_class = 100 * conf_mat.diagonal() / np.sum(conf_mat, axis=0)\n",
    "print(\"\\n Accuracy per class:\")\n",
    "print(acc_class)"
   ],
   "metadata": {
    "collapsed": false,
    "ExecuteTime": {
     "end_time": "2023-11-09T08:26:11.423928698Z",
     "start_time": "2023-11-09T08:26:11.416251858Z"
    }
   },
   "id": "379b3ed563c51693"
  }
 ],
 "metadata": {
  "colab": {
   "provenance": []
  },
  "kernelspec": {
   "display_name": "Python 3 (ipykernel)",
   "language": "python",
   "name": "python3"
  },
  "language_info": {
   "codemirror_mode": {
    "name": "ipython",
    "version": 3
   },
   "file_extension": ".py",
   "mimetype": "text/x-python",
   "name": "python",
   "nbconvert_exporter": "python",
   "pygments_lexer": "ipython3",
   "version": "3.9.7"
  }
 },
 "nbformat": 4,
 "nbformat_minor": 5
}
