{
 "cells": [
  {
   "cell_type": "markdown",
   "id": "14288e1a",
   "metadata": {},
   "source": [
    "\n",
    "<h1 style=\"border: 2px solid black; padding: 15px; border-radius: 12px;\" align='center'>Cours IA et Applications</h1>    \n",
    "\n",
    "<h2 align='center'> Rappels de Python </h2>\n",
    "\n",
    "<h3 align='center'> Jordy Palafox </h3>\n",
    "<h3 align='center'> Ing2 GSI/MI - 2023/2024 </h3>\n",
    "      \n",
    "      \n",
    "<div style=\"display:flex\"> \n",
    "    <img src=\"cytech.png\", style=\"width:250px;height:50\"> \n",
    "    <img src=\"cy.jpg\", style=\"width:300px;height:100px\"> \n",
    "</div> "
   ]
  },
  {
   "cell_type": "markdown",
   "id": "dd56d318",
   "metadata": {},
   "source": [
    "Ce notebook a pour but de vous initier ou vous faire des rappels sur Python. \n",
    "\n",
    "Différentes sources : \n",
    "https://dev.to/ericlecodeur/python-manipulation-des-strings-1g4a  \n",
    "https://breakintoai.fr/prereq-ml-bonus-apprendre-python-en-10-minutes/\n",
    "\n",
    "Le but n'est pas d'être exhaustif mais de vous fournir le minimum requis pour être à l'aise pour faire du Machine Learning et plus spécifiquement du Deep Learning !"
   ]
  },
  {
   "cell_type": "markdown",
   "id": "58a04bff",
   "metadata": {},
   "source": [
    "# Les variables en Python \n",
    "\n",
    "Le type de variable n'est à déclarer lors de la création d'une variable, d'ailleurs elle peut changer de type au cours d'une éxecution !"
   ]
  },
  {
   "cell_type": "code",
   "execution_count": 7,
   "id": "3a27e20b",
   "metadata": {
    "ExecuteTime": {
     "end_time": "2024-02-26T09:44:10.278774555Z",
     "start_time": "2024-02-26T09:44:10.260450682Z"
    }
   },
   "outputs": [],
   "source": [
    "exemple_de_liste = ['1',2,'trois']\n",
    "string = 'bien_le_bonjour'\n",
    "entier = 12\n",
    "virgule = 12."
   ]
  },
  {
   "cell_type": "code",
   "execution_count": 8,
   "id": "2d7630c5",
   "metadata": {
    "ExecuteTime": {
     "end_time": "2024-02-26T09:44:12.303758354Z",
     "start_time": "2024-02-26T09:44:12.281281995Z"
    }
   },
   "outputs": [
    {
     "name": "stdout",
     "output_type": "stream",
     "text": [
      "Le type de ['1', 2, 'trois'] est <class 'list'>, \n",
      "le type de bien_le_bonjour est <class 'str'>,  \n",
      "le type de 12 est <class 'int'>, \n",
      "le type de 12.0 est <class 'float'>. \n"
     ]
    }
   ],
   "source": [
    "print(f'Le type de {str(exemple_de_liste)} est {type(exemple_de_liste)}, \\n'\n",
    "f'le type de {str(string)} est {type(string)},  \\n'\n",
    "f'le type de {str(entier)} est {type(entier)}, \\n'\n",
    "f'le type de {str(virgule)} est {type(virgule)}. ')"
   ]
  },
  {
   "cell_type": "code",
   "execution_count": 12,
   "id": "0e2c80c0",
   "metadata": {
    "ExecuteTime": {
     "end_time": "2024-02-26T09:44:16.073939616Z",
     "start_time": "2024-02-26T09:44:16.055541594Z"
    }
   },
   "outputs": [
    {
     "name": "stdout",
     "output_type": "stream",
     "text": [
      "<class 'int'>\n"
     ]
    }
   ],
   "source": [
    "# On peut facilement réaffecter : \n",
    "string = 34\n",
    "print(type(string))"
   ]
  },
  {
   "cell_type": "markdown",
   "id": "6b6084bd",
   "metadata": {},
   "source": [
    "D'ailleurs pour mettre des commentaires en Python : # puis le texte et on en met partout, tout ce qui est après le symbole n'est pas exécuté !\n",
    "\n",
    "Pour le nombre des variables, en règle générale : pas de majuscules, on utilise _ comme séparateur comme pour exemple_de_liste.\n",
    "\n",
    "On vient de voir les classes : \n",
    "\n",
    "+ les **listes** (list) déclarées par des [], à noter qu'une liste peut contenir des types différents de variables ! \n",
    "+ les **strings** (str) déclarés par '..' ou \"..\" qui contiennent des chaînes de caractères, du texte \n",
    "+ les **integers**, entiers (int),\n",
    "+ les **floats**, nombre à virgule (float)\n",
    "\n",
    "Il existe d'autres types comme les tuples, qui sont des listes déclarées par des parenthèses : peu utilisés en général !\n",
    " \n",
    "En fonction du type de variables, on pourra faire différentes opérations que l'on va découvrir maintenant : "
   ]
  },
  {
   "cell_type": "markdown",
   "id": "89162382",
   "metadata": {},
   "source": [
    "# Opération de base\n",
    "\n",
    "Addition  +, soustraction -, multiplication \\*, division / ou encore modulo % !\n"
   ]
  },
  {
   "cell_type": "code",
   "execution_count": 4,
   "id": "2d240d65",
   "metadata": {},
   "outputs": [
    {
     "data": {
      "text/plain": [
       "24"
      ]
     },
     "execution_count": 4,
     "metadata": {},
     "output_type": "execute_result"
    }
   ],
   "source": [
    "12+12"
   ]
  },
  {
   "cell_type": "code",
   "execution_count": 5,
   "id": "6985610d",
   "metadata": {},
   "outputs": [
    {
     "data": {
      "text/plain": [
       "int"
      ]
     },
     "execution_count": 5,
     "metadata": {},
     "output_type": "execute_result"
    }
   ],
   "source": [
    "type(12+12)"
   ]
  },
  {
   "cell_type": "code",
   "execution_count": 1,
   "id": "6986fd93",
   "metadata": {
    "ExecuteTime": {
     "end_time": "2024-02-26T09:37:29.378359015Z",
     "start_time": "2024-02-26T09:37:29.365453368Z"
    }
   },
   "outputs": [
    {
     "data": {
      "text/plain": "0.30000000000000004"
     },
     "execution_count": 1,
     "metadata": {},
     "output_type": "execute_result"
    }
   ],
   "source": [
    ".1+.2"
   ]
  },
  {
   "cell_type": "code",
   "execution_count": 7,
   "id": "5b79caee",
   "metadata": {},
   "outputs": [
    {
     "data": {
      "text/plain": [
       "float"
      ]
     },
     "execution_count": 7,
     "metadata": {},
     "output_type": "execute_result"
    }
   ],
   "source": [
    "type(12+12.0)"
   ]
  },
  {
   "cell_type": "markdown",
   "id": "5f5e7375",
   "metadata": {},
   "source": [
    "Additionner un int et un float donne un float en sorti !"
   ]
  },
  {
   "cell_type": "code",
   "execution_count": 8,
   "id": "1eb7eca0",
   "metadata": {},
   "outputs": [
    {
     "data": {
      "text/plain": [
       "60"
      ]
     },
     "execution_count": 8,
     "metadata": {},
     "output_type": "execute_result"
    }
   ],
   "source": [
    "12*5"
   ]
  },
  {
   "cell_type": "code",
   "execution_count": 9,
   "id": "e22a8ff8",
   "metadata": {},
   "outputs": [
    {
     "data": {
      "text/plain": [
       "1.3333333333333333"
      ]
     },
     "execution_count": 9,
     "metadata": {},
     "output_type": "execute_result"
    }
   ],
   "source": [
    "4/3"
   ]
  },
  {
   "cell_type": "code",
   "execution_count": 10,
   "id": "d1c8806c",
   "metadata": {},
   "outputs": [
    {
     "data": {
      "text/plain": [
       "1"
      ]
     },
     "execution_count": 10,
     "metadata": {},
     "output_type": "execute_result"
    }
   ],
   "source": [
    "4%3"
   ]
  },
  {
   "cell_type": "markdown",
   "id": "a9ca1deb",
   "metadata": {},
   "source": [
    "Le dernier est à expliquer : dividande%diviseur donne le reste de la division euclidienne !"
   ]
  },
  {
   "cell_type": "code",
   "execution_count": 11,
   "id": "b3f31efb",
   "metadata": {},
   "outputs": [
    {
     "data": {
      "text/plain": [
       "0.9000000000000001"
      ]
     },
     "execution_count": 11,
     "metadata": {},
     "output_type": "execute_result"
    }
   ],
   "source": [
    "4.5%1.2"
   ]
  },
  {
   "cell_type": "markdown",
   "id": "1ace625f",
   "metadata": {},
   "source": [
    "L'opération puissance s'écrit a\\*\\*b : a puissance b "
   ]
  },
  {
   "cell_type": "code",
   "execution_count": 12,
   "id": "f20712a8",
   "metadata": {},
   "outputs": [
    {
     "data": {
      "text/plain": [
       "16"
      ]
     },
     "execution_count": 12,
     "metadata": {},
     "output_type": "execute_result"
    }
   ],
   "source": [
    "2**4"
   ]
  },
  {
   "cell_type": "markdown",
   "id": "777e625b",
   "metadata": {},
   "source": [
    "Ces opérations sur les nombres ont leur équivalent en partie pour les chaines de caractères :"
   ]
  },
  {
   "cell_type": "code",
   "execution_count": 13,
   "id": "8a2e9e2d",
   "metadata": {},
   "outputs": [
    {
     "name": "stdout",
     "output_type": "stream",
     "text": [
      "ab\n"
     ]
    }
   ],
   "source": [
    "exemple_du_plus = 'a'+'b'\n",
    "print(exemple_du_plus)"
   ]
  },
  {
   "cell_type": "code",
   "execution_count": 14,
   "id": "41c106b5",
   "metadata": {},
   "outputs": [
    {
     "data": {
      "text/plain": [
       "['C', 'est', 'cool', '3', '!']"
      ]
     },
     "execution_count": 14,
     "metadata": {},
     "output_type": "execute_result"
    }
   ],
   "source": [
    "somme_2_listes = ['C', 'est', 'cool'] + ['3'] + ['!']\n",
    "somme_2_listes"
   ]
  },
  {
   "cell_type": "markdown",
   "id": "2d193017",
   "metadata": {},
   "source": [
    "On concatène les listes ! "
   ]
  },
  {
   "cell_type": "code",
   "execution_count": 15,
   "id": "b72f656f",
   "metadata": {},
   "outputs": [
    {
     "name": "stdout",
     "output_type": "stream",
     "text": [
      "OkOkOkOkOkOkOkOkOkOk\n"
     ]
    },
    {
     "data": {
      "text/plain": [
       "'________________________________________________________________________________'"
      ]
     },
     "execution_count": 15,
     "metadata": {},
     "output_type": "execute_result"
    }
   ],
   "source": [
    "# Pour répliquer : 'chaine de caractères'* nombre de répliques\n",
    "\n",
    "print('Ok'* 10)\n",
    "'__'*40"
   ]
  },
  {
   "cell_type": "code",
   "execution_count": 16,
   "id": "09603c02",
   "metadata": {},
   "outputs": [
    {
     "data": {
      "text/plain": [
       "[4, 5, 4, 5, 4, 5, 4, 5, 4, 5]"
      ]
     },
     "execution_count": 16,
     "metadata": {},
     "output_type": "execute_result"
    }
   ],
   "source": [
    "# On peut faire aussi sur des listes\n",
    "[4,5]*5"
   ]
  },
  {
   "cell_type": "markdown",
   "id": "06b64aa3",
   "metadata": {},
   "source": [
    "# Manipulation de chaines de caractères "
   ]
  },
  {
   "cell_type": "code",
   "execution_count": 17,
   "id": "fbc4b74d",
   "metadata": {},
   "outputs": [
    {
     "name": "stdout",
     "output_type": "stream",
     "text": [
      "Pour retourner à la \n",
      "ligne quand on écrit beaucoup trop\n"
     ]
    }
   ],
   "source": [
    "print('Pour retourner à la \\nligne quand on écrit beaucoup trop')"
   ]
  },
  {
   "cell_type": "code",
   "execution_count": 18,
   "id": "1cc11e19",
   "metadata": {},
   "outputs": [
    {
     "name": "stdout",
     "output_type": "stream",
     "text": [
      "Salut ING2\n"
     ]
    }
   ],
   "source": [
    "name = \"ING2\"\n",
    "print(f'Salut {name}')"
   ]
  },
  {
   "cell_type": "markdown",
   "id": "ce69bc95",
   "metadata": {},
   "source": [
    "On peut faire avec .format aussi !"
   ]
  },
  {
   "cell_type": "code",
   "execution_count": 19,
   "id": "6225feab",
   "metadata": {},
   "outputs": [
    {
     "data": {
      "text/plain": [
       "'par exemple comme ça'"
      ]
     },
     "execution_count": 19,
     "metadata": {},
     "output_type": "execute_result"
    }
   ],
   "source": [
    "\"par exemple {}\".format('comme ça')"
   ]
  },
  {
   "cell_type": "markdown",
   "id": "062ae8d2",
   "metadata": {},
   "source": [
    "L'utilisation de print permet d'ignorer les caractères spéciaux : "
   ]
  },
  {
   "cell_type": "code",
   "execution_count": 20,
   "id": "b2689e00",
   "metadata": {},
   "outputs": [
    {
     "name": "stdout",
     "output_type": "stream",
     "text": [
      "https:\\\\example.com\\index.html\n"
     ]
    }
   ],
   "source": [
    "message = r\"https:\\\\example.com\\index.html\"\n",
    "print(message)\n",
    "# https:\\\\example.com\\index.html"
   ]
  },
  {
   "cell_type": "code",
   "execution_count": 21,
   "id": "a6e30064",
   "metadata": {},
   "outputs": [
    {
     "name": "stdout",
     "output_type": "stream",
     "text": [
      "\n",
      "C'est une autre  manière de faire,\n",
      "On l'utilise souvent pour décrire des fonctions que l'on créé\n",
      "Car il faut toujours\n",
      "Bien\n",
      "Très bien \n",
      "Les commenter\n"
     ]
    }
   ],
   "source": [
    "# Pour écrire sur plusieurs lignes :\n",
    "message = \"\"\"\n",
    "C'est une autre  manière de faire,\n",
    "On l'utilise souvent pour décrire des fonctions que l'on créé\n",
    "Car il faut toujours\n",
    "Bien\n",
    "Très bien \n",
    "Les commenter\n",
    "\"\"\"\n",
    "\n",
    "print(message)"
   ]
  },
  {
   "cell_type": "code",
   "execution_count": 22,
   "id": "88b247f9",
   "metadata": {},
   "outputs": [
    {
     "data": {
      "text/plain": [
       "'o'"
      ]
     },
     "execution_count": 22,
     "metadata": {},
     "output_type": "execute_result"
    }
   ],
   "source": [
    "# Pour récupérer une partie d'un string\n",
    "\n",
    "message = \"on peut faire ça\"\n",
    "\n",
    "message[0]"
   ]
  },
  {
   "cell_type": "code",
   "execution_count": 23,
   "id": "e0cfba3e",
   "metadata": {},
   "outputs": [
    {
     "data": {
      "text/plain": [
       "' '"
      ]
     },
     "execution_count": 23,
     "metadata": {},
     "output_type": "execute_result"
    }
   ],
   "source": [
    "# Pour la 3ème lettre\n",
    "message[2]"
   ]
  },
  {
   "cell_type": "code",
   "execution_count": 24,
   "id": "32b68072",
   "metadata": {},
   "outputs": [
    {
     "data": {
      "text/plain": [
       "'a'"
      ]
     },
     "execution_count": 24,
     "metadata": {},
     "output_type": "execute_result"
    }
   ],
   "source": [
    "# pour avoir la dernière lettre\n",
    "message[-1]"
   ]
  },
  {
   "cell_type": "code",
   "execution_count": 25,
   "id": "a9358289",
   "metadata": {},
   "outputs": [
    {
     "data": {
      "text/plain": [
       "'peut '"
      ]
     },
     "execution_count": 25,
     "metadata": {},
     "output_type": "execute_result"
    }
   ],
   "source": [
    "# Pour avoir les lettres 3 à 8 (ne pas oublier qu'on commence à 0 en python\n",
    "message[3:8]"
   ]
  },
  {
   "cell_type": "markdown",
   "id": "29c1ace8",
   "metadata": {},
   "source": [
    "A noter que les espaces comptent aussi !\n",
    "\n",
    "On ne peut pas remplacer une partie d'une chaine par contre n'importe comment : "
   ]
  },
  {
   "cell_type": "code",
   "execution_count": 26,
   "id": "a9149125",
   "metadata": {},
   "outputs": [
    {
     "ename": "TypeError",
     "evalue": "'str' object does not support item assignment",
     "output_type": "error",
     "traceback": [
      "\u001B[1;31m---------------------------------------------------------------------------\u001B[0m",
      "\u001B[1;31mTypeError\u001B[0m                                 Traceback (most recent call last)",
      "Cell \u001B[1;32mIn[26], line 1\u001B[0m\n\u001B[1;32m----> 1\u001B[0m message[\u001B[38;5;241m3\u001B[39m] \u001B[38;5;241m=\u001B[39m \u001B[38;5;124m'\u001B[39m\u001B[38;5;124md\u001B[39m\u001B[38;5;124m'\u001B[39m\n\u001B[0;32m      3\u001B[0m message\n",
      "\u001B[1;31mTypeError\u001B[0m: 'str' object does not support item assignment"
     ]
    }
   ],
   "source": [
    "message[3] = 'd'\n",
    "\n",
    "message"
   ]
  },
  {
   "cell_type": "code",
   "execution_count": 27,
   "id": "d2c6478d",
   "metadata": {},
   "outputs": [
    {
     "data": {
      "text/plain": [
       "'ut faire ça'"
      ]
     },
     "execution_count": 27,
     "metadata": {},
     "output_type": "execute_result"
    }
   ],
   "source": [
    "# POur afficher du début à la lettre 5\n",
    "\n",
    "message[:5]\n",
    "\n",
    "# et de la lettre 5 à la fin\n",
    "\n",
    "message[5:]"
   ]
  },
  {
   "cell_type": "code",
   "execution_count": 28,
   "id": "4b760e84",
   "metadata": {},
   "outputs": [
    {
     "name": "stdout",
     "output_type": "stream",
     "text": [
      "D'AUTRES MANIPULATIONS\n",
      "d'autres manipulations\n",
      "22\n",
      "voyons voir\n"
     ]
    }
   ],
   "source": [
    "message = \"D'autres manipulations\"\n",
    "\n",
    "# écrire en majuscule : \n",
    "\n",
    "print(message.upper())\n",
    "\n",
    "# en minuscule \n",
    "\n",
    "print(message.lower())\n",
    "\n",
    "# le nombre de caractères \n",
    "\n",
    "print(len(message))\n",
    "\n",
    "# pour supprimer des espaces avant et après une chaine de caractères \n",
    "\n",
    "print(\"         voyons voir         \".strip())"
   ]
  },
  {
   "cell_type": "code",
   "execution_count": 29,
   "id": "feb0b49b",
   "metadata": {},
   "outputs": [
    {
     "name": "stdout",
     "output_type": "stream",
     "text": [
      "False\n",
      "True\n"
     ]
    }
   ],
   "source": [
    "# Quelques autres exemples très utiles surtout en NLP : \n",
    "\n",
    "# pour savoir si un mot commence par une lettre\n",
    "\n",
    "print('mot1'.startswith('l'))\n",
    "\n",
    "# s'il se termine par une lettre\n",
    "\n",
    "print('youpi'.endswith('i'))"
   ]
  },
  {
   "cell_type": "code",
   "execution_count": 30,
   "id": "73322e8e",
   "metadata": {},
   "outputs": [
    {
     "data": {
      "text/plain": [
       "\"voyons n'importe quoi que ça donne\""
      ]
     },
     "execution_count": 30,
     "metadata": {},
     "output_type": "execute_result"
    }
   ],
   "source": [
    "# Pour remplacer une partie par des caractères :\n",
    " \n",
    "\"voyons ce que ça donne\".replace('ce', 'n\\'importe quoi')"
   ]
  },
  {
   "cell_type": "code",
   "execution_count": 31,
   "id": "c9ee6416",
   "metadata": {},
   "outputs": [
    {
     "data": {
      "text/plain": [
       "2"
      ]
     },
     "execution_count": 31,
     "metadata": {},
     "output_type": "execute_result"
    }
   ],
   "source": [
    "# pour trouver la position d'un caractère\n",
    "\n",
    "'mot'.find('t')"
   ]
  },
  {
   "cell_type": "markdown",
   "id": "a236d834",
   "metadata": {},
   "source": [
    "# On repart sur les nombres"
   ]
  },
  {
   "cell_type": "code",
   "execution_count": 32,
   "id": "6299e4d7",
   "metadata": {},
   "outputs": [
    {
     "name": "stdout",
     "output_type": "stream",
     "text": [
      "0.11573455921756459\n",
      "8.312315173183121\n"
     ]
    }
   ],
   "source": [
    "# Pour générer des nombres aléatoires entre 0 et 1 \n",
    "\n",
    "from random import random\n",
    "\n",
    "print(random())\n",
    "\n",
    "\n",
    "# Pour générer un nombre entre a et b  : (b-a)*random() + a\n",
    "# Par exemple entre 7 et 10\n",
    "\n",
    "print((10-7)*random()+7)"
   ]
  },
  {
   "cell_type": "code",
   "execution_count": 33,
   "id": "cff850e8",
   "metadata": {},
   "outputs": [
    {
     "data": {
      "text/plain": [
       "5"
      ]
     },
     "execution_count": 33,
     "metadata": {},
     "output_type": "execute_result"
    }
   ],
   "source": [
    "# Pour générer des entiers sur une plage de valeurs données : \n",
    "\n",
    "from random import randint\n",
    "\n",
    "randint(3,7)"
   ]
  },
  {
   "cell_type": "code",
   "execution_count": 34,
   "id": "ffbdcbf9",
   "metadata": {},
   "outputs": [
    {
     "name": "stdout",
     "output_type": "stream",
     "text": [
      "5\n",
      "4.12346\n"
     ]
    }
   ],
   "source": [
    "# Pour arrondir \n",
    "\n",
    "print(round(4.6))\n",
    "\n",
    "# pour choisir la précision d'arrondis \n",
    "\n",
    "print(round(4.123456789,5))"
   ]
  },
  {
   "cell_type": "code",
   "execution_count": 35,
   "id": "5f70c762",
   "metadata": {},
   "outputs": [
    {
     "name": "stdout",
     "output_type": "stream",
     "text": [
      "4.1235\n"
     ]
    }
   ],
   "source": [
    "# Pour imprimer un nombre avec un format\n",
    "\n",
    "nombre = 4.123456789\n",
    "nombre_string = f\"{nombre:.4f}\"\n",
    "\n",
    "print(nombre_string)"
   ]
  },
  {
   "cell_type": "markdown",
   "id": "3439e341",
   "metadata": {},
   "source": [
    "Quelques explications : \"{nombre:Xf}\", \"X\" représente le nombre de décimales pour arrondir, \"f\" indique que le format d'affichage sera fixe"
   ]
  },
  {
   "cell_type": "code",
   "execution_count": 36,
   "id": "18fb6897",
   "metadata": {},
   "outputs": [
    {
     "data": {
      "text/plain": [
       "False"
      ]
     },
     "execution_count": 36,
     "metadata": {},
     "output_type": "execute_result"
    }
   ],
   "source": [
    "# On peut vérifier si le type d'une variable est un type donné : isinstance(variable, type donné)\n",
    "\n",
    "isinstance('123', int)"
   ]
  },
  {
   "cell_type": "markdown",
   "id": "5f1f0b0b",
   "metadata": {},
   "source": [
    "# Les boucles "
   ]
  },
  {
   "cell_type": "markdown",
   "id": "773fc3c0",
   "metadata": {},
   "source": [
    "On va rencontrer trois types de boucles : if, for et while\n",
    "\n",
    "Si if et for sont très utilisés, while non car potentiellement la boucle peut être infinie, on essayera donc de transformer un while en une boucle avec if ou for !\n",
    "\n",
    "Ecrire une boucle if : \n",
    "\n",
    "if condition : \n",
    "        instruction"
   ]
  },
  {
   "cell_type": "markdown",
   "id": "5bab498c",
   "metadata": {},
   "source": [
    "## Boucle if "
   ]
  },
  {
   "cell_type": "code",
   "execution_count": 37,
   "id": "d4271f92",
   "metadata": {},
   "outputs": [
    {
     "name": "stdout",
     "output_type": "stream",
     "text": [
      "ok !\n"
     ]
    }
   ],
   "source": [
    "x = 3 # changer les valeurs pour voir ce que ça donne\n",
    "\n",
    "if x==3: \n",
    "    print('ok !')\n",
    "        "
   ]
  },
  {
   "cell_type": "markdown",
   "id": "dc404718",
   "metadata": {},
   "source": [
    "L'identation en Python est extrêment importante, indispensable même : veiller à bien respecter l'identation \n",
    "\n",
    "if machine : \n",
    "tab i.e 4 espaces instruction !"
   ]
  },
  {
   "cell_type": "code",
   "execution_count": 38,
   "id": "ada0b91d",
   "metadata": {},
   "outputs": [
    {
     "name": "stdout",
     "output_type": "stream",
     "text": [
      "3\n",
      "on est dans la boucle\n",
      "++++++++++++++++++++++++++++++\n",
      "on l'est plus\n"
     ]
    }
   ],
   "source": [
    "if x>2:\n",
    "    print(x)\n",
    "    print(\"on est dans la boucle\")\n",
    "    \n",
    "print(\"+++\"*10)    \n",
    "print('on l\\'est plus')"
   ]
  },
  {
   "cell_type": "code",
   "execution_count": 39,
   "id": "4c8b1229",
   "metadata": {},
   "outputs": [
    {
     "name": "stdout",
     "output_type": "stream",
     "text": [
      "3\n"
     ]
    },
    {
     "data": {
      "text/plain": [
       "True"
      ]
     },
     "execution_count": 39,
     "metadata": {},
     "output_type": "execute_result"
    }
   ],
   "source": [
    "# L'opérateur Not qui signifie différent de \n",
    "print(x)\n",
    "x != 4\n"
   ]
  },
  {
   "cell_type": "code",
   "execution_count": 40,
   "id": "ad34e8f4",
   "metadata": {},
   "outputs": [
    {
     "name": "stdout",
     "output_type": "stream",
     "text": [
      "ok\n"
     ]
    }
   ],
   "source": [
    "# Pour des conditions multiples and et or\n",
    "\n",
    "if x == 2 or x ==3:\n",
    "    print('ok')"
   ]
  },
  {
   "cell_type": "code",
   "execution_count": 41,
   "id": "7a95b781",
   "metadata": {},
   "outputs": [],
   "source": [
    "if x>10 and x<15 :\n",
    "    print('ok')"
   ]
  },
  {
   "cell_type": "markdown",
   "id": "ca98860a",
   "metadata": {},
   "source": [
    "Rien ne sort car la condition n'est pas réalisée !"
   ]
  },
  {
   "cell_type": "markdown",
   "id": "1816d8f3",
   "metadata": {},
   "source": [
    "On peut enchainer les instructions avec else:"
   ]
  },
  {
   "cell_type": "code",
   "execution_count": 42,
   "id": "a4876eb4",
   "metadata": {},
   "outputs": [
    {
     "name": "stdout",
     "output_type": "stream",
     "text": [
      "dommage\n"
     ]
    }
   ],
   "source": [
    "if x>4 :\n",
    "    print('ok')\n",
    "else : \n",
    "    print('dommage')"
   ]
  },
  {
   "cell_type": "markdown",
   "id": "6e590ae6",
   "metadata": {},
   "source": [
    "On peut sinon redonner une nouvelle condition à réaliser : "
   ]
  },
  {
   "cell_type": "code",
   "execution_count": 43,
   "id": "28d15c53",
   "metadata": {},
   "outputs": [
    {
     "name": "stdout",
     "output_type": "stream",
     "text": [
      "laisse tomber\n"
     ]
    }
   ],
   "source": [
    "if x>4 :\n",
    "    print('ok')\n",
    "elif x> 3 :\n",
    "    print('okkkk')\n",
    "else : \n",
    "    print('laisse tomber')"
   ]
  },
  {
   "cell_type": "markdown",
   "id": "2614bbf0",
   "metadata": {},
   "source": [
    "## Boucle for "
   ]
  },
  {
   "cell_type": "code",
   "execution_count": 44,
   "id": "cf24e92b",
   "metadata": {},
   "outputs": [
    {
     "name": "stdout",
     "output_type": "stream",
     "text": [
      "1\n",
      "on est dans la boucle\n",
      "2\n",
      "on est dans la boucle\n",
      "3\n",
      "on est dans la boucle\n",
      "4\n",
      "on est dans la boucle\n",
      "5\n",
      "on est dans la boucle\n",
      "6\n",
      "on est dans la boucle\n",
      "7\n",
      "on est dans la boucle\n",
      "8\n",
      "on est dans la boucle\n",
      "9\n",
      "on est dans la boucle\n",
      "on l'est plus\n"
     ]
    }
   ],
   "source": [
    "for i in range(1,10):\n",
    "    print(i)\n",
    "    print(\"on est dans la boucle\")\n",
    "    \n",
    "print('on l\\'est plus')"
   ]
  },
  {
   "cell_type": "markdown",
   "id": "4e1f36f1",
   "metadata": {},
   "source": [
    "Au passage, range(x1;x2;pas) : donne une liste d'entiers entre x1 (inclus) et x2 (exclu) avec un pas donné"
   ]
  },
  {
   "cell_type": "code",
   "execution_count": 45,
   "id": "75b89e3d",
   "metadata": {},
   "outputs": [
    {
     "name": "stdout",
     "output_type": "stream",
     "text": [
      "2\n",
      "3\n",
      "4\n"
     ]
    }
   ],
   "source": [
    "for i in range(2,5,1):\n",
    "    print(i)"
   ]
  },
  {
   "cell_type": "code",
   "execution_count": 46,
   "id": "387fc8b5",
   "metadata": {},
   "outputs": [
    {
     "name": "stdout",
     "output_type": "stream",
     "text": [
      "2\n",
      "4\n",
      "6\n",
      "8\n"
     ]
    }
   ],
   "source": [
    "for i in range(2,10,2):\n",
    "    print(i)"
   ]
  },
  {
   "cell_type": "markdown",
   "id": "654ecbbf",
   "metadata": {},
   "source": [
    "## Boucle while "
   ]
  },
  {
   "cell_type": "code",
   "execution_count": 47,
   "id": "090e14b3",
   "metadata": {},
   "outputs": [
    {
     "name": "stdout",
     "output_type": "stream",
     "text": [
      "Entrer un nombre, si c'est 5 on s'arrète3\n",
      "Entrer un nombre, si c'est 5 on s'arrète5\n"
     ]
    }
   ],
   "source": [
    "key = \"\"\n",
    "\n",
    "while key != \"5\" :\n",
    "    key = input('Entrer un nombre, si c\\'est 5 on s\\'arrète')"
   ]
  },
  {
   "cell_type": "code",
   "execution_count": 48,
   "id": "0ee05641",
   "metadata": {},
   "outputs": [
    {
     "name": "stdout",
     "output_type": "stream",
     "text": [
      "Enter your selection (5 = Quit): 4\n",
      "Enter your selection (5 = Quit): 6\n",
      "Secret door\n"
     ]
    }
   ],
   "source": [
    "# Les fonctions break et continue :\n",
    "\n",
    "key = \"\"\n",
    "\n",
    "while key != \"5\":\n",
    "    key = input(\"Enter your selection (5 = Quit): \")\n",
    "    if key == \"6\":\n",
    "        print(\"Secret door\")\n",
    "        break\n",
    "        \n",
    "# break permet de s'arrêter sans rien exécuter de plus, cela revient à sauter une étape dans le code "
   ]
  },
  {
   "cell_type": "code",
   "execution_count": 49,
   "id": "7d6f0abf",
   "metadata": {},
   "outputs": [
    {
     "name": "stdout",
     "output_type": "stream",
     "text": [
      "1\n",
      "2\n",
      "4\n",
      "5\n"
     ]
    }
   ],
   "source": [
    "# Pour sauter une itération, avec continue : \n",
    "x = 0\n",
    "\n",
    "while x < 5:\n",
    "    x += 1\n",
    "    if x == 3:\n",
    "        continue\n",
    "\n",
    "    print(x)\n",
    "    \n"
   ]
  },
  {
   "cell_type": "markdown",
   "id": "1e1678a1",
   "metadata": {},
   "source": [
    "# Les fonctions en Python \n",
    "\n",
    "syntaxe : \n",
    "\n",
    "def nom_de_la_fonction(argument1, argument2, ..., argument_n) :  \n",
    "&nbsp;&nbsp;&nbsp;&nbsp;&nbsp;&nbsp;&nbsp;&nbsp;&nbsp;&nbsp;&nbsp;&nbsp;&nbsp; listes_des_instructions  \n",
    "&nbsp;&nbsp;&nbsp;&nbsp;&nbsp;&nbsp;&nbsp;&nbsp;&nbsp;&nbsp;&nbsp;&nbsp;&nbsp;     return un_truc"
   ]
  },
  {
   "cell_type": "code",
   "execution_count": 53,
   "id": "f5e9a390",
   "metadata": {},
   "outputs": [],
   "source": [
    "def ma_fonction(arg1,arg2):\n",
    "    \"\"\"là je décris ma fonction\"\"\"\n",
    "    print(type(arg1))\n",
    "    print(type(arg2))\n",
    "    print(arg1*arg2)\n",
    "    return 'ok'"
   ]
  },
  {
   "cell_type": "code",
   "execution_count": 55,
   "id": "e23648cb",
   "metadata": {},
   "outputs": [
    {
     "name": "stdout",
     "output_type": "stream",
     "text": [
      "<class 'float'>\n",
      "<class 'int'>\n",
      "6.0\n"
     ]
    },
    {
     "data": {
      "text/plain": [
       "'ok'"
      ]
     },
     "execution_count": 55,
     "metadata": {},
     "output_type": "execute_result"
    }
   ],
   "source": [
    "ma_fonction(2.,3)"
   ]
  },
  {
   "cell_type": "code",
   "execution_count": 57,
   "id": "c95cc4b6",
   "metadata": {},
   "outputs": [],
   "source": [
    "# On peut obliger le type d'une variable : \n",
    "def ma_fonction_2(arg1,arg2):\n",
    "    \"\"\"là je décris ma fonction\"\"\"\n",
    "    assert type(arg1)==int\n",
    "    print(type(arg1))\n",
    "    print(type(arg2))\n",
    "    print(arg1*arg2)\n",
    "    return 'ok'"
   ]
  },
  {
   "cell_type": "code",
   "execution_count": 58,
   "id": "c82ea696",
   "metadata": {},
   "outputs": [
    {
     "ename": "AssertionError",
     "evalue": "",
     "output_type": "error",
     "traceback": [
      "\u001B[1;31m---------------------------------------------------------------------------\u001B[0m",
      "\u001B[1;31mAssertionError\u001B[0m                            Traceback (most recent call last)",
      "Cell \u001B[1;32mIn[58], line 1\u001B[0m\n\u001B[1;32m----> 1\u001B[0m \u001B[43mma_fonction_2\u001B[49m\u001B[43m(\u001B[49m\u001B[38;5;241;43m3.0\u001B[39;49m\u001B[43m,\u001B[49m\u001B[38;5;241;43m2\u001B[39;49m\u001B[43m)\u001B[49m\n",
      "Cell \u001B[1;32mIn[57], line 4\u001B[0m, in \u001B[0;36mma_fonction_2\u001B[1;34m(arg1, arg2)\u001B[0m\n\u001B[0;32m      2\u001B[0m \u001B[38;5;28;01mdef\u001B[39;00m \u001B[38;5;21mma_fonction_2\u001B[39m(arg1,arg2):\n\u001B[0;32m      3\u001B[0m     \u001B[38;5;124;03m\"\"\"là je décris ma fonction\"\"\"\u001B[39;00m\n\u001B[1;32m----> 4\u001B[0m     \u001B[38;5;28;01massert\u001B[39;00m \u001B[38;5;28mtype\u001B[39m(arg1)\u001B[38;5;241m==\u001B[39m\u001B[38;5;28mint\u001B[39m\n\u001B[0;32m      5\u001B[0m     \u001B[38;5;28mprint\u001B[39m(\u001B[38;5;28mtype\u001B[39m(arg1))\n\u001B[0;32m      6\u001B[0m     \u001B[38;5;28mprint\u001B[39m(\u001B[38;5;28mtype\u001B[39m(arg2))\n",
      "\u001B[1;31mAssertionError\u001B[0m: "
     ]
    }
   ],
   "source": [
    "ma_fonction_2(3.0,2)"
   ]
  },
  {
   "cell_type": "code",
   "execution_count": 60,
   "id": "d467a666",
   "metadata": {},
   "outputs": [
    {
     "name": "stdout",
     "output_type": "stream",
     "text": [
      "<class 'int'>\n",
      "<class 'float'>\n",
      "6.0\n"
     ]
    },
    {
     "data": {
      "text/plain": [
       "'ok'"
      ]
     },
     "execution_count": 60,
     "metadata": {},
     "output_type": "execute_result"
    }
   ],
   "source": [
    "ma_fonction_2(3,2.)"
   ]
  },
  {
   "cell_type": "markdown",
   "id": "57debb5c",
   "metadata": {},
   "source": [
    "# Les listes et tuples\n",
    "\n",
    "On a déjà vu que déclarer une liste se faisait avec des [] alors que des tuples on utilise des ().\n"
   ]
  },
  {
   "cell_type": "markdown",
   "id": "812a37ba",
   "metadata": {},
   "source": [
    "## Les listes"
   ]
  },
  {
   "cell_type": "code",
   "execution_count": 1,
   "id": "5606e7e2",
   "metadata": {},
   "outputs": [
    {
     "name": "stdout",
     "output_type": "stream",
     "text": [
      "[<class 'str'>, <class 'int'>, <class 'bool'>]\n"
     ]
    }
   ],
   "source": [
    "# Créer une liste vide \n",
    "\n",
    "lst_vide = []\n",
    "\n",
    "# Ou pas \n",
    "\n",
    "lst = ['str1', 'str2', 'str3']\n",
    "\n",
    "# avec des éléments de nature différente\n",
    "\n",
    "lst2 = ['str1', 45, True]\n",
    "\n",
    "print([type(lst2[i]) for i in range(len(lst2))])"
   ]
  },
  {
   "cell_type": "code",
   "execution_count": 2,
   "id": "990d66ec",
   "metadata": {},
   "outputs": [
    {
     "name": "stdout",
     "output_type": "stream",
     "text": [
      "['str1', 45, True, \"c'est pas faux\"]\n",
      "====================\n",
      "['str1', 'str3']\n"
     ]
    }
   ],
   "source": [
    "# On peut ajouterz des éléments\n",
    "\n",
    "lst2.append(\"c'est pas faux\")\n",
    "\n",
    "# en supprimer \n",
    "\n",
    "del lst[1]\n",
    "\n",
    "print(lst2)\n",
    "print('=='*10)\n",
    "print(lst)"
   ]
  },
  {
   "cell_type": "code",
   "execution_count": 3,
   "id": "051c10ea",
   "metadata": {},
   "outputs": [
    {
     "data": {
      "text/plain": [
       "[\"c'est\",\n",
       " 'une',\n",
       " 'longue',\n",
       " 'chaine',\n",
       " 'de',\n",
       " 'caractères',\n",
       " 'que',\n",
       " 'je',\n",
       " 'vais',\n",
       " 'essayer',\n",
       " 'de',\n",
       " 'faire',\n",
       " 'mais',\n",
       " 'sans',\n",
       " 'inspiration']"
      ]
     },
     "execution_count": 3,
     "metadata": {},
     "output_type": "execute_result"
    }
   ],
   "source": [
    "# on peut créer des listes à partir de string, très utile en nlp !\n",
    "\n",
    "\"c'est une longue chaine de caractères que je vais essayer de faire mais sans inspiration\".split()"
   ]
  },
  {
   "cell_type": "markdown",
   "id": "333a6520",
   "metadata": {},
   "source": [
    "split() utilise naturellement la virgule comme séparaterur ou espace, mais on peut lui en préciser d'autres"
   ]
  },
  {
   "cell_type": "code",
   "execution_count": 4,
   "id": "6e0f0153",
   "metadata": {},
   "outputs": [
    {
     "data": {
      "text/plain": [
       "['un', 'deux', 'trois']"
      ]
     },
     "execution_count": 4,
     "metadata": {},
     "output_type": "execute_result"
    }
   ],
   "source": [
    "\"un-deux-trois\".split('-')"
   ]
  },
  {
   "cell_type": "code",
   "execution_count": 5,
   "id": "4fa150cb",
   "metadata": {},
   "outputs": [
    {
     "data": {
      "text/plain": [
       "['str1', 'str3', 'str1', 45, True, \"c'est pas faux\"]"
      ]
     },
     "execution_count": 5,
     "metadata": {},
     "output_type": "execute_result"
    }
   ],
   "source": [
    "# ajouter deux listes enfin plutôt les concaténer\n",
    "\n",
    "lst + lst2 "
   ]
  },
  {
   "cell_type": "markdown",
   "id": "2c2d8437",
   "metadata": {},
   "source": [
    "## Les tuples"
   ]
  },
  {
   "cell_type": "markdown",
   "id": "38e916cf",
   "metadata": {},
   "source": [
    "C'est une liste mais avec des parenthèses, avec quelques différences : \n",
    "\n",
    "+ une fois assigné, on ne peut que lire un tuple et plus le modifier\n",
    "+ les tuples sont un peu plus performants que les listes.\n",
    "\n",
    "En général on préfère les listes !"
   ]
  },
  {
   "cell_type": "markdown",
   "id": "4c8c7a51",
   "metadata": {},
   "source": [
    "## Boucler dans des listes "
   ]
  },
  {
   "cell_type": "code",
   "execution_count": 6,
   "id": "c2111a17",
   "metadata": {},
   "outputs": [
    {
     "name": "stdout",
     "output_type": "stream",
     "text": [
      "str1\n",
      "45\n",
      "True\n",
      "c'est pas faux\n"
     ]
    }
   ],
   "source": [
    "for elt in lst2 :\n",
    "    print(elt)"
   ]
  },
  {
   "cell_type": "code",
   "execution_count": 8,
   "id": "771b54b6",
   "metadata": {},
   "outputs": [
    {
     "name": "stdout",
     "output_type": "stream",
     "text": [
      "l'index est 0 et l'item est str1.\n",
      "l'index est 1 et l'item est 45.\n",
      "l'index est 2 et l'item est True.\n",
      "l'index est 3 et l'item est c'est pas faux.\n"
     ]
    }
   ],
   "source": [
    "for index, item in enumerate(lst2) :\n",
    "    print(f\"l'index est {index} et l'item est {item}.\")"
   ]
  },
  {
   "cell_type": "code",
   "execution_count": 9,
   "id": "2ece13c5",
   "metadata": {},
   "outputs": [
    {
     "name": "stdout",
     "output_type": "stream",
     "text": [
      "str1\n",
      "45\n",
      "True\n",
      "c'est pas faux\n"
     ]
    },
    {
     "data": {
      "text/plain": [
       "[None, None, None, None]"
      ]
     },
     "execution_count": 9,
     "metadata": {},
     "output_type": "execute_result"
    }
   ],
   "source": [
    "# Les listes de compréhension sont souvent plus performantes :\n",
    "\n",
    "[print(elt) for elt in lst2]"
   ]
  },
  {
   "cell_type": "code",
   "execution_count": 11,
   "id": "73e9264d",
   "metadata": {},
   "outputs": [
    {
     "name": "stdout",
     "output_type": "stream",
     "text": [
      "str1\n",
      "c'est pas faux\n"
     ]
    },
    {
     "data": {
      "text/plain": [
       "[None, None]"
      ]
     },
     "execution_count": 11,
     "metadata": {},
     "output_type": "execute_result"
    }
   ],
   "source": [
    "[print(elt) for elt in lst2 if type(elt)==str]"
   ]
  },
  {
   "cell_type": "markdown",
   "id": "c03da2c4",
   "metadata": {},
   "source": [
    "# Les dictionnaires \n",
    "\n",
    "permet de stocker sous la forme de clé/valeur \n",
    "\n",
    "dico = {key1 = val1, key2=val2, ...}"
   ]
  },
  {
   "cell_type": "code",
   "execution_count": 19,
   "id": "4c74eaa0",
   "metadata": {},
   "outputs": [],
   "source": [
    "dico = {'key1':1, 'key2':45}"
   ]
  },
  {
   "cell_type": "code",
   "execution_count": 20,
   "id": "ffa1faa4",
   "metadata": {},
   "outputs": [
    {
     "data": {
      "text/plain": [
       "1"
      ]
     },
     "execution_count": 20,
     "metadata": {},
     "output_type": "execute_result"
    }
   ],
   "source": [
    "dico['key1']"
   ]
  },
  {
   "cell_type": "code",
   "execution_count": 22,
   "id": "e5cf786d",
   "metadata": {},
   "outputs": [
    {
     "data": {
      "text/plain": [
       "1"
      ]
     },
     "execution_count": 22,
     "metadata": {},
     "output_type": "execute_result"
    }
   ],
   "source": [
    "# pour afficher la valeur d'un clé dico.get('clé')\n",
    "\n",
    "dico.get('key1')"
   ]
  },
  {
   "cell_type": "code",
   "execution_count": 24,
   "id": "7eda69fa",
   "metadata": {},
   "outputs": [],
   "source": [
    "dico.get('key3')\n",
    "\n",
    "# La clé n'existe pas et ne ressort rien"
   ]
  },
  {
   "cell_type": "code",
   "execution_count": 26,
   "id": "f743caa5",
   "metadata": {},
   "outputs": [],
   "source": [
    "# Pour ajouter une clé et sa valeur\n",
    "\n",
    "dico['key3'] = 'pi'"
   ]
  },
  {
   "cell_type": "code",
   "execution_count": 27,
   "id": "f4660c23",
   "metadata": {},
   "outputs": [
    {
     "data": {
      "text/plain": [
       "{'key1': 1, 'key2': 45, 'key3': 'pi'}"
      ]
     },
     "execution_count": 27,
     "metadata": {},
     "output_type": "execute_result"
    }
   ],
   "source": [
    "dico"
   ]
  },
  {
   "cell_type": "code",
   "execution_count": 28,
   "id": "9504ba5d",
   "metadata": {},
   "outputs": [],
   "source": [
    "# Pour effacer une clé, comme pour les listes : del\n",
    "\n",
    "del dico['key2']"
   ]
  },
  {
   "cell_type": "code",
   "execution_count": 29,
   "id": "bd9b086c",
   "metadata": {},
   "outputs": [
    {
     "data": {
      "text/plain": [
       "{'key1': 1, 'key3': 'pi'}"
      ]
     },
     "execution_count": 29,
     "metadata": {},
     "output_type": "execute_result"
    }
   ],
   "source": [
    "dico"
   ]
  },
  {
   "cell_type": "code",
   "execution_count": 31,
   "id": "0eefbbb7",
   "metadata": {},
   "outputs": [
    {
     "name": "stdout",
     "output_type": "stream",
     "text": [
      "dict_keys(['key1', 'key3'])\n",
      "dict_values([1, 'pi'])\n"
     ]
    }
   ],
   "source": [
    "# pour récupérer les clés d'un dico \n",
    "\n",
    "print(dico.keys())\n",
    "\n",
    "# et les valeurs\n",
    "\n",
    "print(dico.values())"
   ]
  },
  {
   "cell_type": "code",
   "execution_count": 33,
   "id": "6211a72f",
   "metadata": {},
   "outputs": [
    {
     "name": "stdout",
     "output_type": "stream",
     "text": [
      "1\n",
      "pi\n",
      "==================================================\n",
      "1\n",
      "pi\n"
     ]
    }
   ],
   "source": [
    "# Pour boucler sur un dictionnaire, on peut boucler sur les clés et valeurs\n",
    "\n",
    "for key in dico.keys():\n",
    "    print(dico[key])\n",
    "    \n",
    "print('====='*10)\n",
    "\n",
    "\n",
    "for value in dico.values():\n",
    "    print(value)"
   ]
  },
  {
   "cell_type": "code",
   "execution_count": 34,
   "id": "8b0a9688",
   "metadata": {},
   "outputs": [
    {
     "name": "stdout",
     "output_type": "stream",
     "text": [
      "La clé est key1 et sa valeur 1\n",
      "===============\n",
      "La clé est key3 et sa valeur pi\n",
      "===============\n"
     ]
    }
   ],
   "source": [
    "# On a l'équivalent de enumerate pour les dictionnaires avec la fonction items():\n",
    "\n",
    "for key, value in dico.items():\n",
    "    print(f\"La clé est {key} et sa valeur {value}\")\n",
    "    print('==='*5)"
   ]
  },
  {
   "cell_type": "code",
   "execution_count": 35,
   "id": "9a50df10",
   "metadata": {},
   "outputs": [],
   "source": [
    "# On peut mixer les types et faire des listes de dictionnaires :\n",
    "# [{'key1':val1, 'key2':val2, ....}, {'key1':val11, 'key2':val22, ....} ]\n",
    "# dans l'idée les clés sont les mêmes et représentent les noms des colonnes et chaque dico une ligne\n",
    "\n",
    "list_de_dico = [{'key1':1, 'key2':45}, {'key1':4, 'key2':-3}]"
   ]
  },
  {
   "cell_type": "code",
   "execution_count": 36,
   "id": "39afa579",
   "metadata": {},
   "outputs": [
    {
     "data": {
      "text/plain": [
       "[{'key1': 1, 'key2': 45}, {'key1': 4, 'key2': -3}]"
      ]
     },
     "execution_count": 36,
     "metadata": {},
     "output_type": "execute_result"
    }
   ],
   "source": [
    "list_de_dico"
   ]
  },
  {
   "cell_type": "markdown",
   "id": "0f449e2e",
   "metadata": {},
   "source": [
    "# Manipuler des fichiers et dossiers "
   ]
  },
  {
   "cell_type": "code",
   "execution_count": 38,
   "id": "fcc5a93d",
   "metadata": {},
   "outputs": [
    {
     "name": "stdout",
     "output_type": "stream",
     "text": [
      " Le volume dans le lecteur C n’a pas de nom.\n",
      " Le numéro de série du volume est 20F8-6F99\n",
      "\n",
      " Répertoire de C:\\Users\\Utilisateur\\Desktop\\Ing 2 IA\\Chapitre 1 - Rappels Python & NN\n",
      "\n",
      "22/02/2024  21:52    <DIR>          .\n",
      "22/02/2024  21:52    <DIR>          ..\n",
      "21/02/2024  16:07             8 407 .$rgb.png.bkp\n",
      "21/02/2024  16:07             2 427 .$rgb.png.dtmp\n",
      "21/02/2024  22:03    <DIR>          .ipynb_checkpoints\n",
      "22/02/2024  21:50            43 488 Crash course de python.ipynb\n",
      "21/02/2024  10:05            28 260 cy.jpg\n",
      "07/04/2023  05:23             3 855 cytech.png\n",
      "11/02/2023  23:48           180 821 evolution_nombre_parametre.png\n",
      "22/02/2024  21:52                30 lignes.txt\n",
      "21/02/2024  16:48           125 050 network1.jpg\n",
      "21/02/2024  17:23            26 932 Rappels_sur_les_fc.ipynb\n",
      "21/02/2024  17:20           176 899 Rappels_sur_les_fc_corrigé.ipynb\n",
      "21/02/2024  16:07             8 407 rgb.png\n",
      "13/02/2023  01:59            95 730 simple_network.png\n",
      "              12 fichier(s)          700 306 octets\n",
      "               3 Rép(s)  71 045 570 560 octets libres\n"
     ]
    }
   ],
   "source": [
    "!dir"
   ]
  },
  {
   "cell_type": "code",
   "execution_count": 39,
   "id": "639305e6",
   "metadata": {},
   "outputs": [
    {
     "name": "stdout",
     "output_type": "stream",
     "text": [
      "ligne1\n"
     ]
    }
   ],
   "source": [
    "# lire un fichier\n",
    "\n",
    "filename = 'lignes.txt' # le nom du fichier\n",
    "file = open(filename) # on ouvre le fichier\n",
    "line = file.readline() # on lit la première ligne\n",
    "file.close() # on referme le fichier mais on garde en mémoire son contenu\n",
    "\n",
    "print(line)\n"
   ]
  },
  {
   "cell_type": "code",
   "execution_count": 40,
   "id": "ebf95d52",
   "metadata": {},
   "outputs": [
    {
     "name": "stdout",
     "output_type": "stream",
     "text": [
      "['ligne1\\n', 'ligne2\\n', 'ligne3\\n', 'ligne4']\n"
     ]
    }
   ],
   "source": [
    "# Pour lire toutes les lignes :\n",
    "\n",
    "filename = 'lignes.txt' \n",
    "file = open(filename)  \n",
    "lines = file.readlines()  # il y a un s en plus\n",
    "file.close()\n",
    "print(lines)\n"
   ]
  },
  {
   "cell_type": "code",
   "execution_count": 41,
   "id": "c2440e1d",
   "metadata": {},
   "outputs": [
    {
     "name": "stdout",
     "output_type": "stream",
     "text": [
      "['ligne1\\n', 'ligne2\\n', 'ligne3\\n', 'ligne4']\n"
     ]
    }
   ],
   "source": [
    "# le gros problème avec close, c'est d'oublier de l'écrire ... le fichier peut rester ouvert (et charger inutilement la mémoire)\n",
    "# la solution est d'utiliser with : \n",
    "\n",
    "filename = 'lignes.txt'\n",
    "with open(filename) as file:\n",
    "    lines = file.readlines()\n",
    "    \n",
    "print(lines)"
   ]
  },
  {
   "cell_type": "code",
   "execution_count": 46,
   "id": "e7a3d27a",
   "metadata": {},
   "outputs": [],
   "source": [
    "# on peut écrire dans un fichier :\n",
    "\n",
    "nouvelles_lignes = [\"/n\", 'ligne5/n', 'ligne6/n']\n",
    "\n",
    "with open(filename, \"a\") as file :\n",
    "    file.writelines(nouvelles_lignes)\n",
    "    \n",
    "# \"a\" signifie append, donc on ajoute des éléments, avec \"w\" on écrit par dessus les éléments existants"
   ]
  },
  {
   "cell_type": "code",
   "execution_count": 47,
   "id": "78222d21",
   "metadata": {},
   "outputs": [
    {
     "name": "stdout",
     "output_type": "stream",
     "text": [
      "['ligne1\\n', 'ligne2\\n', 'ligne3\\n', 'ligne4ligne5/nligne6/n/nligne5/nligne6/n/nligne5/nligne6/n']\n"
     ]
    }
   ],
   "source": [
    "with open(filename) as file:\n",
    "    lignes = file.readlines()\n",
    "\n",
    "print(lignes)"
   ]
  },
  {
   "cell_type": "code",
   "execution_count": 48,
   "id": "8d55d6e5",
   "metadata": {},
   "outputs": [],
   "source": [
    "# Pour créer un dossier \n",
    "\n",
    "import os\n",
    "\n",
    "os.mkdir('nouveau_dossier')"
   ]
  },
  {
   "cell_type": "code",
   "execution_count": 49,
   "id": "8c2194c4",
   "metadata": {},
   "outputs": [],
   "source": [
    "# il aurait fallu penser à vérifier qu'il n'existait pas déja ! \n",
    "from genericpath import exists\n",
    "import os\n",
    "\n",
    "if not exists(\"nouveau_dossier\"):\n",
    "    os.mkdir(\"nouveau_dossier\")"
   ]
  },
  {
   "cell_type": "markdown",
   "id": "d524ec52",
   "metadata": {},
   "source": [
    "ici on a créé dans le dossier courant un nouveau dossier, on peut évidemment écrire le chemin relatif ou absolu pour créer dans un endroit précis !\n",
    "\n",
    "Fin du notebook ! \n",
    "\n",
    "On va passer à des révisions sur numpy et pandas !"
   ]
  },
  {
   "cell_type": "code",
   "execution_count": null,
   "id": "4e270589",
   "metadata": {},
   "outputs": [],
   "source": []
  }
 ],
 "metadata": {
  "kernelspec": {
   "display_name": "Python 3 (ipykernel)",
   "language": "python",
   "name": "python3"
  },
  "language_info": {
   "codemirror_mode": {
    "name": "ipython",
    "version": 3
   },
   "file_extension": ".py",
   "mimetype": "text/x-python",
   "name": "python",
   "nbconvert_exporter": "python",
   "pygments_lexer": "ipython3",
   "version": "3.10.13"
  }
 },
 "nbformat": 4,
 "nbformat_minor": 5
}
