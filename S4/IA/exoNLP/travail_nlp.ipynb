{
 "cells": [
  {
   "cell_type": "markdown",
   "source": [
    "# Notebook Word2Vec\n",
    "Rédiger un notebook complet sur les plongements Word2Vec :\n",
    "- Explications du principe du Word2Vec\n",
    "- Applications sur le jeu de données de votre choix\n",
    "- Une fois, le plongement fait, faire un TSNE sous les mots plongés, et afficher sur un plot quelques mots (des opposés et des synonymes)"
   ],
   "metadata": {
    "collapsed": false
   },
   "id": "d3e4251efa008e2c"
  },
  {
   "cell_type": "markdown",
   "source": [
    "Word2Vec est une technique utilisée dans le traitement du langage naturel ou NLP pour représenter des mots en tant que vecteur. Ces vecteurs récupèrent le sens et le contexte d'un mot.\n",
    "# Idée principale\n",
    "- Word2Vec prend un grand nombre de données (corpus) en entrée.\n",
    "- Il crée ensuite un espace vectoriel dans lequel on assigne un vecteur unique avec un nombre spécifique de dimensions (des centaines) à chaque mot unique.\n",
    "- La clé est que chacun de ces vecteurs encode les similarités sémantiques et les relations entre les mots. Les mots avec un sens similaire auront des vecteurs similaires dans l'espace.\n",
    "# Apprentissage des intégrations\n",
    "Word2Vec utilise deux architectures principales pour entrainer le modèle et créé ces intégrations de mot :\n",
    "1. **Le Bag-Of-Word continu** :\n",
    "    - Ce modèle prédit un mot (mot cible) basé sur les mots du contexte environnant (une fenêtre de mot avant et après).\n",
    "    - En essayant de prédire le mot cible basé sur le contexte, le modèle apprend les relations sémantiques entre les mots.\n",
    "2. **Skip-gram** :\n",
    "    - Le modèle marche dans le sens opposé. Il prédit les mots du contexte environnants en se basant sur un seul mot en entrée.\n",
    "    - Encore, grâce à cette prédiction, le modèle capture les similarités sémantiques entre les mots.\n",
    "# Les benefices de la représentation Word2Vec\n",
    "- **Capture des relations sémantiques** : Les mots avec un sens similaire auront des vecteurs proches dans l'espace vectoriel. Cela permet de trouver des synonymes ou suggérer des mots en rapport. \n",
    "- **Reduction de la complexité** : Les vecteurs sont bien plus efficaces que de représenter les mots avec de l'encodage one-hot."
   ],
   "metadata": {
    "collapsed": false
   },
   "id": "fe5b0b08cc214f64"
  },
  {
   "cell_type": "markdown",
   "source": [
    "# Application sur un jeu de données\n",
    "\n",
    "## Commençons avec une tokenization d'un texte simple\n",
    "\n",
    "1. **Tout d'abord, on importe la bibliothèque NLTK :**"
   ],
   "metadata": {
    "collapsed": false
   },
   "id": "e075c8dd9ac8650e"
  },
  {
   "cell_type": "code",
   "outputs": [
    {
     "name": "stdout",
     "output_type": "stream",
     "text": [
      "showing info https://raw.githubusercontent.com/nltk/nltk_data/gh-pages/index.xml\n"
     ]
    },
    {
     "data": {
      "text/plain": "True"
     },
     "execution_count": 18,
     "metadata": {},
     "output_type": "execute_result"
    }
   ],
   "source": [
    "import nltk\n",
    "nltk.download()"
   ],
   "metadata": {
    "collapsed": false,
    "ExecuteTime": {
     "end_time": "2024-03-18T09:21:57.067881Z",
     "start_time": "2024-03-18T09:21:53.301913Z"
    }
   },
   "id": "61cf909c9f56d645",
   "execution_count": 18
  },
  {
   "cell_type": "markdown",
   "source": [
    "2. **Ensuite, on charge le texte que l'on veut :**"
   ],
   "metadata": {
    "collapsed": false
   },
   "id": "a089f936ac9baa2b"
  },
  {
   "cell_type": "code",
   "outputs": [],
   "source": [
    "text = \"Ceci est un texte de demonstration des fonctionnalités de NLTK.\""
   ],
   "metadata": {
    "collapsed": false,
    "ExecuteTime": {
     "end_time": "2024-03-18T09:21:59.034973Z",
     "start_time": "2024-03-18T09:21:59.030365Z"
    }
   },
   "id": "44c29b08c85e31a1",
   "execution_count": 19
  },
  {
   "cell_type": "markdown",
   "source": [
    "3. **On effectue la tokenisation :**"
   ],
   "metadata": {
    "collapsed": false
   },
   "id": "b75ae46a49c01b84"
  },
  {
   "cell_type": "code",
   "outputs": [
    {
     "name": "stdout",
     "output_type": "stream",
     "text": [
      "Tokens : ['Ceci', 'est', 'un', 'texte', 'de', 'demonstration', 'des', 'fonctionnalités', 'de', 'NLTK', '.']\n"
     ]
    }
   ],
   "source": [
    "tokens = nltk.word_tokenize(text)\n",
    "print(f\"Tokens : {tokens}\")"
   ],
   "metadata": {
    "collapsed": false,
    "ExecuteTime": {
     "end_time": "2024-03-18T09:22:00.520517Z",
     "start_time": "2024-03-18T09:22:00.516180Z"
    }
   },
   "id": "7e21805593e0a60",
   "execution_count": 20
  },
  {
   "cell_type": "markdown",
   "source": [
    "4. **Suppression des mots vides :**"
   ],
   "metadata": {
    "collapsed": false
   },
   "id": "f1c188e95a6cf6b8"
  },
  {
   "cell_type": "code",
   "outputs": [
    {
     "name": "stdout",
     "output_type": "stream",
     "text": [
      "Avec les mots vides retirés : ['Ceci', 'texte', 'demonstration', 'fonctionnalités', 'NLTK', '.']\n"
     ]
    }
   ],
   "source": [
    "stopwords = nltk.corpus.stopwords.words(\"french\")\n",
    "filtered_tokens = [token for token in tokens if token not in stopwords]\n",
    "print(f\"Avec les mots vides retirés : {filtered_tokens}\")"
   ],
   "metadata": {
    "collapsed": false,
    "ExecuteTime": {
     "end_time": "2024-03-18T09:22:05.344533Z",
     "start_time": "2024-03-18T09:22:05.338195Z"
    }
   },
   "id": "4c6315cf58c973e",
   "execution_count": 21
  },
  {
   "cell_type": "markdown",
   "source": [
    "5. **Marquage des mots avec leur grammaire :**"
   ],
   "metadata": {
    "collapsed": false
   },
   "id": "e66d59e886052e8"
  },
  {
   "cell_type": "code",
   "outputs": [
    {
     "name": "stdout",
     "output_type": "stream",
     "text": [
      "Grammaire des mots : [('Ceci', 'NNP'), ('texte', 'NN'), ('demonstration', 'NN'), ('fonctionnalités', 'NN'), ('NLTK', 'NNP'), ('.', '.')]\n"
     ]
    }
   ],
   "source": [
    "pos_tags = nltk.pos_tag(filtered_tokens)\n",
    "print(f\"Grammaire des mots : {pos_tags}\")"
   ],
   "metadata": {
    "collapsed": false,
    "ExecuteTime": {
     "end_time": "2024-03-18T09:22:09.220444Z",
     "start_time": "2024-03-18T09:22:09.214851Z"
    }
   },
   "id": "e1d19c85bbff734",
   "execution_count": 22
  },
  {
   "cell_type": "markdown",
   "source": [
    "6. **Named Entity Recognition :**"
   ],
   "metadata": {
    "collapsed": false
   },
   "id": "b74ef298e61917f2"
  },
  {
   "cell_type": "code",
   "outputs": [
    {
     "name": "stdout",
     "output_type": "stream",
     "text": [
      "Entities : (S\n",
      "  (GPE Ceci/NNP)\n",
      "  texte/NN\n",
      "  demonstration/NN\n",
      "  fonctionnalités/NN\n",
      "  (ORGANIZATION NLTK/NNP)\n",
      "  ./.)\n"
     ]
    }
   ],
   "source": [
    "entities = nltk.ne_chunk(pos_tags)\n",
    "print(f\"Entities : {entities}\")"
   ],
   "metadata": {
    "collapsed": false,
    "ExecuteTime": {
     "end_time": "2024-03-18T09:22:10.702436Z",
     "start_time": "2024-03-18T09:22:10.698538Z"
    }
   },
   "id": "9aee3b7a0763d514",
   "execution_count": 23
  },
  {
   "cell_type": "markdown",
   "source": [
    "## Maintenant avec un texte plus grand\n",
    "\n",
    "1. **On commence par récupérer le texte d'une page internet :**"
   ],
   "metadata": {
    "collapsed": false
   },
   "id": "cd91570b0e42e6ac"
  },
  {
   "cell_type": "code",
   "outputs": [
    {
     "name": "stdout",
     "output_type": "stream",
     "text": [
      "\n",
      "\n",
      "\n",
      "\n",
      "Pont de Gueuroz\n",
      "\n",
      " Le pont de 1934 au premier plan et le pont moderne le remplaçant.\n",
      "   \n",
      "\n",
      "Géographie\n",
      "\n",
      "Pays\n",
      "\n",
      "Suisse\n",
      "\n",
      "\n",
      "\n",
      "Canton\n",
      "\n",
      "Valais\n",
      "\n",
      "\n",
      "\n",
      "Commune\n",
      "\n",
      "Vernayaz\n",
      "\n",
      "\n",
      "\n",
      "Coordonnées géographiques 46° 07′ 43″ N, 7° 02′ 26″ E \n",
      "\n",
      "Fonction\n",
      "\n",
      "Franchit\n",
      "\n",
      "Trient\n",
      "\n",
      "\n",
      "\n",
      "Fonction\n",
      "\n",
      "Pont routier\n",
      "\n",
      "\n",
      "\n",
      "Caractéristiques techniques\n",
      "\n",
      "Type\n",
      "\n",
      "Pont en arc\n",
      "\n",
      "\n",
      "\n",
      "Longueur\n",
      "\n",
      "168,36 m\n",
      "\n",
      "\n",
      "\n",
      "Hauteur libre\n",
      "\n",
      "187 m\n",
      "\n",
      "\n",
      "\n",
      "Matériau(x)\n",
      "\n",
      "béton\n",
      "\n",
      "\n",
      "\n",
      "Construction\n",
      "\n",
      "Construction\n",
      "\n",
      "1931 à 1934\n",
      "\n",
      "\n",
      "\n",
      "Concepteur\n",
      "\n",
      "Alexandre Sarrasin\n",
      "\n",
      "\n",
      "\n",
      " \n",
      "\n",
      "Géolocalisation sur la carte : Suisse\n",
      "\n",
      "\n",
      "\n",
      "\n",
      "\n",
      "Géolocalisation sur la carte : canton du Valais\n",
      "\n",
      "\n",
      "\n",
      "\n",
      "\n",
      "\n",
      "\n",
      "\n",
      "modifier \n",
      "\n",
      "\n",
      "Le pont de Gueuroz est un pont en arc en béton armé situé en Suisse dans le canton du Valais[1]. Entre 1934 et 1963 il était le pont le plus haut d'Europe.\n",
      "\n",
      "Histoire[modifier | modifier le code]\n",
      "Il traverse les gorges du Trient à une hauteur de 187 mètres, entre les communes de Vernayaz et Salvan et relie Salvan à Martigny. Le pont a été construit entre 1931 et 1934 et fut le détenteur pendant 29 ans du record de hauteur en Europe avant d'être détrôné par l'Europabrücke [2]. Il a une longueur de 168,36 m[3]. Les ingénieurs chargés du projet étaient Alexandre Sarrasin (1895-1976) pour l'étude et Richard Coray pour la réalisation. Sarrasin a réussi à résoudre les problèmes liés à la vibration et fut un pionnier dans le domaine des grandes structures en béton.\n",
      "\n",
      "Nouveau pont[modifier | modifier le code]\n",
      "Un nouveau pont a été construit en 1994 à côté de l'ancien ouvrage[4]. Il a été conçu de manière à ne pas cacher l'architecture de l'ancien pont qui reste ouvert aux piétons et aux cyclistes. Le trafic routier emprunte quant à lui le nouveau pont.\n",
      "\n",
      "Références[modifier | modifier le code]\n",
      "\n",
      "Sur les autres projets Wikimedia :\n",
      "\n",
      "Les ponts du Gueuroz, sur Wikimedia Commons\n",
      "\n",
      "\n",
      "\n",
      "↑ Structurae [fr]: Pont du Gueuroz (1934)\n",
      "\n",
      "↑ Commune de Vernayaz - Historique - Miéville et Gueuroz\n",
      "\n",
      "↑ District de St.-Maurice\n",
      "\n",
      "↑ VS19 - Nouveau pont de Gueuroz sur le Trient, VS, 1994 à côté : ancien pont arc de Sarrasin\n",
      "\n",
      "\n",
      " Portail du Valais   Portail des ponts  \n",
      "\n",
      "\n",
      "\n",
      "\n",
      "Ce document provient de « https://fr.wikipedia.org/w/index.php?title=Pont_de_Gueuroz&oldid=195761046 ».\n"
     ]
    }
   ],
   "source": [
    "from bs4 import BeautifulSoup\n",
    "import urllib.request\n",
    "\n",
    "url = \"https://fr.wikipedia.org/wiki/Pont_de_Gueuroz\"\n",
    "\n",
    "response = urllib.request.urlopen(url)\n",
    "\n",
    "html_text = response.read()\n",
    "\n",
    "soup = BeautifulSoup(html_text, \"html.parser\")\n",
    "\n",
    "tag = soup.find(\"div\", {\"id\": \"mw-content-text\"})\n",
    "\n",
    "text = tag.text\n",
    "\n",
    "print(text)"
   ],
   "metadata": {
    "collapsed": false,
    "ExecuteTime": {
     "end_time": "2024-03-18T09:34:01.882142Z",
     "start_time": "2024-03-18T09:34:01.582804Z"
    }
   },
   "id": "4bbad9b0e41b9cce",
   "execution_count": 25
  },
  {
   "cell_type": "markdown",
   "source": [
    "2. **Ensuite, on effectue la tokenization :**"
   ],
   "metadata": {
    "collapsed": false
   },
   "id": "cfc6b0c609fa5b44"
  },
  {
   "cell_type": "code",
   "outputs": [
    {
     "name": "stdout",
     "output_type": "stream",
     "text": [
      "Tokens : ['Pont', 'de', 'Gueuroz', 'Le', 'pont', 'de', '1934', 'au', 'premier', 'plan', 'et', 'le', 'pont', 'moderne', 'le', 'remplaçant', '.', 'Géographie', 'Pays', 'Suisse', 'Canton', 'Valais', 'Commune', 'Vernayaz', 'Coordonnées', 'géographiques', '46°', '07′', '43″', 'N', ',', '7°', '02′', '26″', 'E', 'Fonction', 'Franchit', 'Trient', 'Fonction', 'Pont', 'routier', 'Caractéristiques', 'techniques', 'Type', 'Pont', 'en', 'arc', 'Longueur', '168,36', 'm', 'Hauteur', 'libre', '187', 'm', 'Matériau', '(', 'x', ')', 'béton', 'Construction', 'Construction', '1931', 'à', '1934', 'Concepteur', 'Alexandre', 'Sarrasin', 'Géolocalisation', 'sur', 'la', 'carte', ':', 'Suisse', 'Géolocalisation', 'sur', 'la', 'carte', ':', 'canton', 'du', 'Valais', 'modifier', 'Le', 'pont', 'de', 'Gueuroz', 'est', 'un', 'pont', 'en', 'arc', 'en', 'béton', 'armé', 'situé', 'en', 'Suisse', 'dans', 'le', 'canton', 'du', 'Valais', '[', '1', ']', '.', 'Entre', '1934', 'et', '1963', 'il', 'était', 'le', 'pont', 'le', 'plus', 'haut', \"d'Europe\", '.', 'Histoire', '[', 'modifier', '|', 'modifier', 'le', 'code', ']', 'Il', 'traverse', 'les', 'gorges', 'du', 'Trient', 'à', 'une', 'hauteur', 'de', '187', 'mètres', ',', 'entre', 'les', 'communes', 'de', 'Vernayaz', 'et', 'Salvan', 'et', 'relie', 'Salvan', 'à', 'Martigny', '.', 'Le', 'pont', 'a', 'été', 'construit', 'entre', '1931', 'et', '1934', 'et', 'fut', 'le', 'détenteur', 'pendant', '29', 'ans', 'du', 'record', 'de', 'hauteur', 'en', 'Europe', 'avant', \"d'être\", 'détrôné', 'par', \"l'Europabrücke\", '[', '2', ']', '.', 'Il', 'a', 'une', 'longueur', 'de', '168,36', 'm', '[', '3', ']', '.', 'Les', 'ingénieurs', 'chargés', 'du', 'projet', 'étaient', 'Alexandre', 'Sarrasin', '(', '1895-1976', ')', 'pour', \"l'étude\", 'et', 'Richard', 'Coray', 'pour', 'la', 'réalisation', '.', 'Sarrasin', 'a', 'réussi', 'à', 'résoudre', 'les', 'problèmes', 'liés', 'à', 'la', 'vibration', 'et', 'fut', 'un', 'pionnier', 'dans', 'le', 'domaine', 'des', 'grandes', 'structures', 'en', 'béton', '.', 'Nouveau', 'pont', '[', 'modifier', '|', 'modifier', 'le', 'code', ']', 'Un', 'nouveau', 'pont', 'a', 'été', 'construit', 'en', '1994', 'à', 'côté', 'de', \"l'ancien\", 'ouvrage', '[', '4', ']', '.', 'Il', 'a', 'été', 'conçu', 'de', 'manière', 'à', 'ne', 'pas', 'cacher', \"l'architecture\", 'de', \"l'ancien\", 'pont', 'qui', 'reste', 'ouvert', 'aux', 'piétons', 'et', 'aux', 'cyclistes', '.', 'Le', 'trafic', 'routier', 'emprunte', 'quant', 'à', 'lui', 'le', 'nouveau', 'pont', '.', 'Références', '[', 'modifier', '|', 'modifier', 'le', 'code', ']', 'Sur', 'les', 'autres', 'projets', 'Wikimedia', ':', 'Les', 'ponts', 'du', 'Gueuroz', ',', 'sur', 'Wikimedia', 'Commons', '↑', 'Structurae', '[', 'fr', ']', ':', 'Pont', 'du', 'Gueuroz', '(', '1934', ')', '↑', 'Commune', 'de', 'Vernayaz', '-', 'Historique', '-', 'Miéville', 'et', 'Gueuroz', '↑', 'District', 'de', 'St.-Maurice', '↑', 'VS19', '-', 'Nouveau', 'pont', 'de', 'Gueuroz', 'sur', 'le', 'Trient', ',', 'VS', ',', '1994', 'à', 'côté', ':', 'ancien', 'pont', 'arc', 'de', 'Sarrasin', 'Portail', 'du', 'Valais', 'Portail', 'des', 'ponts', 'Ce', 'document', 'provient', 'de', '«', 'https', ':', '//fr.wikipedia.org/w/index.php', '?', 'title=Pont_de_Gueuroz', '&', 'oldid=195761046', '»', '.']\n"
     ]
    }
   ],
   "source": [
    "tokens = nltk.word_tokenize(text)\n",
    "print(f\"Tokens : {tokens}\")"
   ],
   "metadata": {
    "collapsed": false,
    "ExecuteTime": {
     "end_time": "2024-03-18T09:36:14.190171Z",
     "start_time": "2024-03-18T09:36:14.184086Z"
    }
   },
   "id": "2b66975009ecc972",
   "execution_count": 27
  },
  {
   "cell_type": "markdown",
   "source": [
    "3. **On peut donc néttoyer le texte en supprimant les mots vides :**"
   ],
   "metadata": {
    "collapsed": false
   },
   "id": "bcdb01e67f2c2ff7"
  },
  {
   "cell_type": "code",
   "outputs": [
    {
     "name": "stdout",
     "output_type": "stream",
     "text": [
      "Avec les mots vides retirés : ['Pont', 'Gueuroz', 'Le', 'pont', '1934', 'premier', 'plan', 'pont', 'moderne', 'remplaçant', '.', 'Géographie', 'Pays', 'Suisse', 'Canton', 'Valais', 'Commune', 'Vernayaz', 'Coordonnées', 'géographiques', '46°', '07′', '43″', 'N', ',', '7°', '02′', '26″', 'E', 'Fonction', 'Franchit', 'Trient', 'Fonction', 'Pont', 'routier', 'Caractéristiques', 'techniques', 'Type', 'Pont', 'arc', 'Longueur', '168,36', 'Hauteur', 'libre', '187', 'Matériau', '(', 'x', ')', 'béton', 'Construction', 'Construction', '1931', '1934', 'Concepteur', 'Alexandre', 'Sarrasin', 'Géolocalisation', 'carte', ':', 'Suisse', 'Géolocalisation', 'carte', ':', 'canton', 'Valais', 'modifier', 'Le', 'pont', 'Gueuroz', 'pont', 'arc', 'béton', 'armé', 'situé', 'Suisse', 'canton', 'Valais', '[', '1', ']', '.', 'Entre', '1934', '1963', 'pont', 'plus', 'haut', \"d'Europe\", '.', 'Histoire', '[', 'modifier', '|', 'modifier', 'code', ']', 'Il', 'traverse', 'gorges', 'Trient', 'hauteur', '187', 'mètres', ',', 'entre', 'communes', 'Vernayaz', 'Salvan', 'relie', 'Salvan', 'Martigny', '.', 'Le', 'pont', 'a', 'construit', 'entre', '1931', '1934', 'détenteur', 'pendant', '29', 'ans', 'record', 'hauteur', 'Europe', 'avant', \"d'être\", 'détrôné', \"l'Europabrücke\", '[', '2', ']', '.', 'Il', 'a', 'longueur', '168,36', '[', '3', ']', '.', 'Les', 'ingénieurs', 'chargés', 'projet', 'Alexandre', 'Sarrasin', '(', '1895-1976', ')', \"l'étude\", 'Richard', 'Coray', 'réalisation', '.', 'Sarrasin', 'a', 'réussi', 'résoudre', 'problèmes', 'liés', 'vibration', 'pionnier', 'domaine', 'grandes', 'structures', 'béton', '.', 'Nouveau', 'pont', '[', 'modifier', '|', 'modifier', 'code', ']', 'Un', 'nouveau', 'pont', 'a', 'construit', '1994', 'côté', \"l'ancien\", 'ouvrage', '[', '4', ']', '.', 'Il', 'a', 'conçu', 'manière', 'cacher', \"l'architecture\", \"l'ancien\", 'pont', 'reste', 'ouvert', 'piétons', 'cyclistes', '.', 'Le', 'trafic', 'routier', 'emprunte', 'quant', 'nouveau', 'pont', '.', 'Références', '[', 'modifier', '|', 'modifier', 'code', ']', 'Sur', 'autres', 'projets', 'Wikimedia', ':', 'Les', 'ponts', 'Gueuroz', ',', 'Wikimedia', 'Commons', '↑', 'Structurae', '[', 'fr', ']', ':', 'Pont', 'Gueuroz', '(', '1934', ')', '↑', 'Commune', 'Vernayaz', '-', 'Historique', '-', 'Miéville', 'Gueuroz', '↑', 'District', 'St.-Maurice', '↑', 'VS19', '-', 'Nouveau', 'pont', 'Gueuroz', 'Trient', ',', 'VS', ',', '1994', 'côté', ':', 'ancien', 'pont', 'arc', 'Sarrasin', 'Portail', 'Valais', 'Portail', 'ponts', 'Ce', 'document', 'provient', '«', 'https', ':', '//fr.wikipedia.org/w/index.php', '?', 'title=Pont_de_Gueuroz', '&', 'oldid=195761046', '»', '.']\n"
     ]
    }
   ],
   "source": [
    "stopwords = nltk.corpus.stopwords.words(\"french\")\n",
    "filtered_tokens = [token for token in tokens if token not in stopwords]\n",
    "print(f\"Avec les mots vides retirés : {filtered_tokens}\")"
   ],
   "metadata": {
    "collapsed": false,
    "ExecuteTime": {
     "end_time": "2024-03-18T09:41:09.642877Z",
     "start_time": "2024-03-18T09:41:09.637237Z"
    }
   },
   "id": "6796f99808d3de4e",
   "execution_count": 28
  },
  {
   "cell_type": "markdown",
   "source": [
    "4. **Et on associe à chaque mot son analyse lexicale :**"
   ],
   "metadata": {
    "collapsed": false
   },
   "id": "aafb2617eac900fb"
  },
  {
   "cell_type": "code",
   "outputs": [
    {
     "name": "stdout",
     "output_type": "stream",
     "text": [
      "Grammaires des mots : [('Pont', 'NNP'), ('Gueuroz', 'NNP'), ('Le', 'NNP'), ('pont', 'NN'), ('1934', 'CD'), ('premier', 'NN'), ('plan', 'NN'), ('pont', 'VBP'), ('moderne', 'JJ'), ('remplaçant', 'NN'), ('.', '.'), ('Géographie', 'NNP'), ('Pays', 'NNP'), ('Suisse', 'NNP'), ('Canton', 'NNP'), ('Valais', 'NNP'), ('Commune', 'NNP'), ('Vernayaz', 'NNP'), ('Coordonnées', 'NNP'), ('géographiques', 'VBZ'), ('46°', 'CD'), ('07′', 'CD'), ('43″', 'CD'), ('N', 'NNP'), (',', ','), ('7°', 'CD'), ('02′', 'CD'), ('26″', 'CD'), ('E', 'NNP'), ('Fonction', 'NNP'), ('Franchit', 'NNP'), ('Trient', 'NNP'), ('Fonction', 'NNP'), ('Pont', 'NNP'), ('routier', 'JJR'), ('Caractéristiques', 'NNP'), ('techniques', 'NNS'), ('Type', 'NNP'), ('Pont', 'NNP'), ('arc', 'VBD'), ('Longueur', 'NNP'), ('168,36', 'CD'), ('Hauteur', 'NNP'), ('libre', 'VBD'), ('187', 'CD'), ('Matériau', 'NNP'), ('(', '('), ('x', 'NNP'), (')', ')'), ('béton', 'NN'), ('Construction', 'NNP'), ('Construction', 'NN'), ('1931', 'CD'), ('1934', 'CD'), ('Concepteur', 'NNP'), ('Alexandre', 'NNP'), ('Sarrasin', 'NNP'), ('Géolocalisation', 'NNP'), ('carte', 'NN'), (':', ':'), ('Suisse', 'NNP'), ('Géolocalisation', 'NNP'), ('carte', 'NN'), (':', ':'), ('canton', 'NN'), ('Valais', 'NNP'), ('modifier', 'NN'), ('Le', 'NNP'), ('pont', 'NN'), ('Gueuroz', 'NNP'), ('pont', 'NN'), ('arc', 'NN'), ('béton', 'NN'), ('armé', 'NN'), ('situé', 'NN'), ('Suisse', 'NNP'), ('canton', 'NN'), ('Valais', 'NNP'), ('[', 'VBZ'), ('1', 'CD'), (']', 'NN'), ('.', '.'), ('Entre', 'NNP'), ('1934', 'CD'), ('1963', 'CD'), ('pont', 'NN'), ('plus', 'CC'), ('haut', 'JJ'), (\"d'Europe\", 'NN'), ('.', '.'), ('Histoire', 'NNP'), ('[', 'NNP'), ('modifier', 'JJR'), ('|', 'NNP'), ('modifier', 'JJR'), ('code', 'NN'), (']', 'NNP'), ('Il', 'NNP'), ('traverse', 'NN'), ('gorges', 'NNS'), ('Trient', 'NNP'), ('hauteur', 'NN'), ('187', 'CD'), ('mètres', 'NNS'), (',', ','), ('entre', 'JJ'), ('communes', 'NNS'), ('Vernayaz', 'NNP'), ('Salvan', 'NNP'), ('relie', 'VBZ'), ('Salvan', 'NNP'), ('Martigny', 'NNP'), ('.', '.'), ('Le', 'NNP'), ('pont', 'VBD'), ('a', 'DT'), ('construit', 'NN'), ('entre', 'NN'), ('1931', 'CD'), ('1934', 'CD'), ('détenteur', 'NN'), ('pendant', 'JJ'), ('29', 'CD'), ('ans', 'NNS'), ('record', 'JJ'), ('hauteur', 'NN'), ('Europe', 'NNP'), ('avant', 'NN'), (\"d'être\", 'NN'), ('détrôné', 'NN'), (\"l'Europabrücke\", 'VBD'), ('[', '$'), ('2', 'CD'), (']', 'NNP'), ('.', '.'), ('Il', 'NNP'), ('a', 'DT'), ('longueur', 'NN'), ('168,36', 'CD'), ('[', 'NN'), ('3', 'CD'), (']', 'NN'), ('.', '.'), ('Les', 'NNP'), ('ingénieurs', 'VBZ'), ('chargés', 'JJ'), ('projet', 'NN'), ('Alexandre', 'NNP'), ('Sarrasin', 'NNP'), ('(', '('), ('1895-1976', 'JJ'), (')', ')'), (\"l'étude\", 'VBP'), ('Richard', 'NNP'), ('Coray', 'NNP'), ('réalisation', 'NN'), ('.', '.'), ('Sarrasin', 'VB'), ('a', 'DT'), ('réussi', 'NN'), ('résoudre', 'NN'), ('problèmes', 'NNS'), ('liés', 'JJ'), ('vibration', 'NN'), ('pionnier', 'NN'), ('domaine', 'NN'), ('grandes', 'NNS'), ('structures', 'VBZ'), ('béton', 'NN'), ('.', '.'), ('Nouveau', 'NNP'), ('pont', 'JJ'), ('[', 'NNP'), ('modifier', 'NN'), ('|', 'NNP'), ('modifier', 'NN'), ('code', 'NN'), (']', 'NNP'), ('Un', 'NNP'), ('nouveau', 'NN'), ('pont', 'VBD'), ('a', 'DT'), ('construit', 'NN'), ('1994', 'CD'), ('côté', 'NN'), (\"l'ancien\", 'JJ'), ('ouvrage', 'NN'), ('[', 'VBD'), ('4', 'CD'), (']', 'NN'), ('.', '.'), ('Il', 'VBZ'), ('a', 'DT'), ('conçu', 'NN'), ('manière', 'NN'), ('cacher', 'NN'), (\"l'architecture\", 'NN'), (\"l'ancien\", 'NN'), ('pont', 'NN'), ('reste', 'NN'), ('ouvert', 'JJ'), ('piétons', 'NNS'), ('cyclistes', 'NNS'), ('.', '.'), ('Le', 'NNP'), ('trafic', 'JJ'), ('routier', 'NN'), ('emprunte', 'NN'), ('quant', 'NN'), ('nouveau', 'NN'), ('pont', 'NN'), ('.', '.'), ('Références', 'NNS'), ('[', 'VBP'), ('modifier', 'JJR'), ('|', 'NNP'), ('modifier', 'JJR'), ('code', 'NN'), (']', 'NNP'), ('Sur', 'NNP'), ('autres', 'VBZ'), ('projets', 'NNS'), ('Wikimedia', 'NNP'), (':', ':'), ('Les', 'JJ'), ('ponts', 'NNS'), ('Gueuroz', 'NNP'), (',', ','), ('Wikimedia', 'NNP'), ('Commons', 'NNP'), ('↑', 'NNP'), ('Structurae', 'NNP'), ('[', 'NNP'), ('fr', 'VBD'), (']', 'NN'), (':', ':'), ('Pont', 'NNP'), ('Gueuroz', 'NNP'), ('(', '('), ('1934', 'CD'), (')', ')'), ('↑', 'FW'), ('Commune', 'NNP'), ('Vernayaz', 'NNP'), ('-', ':'), ('Historique', 'NNP'), ('-', ':'), ('Miéville', 'NNP'), ('Gueuroz', 'NNP'), ('↑', 'NNP'), ('District', 'NNP'), ('St.-Maurice', 'NNP'), ('↑', 'NNP'), ('VS19', 'NNP'), ('-', ':'), ('Nouveau', 'NNP'), ('pont', 'NN'), ('Gueuroz', 'NNP'), ('Trient', 'NNP'), (',', ','), ('VS', 'NNP'), (',', ','), ('1994', 'CD'), ('côté', 'NN'), (':', ':'), ('ancien', 'NN'), ('pont', 'NN'), ('arc', 'NN'), ('Sarrasin', 'NNP'), ('Portail', 'NNP'), ('Valais', 'NNP'), ('Portail', 'NNP'), ('ponts', 'NNS'), ('Ce', 'NNP'), ('document', 'NN'), ('provient', 'NN'), ('«', 'NNP'), ('https', 'NN'), (':', ':'), ('//fr.wikipedia.org/w/index.php', 'NN'), ('?', '.'), ('title=Pont_de_Gueuroz', 'NN'), ('&', 'CC'), ('oldid=195761046', 'NN'), ('»', 'NN'), ('.', '.')]\n"
     ]
    }
   ],
   "source": [
    "pos_tags = nltk.pos_tag(filtered_tokens)\n",
    "print(f\"Grammaires des mots : {pos_tags}\")"
   ],
   "metadata": {
    "collapsed": false,
    "ExecuteTime": {
     "end_time": "2024-03-18T09:46:42.883441Z",
     "start_time": "2024-03-18T09:46:42.862065Z"
    }
   },
   "id": "2f92ecc4dc5e70f4",
   "execution_count": 29
  },
  {
   "cell_type": "markdown",
   "source": [
    "## Maintenant, on peut continuer avec la représentation en Word2Vec\n",
    "1. **Pour cela on va utiliser Gensim :**"
   ],
   "metadata": {
    "collapsed": false
   },
   "id": "da6c68c1fa02b80f"
  },
  {
   "cell_type": "code",
   "outputs": [],
   "source": [
    "from gensim.models import Word2Vec"
   ],
   "metadata": {
    "collapsed": false,
    "ExecuteTime": {
     "end_time": "2024-03-18T09:58:16.948910Z",
     "start_time": "2024-03-18T09:58:16.844208Z"
    }
   },
   "id": "2a9a6cc47e247970",
   "execution_count": 30
  },
  {
   "cell_type": "markdown",
   "source": [
    "2. **On crée le model :**"
   ],
   "metadata": {
    "collapsed": false
   },
   "id": "c5b369c0bbd952a4"
  },
  {
   "cell_type": "code",
   "outputs": [],
   "source": [
    "model = Word2Vec(filtered_tokens, min_count=1)"
   ],
   "metadata": {
    "collapsed": false,
    "ExecuteTime": {
     "end_time": "2024-03-18T10:13:59.780441Z",
     "start_time": "2024-03-18T10:13:59.761089Z"
    }
   },
   "id": "33480e4240658e79",
   "execution_count": 54
  },
  {
   "cell_type": "markdown",
   "source": [
    "3. **On peut maintenant utiliser le model :**"
   ],
   "metadata": {
    "collapsed": false
   },
   "id": "7d1a543edde089d6"
  },
  {
   "cell_type": "code",
   "outputs": [
    {
     "name": "stdout",
     "output_type": "stream",
     "text": [
      "KeyedVectors<vector_size=100, 81 keys>\n"
     ]
    }
   ],
   "source": [
    "print(model.wv)"
   ],
   "metadata": {
    "collapsed": false,
    "ExecuteTime": {
     "end_time": "2024-03-18T10:15:10.941724Z",
     "start_time": "2024-03-18T10:15:10.938070Z"
    }
   },
   "id": "255a5ef5db589f37",
   "execution_count": 62
  }
 ],
 "metadata": {
  "kernelspec": {
   "display_name": "Python 3",
   "language": "python",
   "name": "python3"
  },
  "language_info": {
   "codemirror_mode": {
    "name": "ipython",
    "version": 2
   },
   "file_extension": ".py",
   "mimetype": "text/x-python",
   "name": "python",
   "nbconvert_exporter": "python",
   "pygments_lexer": "ipython2",
   "version": "2.7.6"
  }
 },
 "nbformat": 4,
 "nbformat_minor": 5
}
